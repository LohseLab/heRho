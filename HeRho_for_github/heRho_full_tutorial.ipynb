{
 "cells": [
  {
   "cell_type": "code",
   "execution_count": 140,
   "id": "minute-samba",
   "metadata": {},
   "outputs": [],
   "source": [
    "import numpy as np\n",
    "import nlopt\n",
    "import pandas as pd\n",
    "from math import log, exp\n",
    "from multiprocessing import Pool, cpu_count\n",
    "import time\n",
    "import matplotlib.pyplot as plt\n",
    "%matplotlib inline"
   ]
  },
  {
   "cell_type": "markdown",
   "id": "piano-syndrome",
   "metadata": {},
   "source": [
    "# Importing the data and defining plotting options"
   ]
  },
  {
   "cell_type": "markdown",
   "id": "national-jewel",
   "metadata": {},
   "source": [
    "#### the data should be formatted as per the following table (indexing excluded). \n",
    "That is, tab-separated with column names as shown below and in the example input data file. \n",
    "\n",
    "Entries in 'name' and 'chromosome' may be strings.\n"
   ]
  },
  {
   "cell_type": "code",
   "execution_count": 157,
   "id": "active-twelve",
   "metadata": {},
   "outputs": [
    {
     "data": {
      "text/html": [
       "<div>\n",
       "<style scoped>\n",
       "    .dataframe tbody tr th:only-of-type {\n",
       "        vertical-align: middle;\n",
       "    }\n",
       "\n",
       "    .dataframe tbody tr th {\n",
       "        vertical-align: top;\n",
       "    }\n",
       "\n",
       "    .dataframe thead th {\n",
       "        text-align: right;\n",
       "    }\n",
       "</style>\n",
       "<table border=\"1\" class=\"dataframe\">\n",
       "  <thead>\n",
       "    <tr style=\"text-align: right;\">\n",
       "      <th></th>\n",
       "      <th>name</th>\n",
       "      <th>chromosome</th>\n",
       "      <th>distance</th>\n",
       "      <th>H0</th>\n",
       "      <th>H1</th>\n",
       "      <th>H2</th>\n",
       "      <th>theta</th>\n",
       "    </tr>\n",
       "  </thead>\n",
       "  <tbody>\n",
       "    <tr>\n",
       "      <th>0</th>\n",
       "      <td>H12</td>\n",
       "      <td>chr1</td>\n",
       "      <td>1</td>\n",
       "      <td>62864864</td>\n",
       "      <td>844714</td>\n",
       "      <td>13604</td>\n",
       "      <td>0.006841</td>\n",
       "    </tr>\n",
       "    <tr>\n",
       "      <th>1</th>\n",
       "      <td>H12</td>\n",
       "      <td>chr1</td>\n",
       "      <td>2</td>\n",
       "      <td>62850711</td>\n",
       "      <td>854466</td>\n",
       "      <td>8706</td>\n",
       "      <td>0.006842</td>\n",
       "    </tr>\n",
       "    <tr>\n",
       "      <th>2</th>\n",
       "      <td>H12</td>\n",
       "      <td>chr1</td>\n",
       "      <td>3</td>\n",
       "      <td>62840557</td>\n",
       "      <td>856190</td>\n",
       "      <td>7807</td>\n",
       "      <td>0.006843</td>\n",
       "    </tr>\n",
       "    <tr>\n",
       "      <th>3</th>\n",
       "      <td>H12</td>\n",
       "      <td>chr1</td>\n",
       "      <td>4</td>\n",
       "      <td>62831402</td>\n",
       "      <td>855898</td>\n",
       "      <td>7907</td>\n",
       "      <td>0.006843</td>\n",
       "    </tr>\n",
       "    <tr>\n",
       "      <th>4</th>\n",
       "      <td>H12</td>\n",
       "      <td>chr1</td>\n",
       "      <td>5</td>\n",
       "      <td>62821707</td>\n",
       "      <td>856675</td>\n",
       "      <td>7467</td>\n",
       "      <td>0.006843</td>\n",
       "    </tr>\n",
       "    <tr>\n",
       "      <th>...</th>\n",
       "      <td>...</td>\n",
       "      <td>...</td>\n",
       "      <td>...</td>\n",
       "      <td>...</td>\n",
       "      <td>...</td>\n",
       "      <td>...</td>\n",
       "      <td>...</td>\n",
       "    </tr>\n",
       "    <tr>\n",
       "      <th>19995</th>\n",
       "      <td>H36</td>\n",
       "      <td>chr2</td>\n",
       "      <td>996</td>\n",
       "      <td>60234782</td>\n",
       "      <td>832824</td>\n",
       "      <td>3753</td>\n",
       "      <td>0.006880</td>\n",
       "    </tr>\n",
       "    <tr>\n",
       "      <th>19996</th>\n",
       "      <td>H36</td>\n",
       "      <td>chr2</td>\n",
       "      <td>997</td>\n",
       "      <td>60224324</td>\n",
       "      <td>832716</td>\n",
       "      <td>3741</td>\n",
       "      <td>0.006880</td>\n",
       "    </tr>\n",
       "    <tr>\n",
       "      <th>19997</th>\n",
       "      <td>H36</td>\n",
       "      <td>chr2</td>\n",
       "      <td>998</td>\n",
       "      <td>60213978</td>\n",
       "      <td>832370</td>\n",
       "      <td>3841</td>\n",
       "      <td>0.006880</td>\n",
       "    </tr>\n",
       "    <tr>\n",
       "      <th>19998</th>\n",
       "      <td>H36</td>\n",
       "      <td>chr2</td>\n",
       "      <td>999</td>\n",
       "      <td>60203358</td>\n",
       "      <td>832565</td>\n",
       "      <td>3667</td>\n",
       "      <td>0.006880</td>\n",
       "    </tr>\n",
       "    <tr>\n",
       "      <th>19999</th>\n",
       "      <td>H36</td>\n",
       "      <td>chr2</td>\n",
       "      <td>1000</td>\n",
       "      <td>60193108</td>\n",
       "      <td>832012</td>\n",
       "      <td>3863</td>\n",
       "      <td>0.006880</td>\n",
       "    </tr>\n",
       "  </tbody>\n",
       "</table>\n",
       "<p>20000 rows × 7 columns</p>\n",
       "</div>"
      ],
      "text/plain": [
       "      name chromosome  distance        H0      H1     H2     theta\n",
       "0      H12       chr1         1  62864864  844714  13604  0.006841\n",
       "1      H12       chr1         2  62850711  854466   8706  0.006842\n",
       "2      H12       chr1         3  62840557  856190   7807  0.006843\n",
       "3      H12       chr1         4  62831402  855898   7907  0.006843\n",
       "4      H12       chr1         5  62821707  856675   7467  0.006843\n",
       "...    ...        ...       ...       ...     ...    ...       ...\n",
       "19995  H36       chr2       996  60234782  832824   3753  0.006880\n",
       "19996  H36       chr2       997  60224324  832716   3741  0.006880\n",
       "19997  H36       chr2       998  60213978  832370   3841  0.006880\n",
       "19998  H36       chr2       999  60203358  832565   3667  0.006880\n",
       "19999  H36       chr2      1000  60193108  832012   3863  0.006880\n",
       "\n",
       "[20000 rows x 7 columns]"
      ]
     },
     "execution_count": 157,
     "metadata": {},
     "output_type": "execute_result"
    }
   ],
   "source": [
    "df = pd.read_csv('example_data.tsv',delimiter='\\t')\n",
    "df\n",
    "\n",
    "chrNames = df['chromosome'].unique()\n",
    "print(chrNames)\n",
    "numChrs = len(chrNames)"
   ]
  },
  {
   "cell_type": "code",
   "execution_count": 158,
   "id": "critical-antarctica",
   "metadata": {},
   "outputs": [
    {
     "name": "stdout",
     "output_type": "stream",
     "text": [
      "['chr1' 'chr2']\n"
     ]
    }
   ],
   "source": [
    "## formatting choices for plots below ##\n",
    "\n",
    "plt.rcParams[\"axes.prop_cycle\"] = plt.cycler(\"color\", plt.cm.viridis(list(np.linspace(0,1,numChrs))))\n",
    "font = {'family' : 'Arial',\n",
    "        'weight' : 'bold',\n",
    "        'size'   : 13}\n",
    "fontLabel = {'family' : 'Arial',\n",
    "        'weight' : 'bold',\n",
    "        'size'   : 14}\n",
    "\n",
    "plt.rc('font', **font)"
   ]
  },
  {
   "cell_type": "markdown",
   "id": "hungarian-accused",
   "metadata": {},
   "source": [
    "# formatting the data\n",
    "Note that 'combine_chr_across_individuals()' is needed even for a sample of 1 to format the data correctly"
   ]
  },
  {
   "cell_type": "code",
   "execution_count": 178,
   "id": "cross-article",
   "metadata": {},
   "outputs": [],
   "source": [
    "# thisDF data frame is for a single chromosome only\n",
    "def combine_chr_across_individuals(thisDF):\n",
    "    test = thisDF\n",
    "    numSamples = len(test['name'].unique())\n",
    "    test = test.groupby(['distance'],as_index=False).sum()\n",
    "    test['theta'] = test['theta']/numSamples\n",
    "    test = test.to_numpy()\n",
    "    return(test)\n"
   ]
  },
  {
   "cell_type": "markdown",
   "id": "turned-functionality",
   "metadata": {},
   "source": [
    "#### We will work with the data pooled across the 10 individuals in our example data set"
   ]
  },
  {
   "cell_type": "code",
   "execution_count": 159,
   "id": "popular-inspector",
   "metadata": {},
   "outputs": [],
   "source": [
    "pooledDataByChr = [\n",
    "    combine_chr_across_individuals( df.loc[(df[\"chromosome\"]==cName)] ) for cName in chrNames]"
   ]
  },
  {
   "cell_type": "markdown",
   "id": "eight-watts",
   "metadata": {},
   "source": [
    "##### note that we can also do this for a single individual, in the folowing example, we only take the 'H30' individual's data "
   ]
  },
  {
   "cell_type": "code",
   "execution_count": 183,
   "id": "controlling-dubai",
   "metadata": {},
   "outputs": [],
   "source": [
    "# pooledDataByChr = [\n",
    "#     combine_chr_across_individuals( df.loc[(df[\"chromosome\"]==cName) & (df[\"name\"]=='H30')]) for cName in chrNames]\n",
    "# pooledDataByChr"
   ]
  },
  {
   "cell_type": "markdown",
   "id": "numerical-usage",
   "metadata": {},
   "source": [
    "# single-distance rho estimates for each chromosome\n",
    "\n",
    "single_dist_obj_fun(): calculates the single-parameter rho/bp using het counts for a given distance d between sites and recombination rate r being tested by optimizer\n",
    "\n",
    "find_max_like_single_dist(): initiates and runs optimization for  using NLOPT libarary \n",
    "\n",
    "rho_by_distance(): for a single chromosome, computes in parallel the rho/bp estimates for each distance d\n",
    "\n",
    "NOTE: The boundaries and start point for the optimization can and should be changed to reflect parameters reasonable for the data set. "
   ]
  },
  {
   "cell_type": "code",
   "execution_count": 125,
   "id": "employed-bibliography",
   "metadata": {},
   "outputs": [],
   "source": [
    "\n",
    "def single_dist_obj_fun(r,x):\n",
    "    d,h0,h1,h2,th = x\n",
    "    r = r*(d)\n",
    "    calcH0 =(18+13*r + r**2 + 36*th + 22*th**2 + 4*th**3 + r*(6*th+th**2))/((1+th)*(18+13*r+r**2+54*th + 40*th**2+8*th**3+r*(r*th+19*th+6*th**2)))\n",
    "    calcH2 = (th**2*(36+14*r+r**2+36*th+6*th*r+8*th**2))/((1+th)*(18+13*r+r**2+54*th + 40*th**2+8*th**3+r*(r*th+19*th+6*th**2)))\n",
    "    calcH1 = 1 - calcH0 - calcH2\n",
    "    \n",
    "    val = h0*log(calcH0) + h1*log(calcH1)+h2*log(calcH2)\n",
    "    return(val)\n",
    "    \n",
    "def find_max_like_single_dist(testDist):\n",
    "    opt = nlopt.opt(nlopt.LN_NELDERMEAD,1)\n",
    "    opt.set_lower_bounds([0.00001])\n",
    "    opt.set_upper_bounds([0.5])\n",
    "    startPoint = [0.001]\n",
    "    opt.set_max_objective(lambda x, grad: single_dist_obj_fun(x,testDist))\n",
    "    res = opt.optimize(startPoint)\n",
    "    return(res[0])\n",
    "\n",
    "def rho_by_distance(chrArr):\n",
    "    jobs = chrArr\n",
    "    with Pool(cpu_count()) as p:\n",
    "        single_dist_estimates = p.map(find_max_like_single_dist,jobs)\n",
    "    return(single_dist_estimates)"
   ]
  },
  {
   "cell_type": "markdown",
   "id": "assumed-fishing",
   "metadata": {},
   "source": [
    "#### for each chromosome, we obtain the rho/bp estimated across all distances"
   ]
  },
  {
   "cell_type": "code",
   "execution_count": 181,
   "id": "advised-disorder",
   "metadata": {},
   "outputs": [],
   "source": [
    "singleDistResByChr = [ rho_by_distance(x) for x in pooledDataByChr] "
   ]
  },
  {
   "cell_type": "markdown",
   "id": "freelance-volunteer",
   "metadata": {},
   "source": [
    "Below, we plot the per-distance estimates for each chromosome (unique color)"
   ]
  },
  {
   "cell_type": "code",
   "execution_count": 182,
   "id": "supreme-wallpaper",
   "metadata": {
    "scrolled": true
   },
   "outputs": [
    {
     "data": {
      "image/png": "[encoded data removed]",
      "text/plain": [
       "<Figure size 432x288 with 1 Axes>"
      ]
     },
     "metadata": {
      "needs_background": "light"
     },
     "output_type": "display_data"
    }
   ],
   "source": [
    "plt.rcParams[\"axes.prop_cycle\"] = plt.cycler(\"color\", plt.cm.viridis(list(np.linspace(0,1,numChrs))))\n",
    "\n",
    "for cres in singleDistResByChr:\n",
    "    plt.plot(cres)\n",
    "    plt.xlabel(\"distance\",**fontLabel)\n",
    "    plt.ylabel(\"rho/bp\",**fontLabel)\n",
    "plt.show()"
   ]
  },
  {
   "cell_type": "code",
   "execution_count": null,
   "id": "minor-snowboard",
   "metadata": {},
   "outputs": [],
   "source": []
  },
  {
   "cell_type": "markdown",
   "id": "spectacular-integer",
   "metadata": {},
   "source": [
    "# per-chromosome recombination rate estimates and the effect of minimum distance\n",
    "\n",
    "### here, we are now co-estimating the rates of recombination (kappa), gene conversion (gamma) and mean tract length L\n",
    "\n",
    "single_chr_obj_fun(): for a given chromosome and test-values for rec paraemters, calculates the objective function when compositing the likelihood over all distances \n",
    "\n",
    "calc_single_dist(): for a given chromosome, returns the likelihood of observing the data at a single distance under the full three-parameter recombination model   "
   ]
  },
  {
   "cell_type": "code",
   "execution_count": 162,
   "id": "generous-novel",
   "metadata": {},
   "outputs": [],
   "source": [
    "def single_chr_obj_fun(x_,arr):\n",
    "    rbp, g, L = x_\n",
    "    test = np.apply_along_axis(lambda x: calc_single_dist(x,rbp,g,L),1,arr)\n",
    "    obfun = np.sum(test)\n",
    "    #test = [calc_single_dist(x,rbp,g,L) for x in arr]\n",
    "    #obfun = sum(test)\n",
    "    return(obfun)\n",
    "\n",
    "def calc_single_dist(x,rbp,g,L):\n",
    "    d,h0,h1,h2,th = x\n",
    "    \n",
    "    r = rbp*(d+2*(g/rbp)*L*(1 - exp(-d/L)))\n",
    "    \n",
    "    calcH0 =(18+13*r + r**2 + 36*th + 22*th**2 + 4*th**3 + r*(6*th+th**2))/((1+th)*(18+13*r+r**2+54*th + 40*th**2+8*th**3+r*(r*th+19*th+6*th**2)))\n",
    "    calcH2 = (th**2*(36+14*r+r**2+36*th+6*th*r+8*th**2))/((1+th)*(18+13*r+r**2+54*th + 40*th**2+8*th**3+r*(r*th+19*th+6*th**2)))\n",
    "    calcH1 = 1 - calcH0 - calcH2\n",
    "    \n",
    "    val = h0*log(calcH0) + h1*log(calcH1)+h2*log(calcH2)\n",
    "    return(val)"
   ]
  },
  {
   "cell_type": "markdown",
   "id": "surgical-event",
   "metadata": {},
   "source": [
    "#### HeRho_estimate_one_chromosome\n",
    "This function takes the formatted data for a single chromosome and estimates the three recombination parameters using NLOPT.  \n",
    "\n",
    "note: bounds and start-points for optimization should be chosen appropriately for the data set at hand "
   ]
  },
  {
   "cell_type": "code",
   "execution_count": 163,
   "id": "lucky-sewing",
   "metadata": {},
   "outputs": [],
   "source": [
    "def HeRho_estimate_one_chromosome(cArr):\n",
    "  \n",
    "    test = cArr\n",
    "\n",
    "    lowerBounds = [ 0.0001, 0.0001,10]\n",
    "    upperBounds = [ 0.1, 0.1, 2000]\n",
    "    startPoints = [ 0.001, 0.001, 50]\n",
    "\n",
    "    opt=nlopt.opt(nlopt.LN_NELDERMEAD,3)\n",
    "\n",
    "    opt.set_lower_bounds(lowerBounds)\n",
    "    opt.set_upper_bounds(upperBounds)\n",
    "    opt.set_max_objective(lambda x,grad: single_chr_obj_fun(x,test))\n",
    "    res = opt.optimize(startPoints)\n",
    "    return([x for x in res])"
   ]
  },
  {
   "cell_type": "markdown",
   "id": "placed-copying",
   "metadata": {},
   "source": [
    "#### HeRho_get_chr_min_dist_effect():\n",
    "\n",
    "Due to the noisiness of the data for small distances, we want to determine an appropriate minimum-distance cut-off for the data. This function takes a chromosome and list of minimum distances to test.   It returns the per-min-distance (kappa, gamma, L) estimates. \n",
    "\n",
    "Data from d<d_min is removed from the likelihood calculation in 'calc_chr_min_dist()'. "
   ]
  },
  {
   "cell_type": "code",
   "execution_count": 164,
   "id": "exact-sacramento",
   "metadata": {},
   "outputs": [],
   "source": [
    "\n",
    "def HeRho_get_chr_min_dist_effect(cArr,minDistList):\n",
    "    jobs = minDistList\n",
    "    jobs = [(cArr,x) for x in jobs]\n",
    "    with Pool(cpu_count()) as p:\n",
    "        estimateByMinDist=p.map(calc_chr_min_dist,jobs)\n",
    "    estimateByMinDist = np.transpose(np.asarray(estimateByMinDist))\n",
    "    return(estimateByMinDist)\n",
    "\n",
    "def calc_chr_min_dist(argv):\n",
    "    cArr,minDist = argv\n",
    "    test = cArr[ cArr[:,0]>=minDist]\n",
    "\n",
    "\n",
    "    lowerBounds = [ 0.0001, 0.0001,10]\n",
    "    upperBounds = [ 0.1, 0.1, 2000]\n",
    "    startPoints = [ 0.001, 0.001, 50]\n",
    "\n",
    "    opt=nlopt.opt(nlopt.LN_NELDERMEAD,3)\n",
    "\n",
    "    opt.set_lower_bounds(lowerBounds)\n",
    "    opt.set_upper_bounds(upperBounds)\n",
    "    opt.set_max_objective(lambda x,grad: single_chr_obj_fun(x,test))\n",
    "    res = opt.optimize(startPoints)\n",
    "    return([x for x in res])"
   ]
  },
  {
   "cell_type": "markdown",
   "id": "skilled-slide",
   "metadata": {},
   "source": [
    "### results for a single chromosome\n",
    "\n",
    "Here, we estimate the  (kappa, gamma, L) for the first chromosome, using all distances avilable in the data set"
   ]
  },
  {
   "cell_type": "code",
   "execution_count": 165,
   "id": "communist-search",
   "metadata": {},
   "outputs": [
    {
     "data": {
      "text/plain": [
       "[0.0009402588104037545, 0.0017312116469998203, 279.24989253616616]"
      ]
     },
     "execution_count": 165,
     "metadata": {},
     "output_type": "execute_result"
    }
   ],
   "source": [
    "HeRho_estimate_one_chromosome(pooledDataByChr[0])"
   ]
  },
  {
   "cell_type": "markdown",
   "id": "aggregate-loading",
   "metadata": {},
   "source": [
    "### effect of min dist on single-chr estimates\n",
    "\n",
    "Here, we test the effect of the choice of minimum distance on parameter estimates for each chromosome independently."
   ]
  },
  {
   "cell_type": "code",
   "execution_count": 166,
   "id": "widespread-waterproof",
   "metadata": {},
   "outputs": [],
   "source": [
    "minDistVals = list(range(1,200,25))"
   ]
  },
  {
   "cell_type": "code",
   "execution_count": 167,
   "id": "ordinary-contrast",
   "metadata": {},
   "outputs": [],
   "source": [
    "resMinDistEffect = [HeRho_get_chr_min_dist_effect( x,minDistVals) for x in pooledDataByChr]"
   ]
  },
  {
   "cell_type": "markdown",
   "id": "fiscal-specification",
   "metadata": {},
   "source": [
    "Plotting the effect"
   ]
  },
  {
   "cell_type": "code",
   "execution_count": 168,
   "id": "patient-sharing",
   "metadata": {},
   "outputs": [
    {
     "data": {
      "image/png": "[encoded data removed]",
      "text/plain": [
       "<Figure size 432x288 with 1 Axes>"
      ]
     },
     "metadata": {
      "needs_background": "light"
     },
     "output_type": "display_data"
    },
    {
     "data": {
      "image/png": "[encoded data removed]",
      "text/plain": [
       "<Figure size 432x288 with 1 Axes>"
      ]
     },
     "metadata": {
      "needs_background": "light"
     },
     "output_type": "display_data"
    },
    {
     "data": {
      "image/png": "[encoded data removed]",
      "text/plain": [
       "<Figure size 432x288 with 1 Axes>"
      ]
     },
     "metadata": {
      "needs_background": "light"
     },
     "output_type": "display_data"
    }
   ],
   "source": [
    "xvals = minDistVals\n",
    "\n",
    "xmax = minDistVals[-1]\n",
    "\n",
    "###\n",
    "fig = plt.figure()\n",
    "ax = fig.gca()\n",
    "for axis in ['top','bottom','left','right']:\n",
    "    ax.spines[axis].set_linewidth(2.0)\n",
    "plt.xlabel(\"minimum distance\",**fontLabel)\n",
    "plt.ylabel(\"kappa estimated\",**fontLabel)\n",
    "\n",
    "for cRes in resMinDistEffect:\n",
    "    plt.plot(xvals,cRes[0],linewidth=2)\n",
    "plt.plot([0,xmax],[0,0],color = 'k')\n",
    "plt.xlim([0,xmax])\n",
    "plt.show()\n",
    "\n",
    "###\n",
    "fig = plt.figure()\n",
    "ax = fig.gca()\n",
    "for axis in ['top','bottom','left','right']:\n",
    "    ax.spines[axis].set_linewidth(2.0)\n",
    "plt.xlabel(\"minimum distance\",**fontLabel)\n",
    "plt.ylabel(\"gamma estimated\",**fontLabel)\n",
    "\n",
    "for cRes in resMinDistEffect:\n",
    "    plt.plot(xvals,cRes[1],linewidth=2)\n",
    "plt.plot([0,xmax],[0,0],color = 'k')\n",
    "plt.xlim([0,xmax])\n",
    "plt.show()\n",
    "\n",
    "###\n",
    "fig = plt.figure()\n",
    "ax = fig.gca()\n",
    "for axis in ['top','bottom','left','right']:\n",
    "    ax.spines[axis].set_linewidth(2.0)\n",
    "plt.xlabel(\"minimum distance\",**fontLabel)\n",
    "plt.ylabel(\"L estimated\",**fontLabel)\n",
    "for cRes in resMinDistEffect:\n",
    "    plt.plot(xvals,cRes[2],linewidth=2)\n",
    "plt.plot([0,xmax],[0,0],color ='k')\n",
    "plt.xlim([0,xmax])\n",
    "plt.show()"
   ]
  },
  {
   "cell_type": "markdown",
   "id": "answering-court",
   "metadata": {},
   "source": [
    "# Co-estimating rho across all chromosomes\n",
    "\n",
    "Here, we want to co-Estimate a global tract length parameter L and chromsome-specific rates of crossover (kappa) and gene conversion (gamma).\n",
    "\n",
    "across_chr_obj_fun(): sums the chromosome-specific likelihood using the current parameter values in the optimization\n",
    "\n",
    "HeRho_estimate_genome(): runs the optimization to co-estimate all recombinaiton parameters for the genome provided\n",
    "\n",
    "HeRho_format(): formats and prints the results of the genome-wide optimization procedure"
   ]
  },
  {
   "cell_type": "code",
   "execution_count": 169,
   "id": "cathedral-omega",
   "metadata": {},
   "outputs": [],
   "source": [
    "\n",
    "def across_chr_obj_fun(x,dfArrList):\n",
    "    numChrs = len(dfArrList)\n",
    "    rList = x[0:numChrs]\n",
    "    gList = x[numChrs:numChrs+numChrs]\n",
    "    L = x[-1]\n",
    "    \n",
    "    obFun = sum([single_chr_obj_fun([rs,gs,L],arr) for (rs,gs,arr) in list(zip(rList,gList,dfArrList))])\n",
    "    \n",
    "    return(obFun)\n",
    "\n",
    "def HeRho_estimate_genome(pooledChrs):\n",
    "    \n",
    "    numberChromosomes = len(pooledChrs)\n",
    "\n",
    "    lowerBounds = [0.0001 for x in range(numberChromosomes)]+ [0.0001 for x in range(numberChromosomes)]+[10]\n",
    "    upperBounds = [0.1 for x in range(numberChromosomes)]+[0.1 for x in range(numberChromosomes)]+[2000]\n",
    "    startPoints = [0.001 for x in range(numberChromosomes)]+[0.001 for x in range(numberChromosomes)]+[50]\n",
    "\n",
    "\n",
    "    opt=nlopt.opt(nlopt.LN_NELDERMEAD,numberChromosomes+numberChromosomes+1)\n",
    "\n",
    "    opt.set_lower_bounds(lowerBounds)\n",
    "    opt.set_upper_bounds(upperBounds)\n",
    "\n",
    "    opt.set_max_objective(lambda x,grad: across_chr_obj_fun(x,pooledChrs))\n",
    "\n",
    "    res = opt.optimize(startPoints)\n",
    "    return(res)\n",
    "\n",
    "\n",
    "def HeRho_format(coEstimates,chrNames):\n",
    "    numChrs = len(chrNames)\n",
    "    kappas = coEstimates[0:numChrs]\n",
    "    gammas = coEstimates[numChrs:numChrs*2]\n",
    "    L = coEstimates[-1]\n",
    "    print(\"Global estimate of tract length L = {}\".format(L))\n",
    "    print(\"chr\\tkappa\\tgamma\")\n",
    "    for name, kappa, gamma in list(zip(chrNames, kappas, gammas)):\n",
    "        print(\"{}\\t{}\\t{}\".format(name, kappa, gamma))\n",
    "    \n",
    "    "
   ]
  },
  {
   "cell_type": "markdown",
   "id": "extreme-chemistry",
   "metadata": {},
   "source": [
    "#### Minimum distance choice\n",
    "\n",
    "above, we looked at how the choice of minimum distance affects the recombination estimates independently for each chromosome.  Excepting the poor data at short distances, the estimates should be 'stable' over a range of minimum distances as long as there is sufficient data remaining. \n",
    "\n",
    "Based on the observations above, we decide to use a minimum distance of 100 bp in the final analysis. As a first step, we remove those sites with d < 100 from our data set:"
   ]
  },
  {
   "cell_type": "code",
   "execution_count": 170,
   "id": "painted-landscape",
   "metadata": {},
   "outputs": [],
   "source": [
    "minimumDistanceChosen = 100\n",
    "pooledDataByChrWithMinDist = [ x[ x[:,0] >= minimumDistanceChosen] for x in pooledDataByChr]"
   ]
  },
  {
   "cell_type": "markdown",
   "id": "macro-agent",
   "metadata": {},
   "source": [
    "With a minimum distance chosen, we can co-estimate the genome-wide recombination rate parameters"
   ]
  },
  {
   "cell_type": "code",
   "execution_count": 171,
   "id": "accepted-acoustic",
   "metadata": {},
   "outputs": [],
   "source": [
    "rhoCoEstimates = HeRho_estimate_genome(pooledDataByChrWithMinDist)"
   ]
  },
  {
   "cell_type": "markdown",
   "id": "south-substance",
   "metadata": {},
   "source": [
    "Finally, we format and print the results "
   ]
  },
  {
   "cell_type": "code",
   "execution_count": 172,
   "id": "spare-excess",
   "metadata": {},
   "outputs": [
    {
     "name": "stdout",
     "output_type": "stream",
     "text": [
      "Global estimate of tract length L = 112.64071181609407\n",
      "chr\tkappa\tgamma\n",
      "chr1\t0.0014130773845440032\t0.002389442767085215\n",
      "chr2\t0.0017174430276408752\t0.003543906102984039\n"
     ]
    }
   ],
   "source": [
    "HeRho_format(rhoCoEstimates,chrNames)"
   ]
  },
  {
   "cell_type": "code",
   "execution_count": null,
   "id": "anticipated-routine",
   "metadata": {},
   "outputs": [],
   "source": []
  }
 ],
 "metadata": {
  "kernelspec": {
   "display_name": "Python 3",
   "language": "python",
   "name": "python3"
  },
  "language_info": {
   "codemirror_mode": {
    "name": "ipython",
    "version": 3
   },
   "file_extension": ".py",
   "mimetype": "text/x-python",
   "name": "python",
   "nbconvert_exporter": "python",
   "pygments_lexer": "ipython3",
   "version": "3.7.9"
  }
 },
 "nbformat": 4,
 "nbformat_minor": 5
}
