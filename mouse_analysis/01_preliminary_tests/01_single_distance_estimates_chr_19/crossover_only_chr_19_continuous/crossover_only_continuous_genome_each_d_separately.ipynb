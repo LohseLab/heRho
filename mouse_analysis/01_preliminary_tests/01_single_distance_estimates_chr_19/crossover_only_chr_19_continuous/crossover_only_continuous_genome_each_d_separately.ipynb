{
 "cells": [
  {
   "cell_type": "code",
   "execution_count": 1,
   "id": "minute-samba",
   "metadata": {},
   "outputs": [],
   "source": [
    "import numpy as np\n",
    "import nlopt\n",
    "import pandas as pd\n",
    "from math import log, exp\n",
    "from multiprocessing import Pool, cpu_count\n",
    "import time\n",
    "import matplotlib.pyplot as plt\n",
    "#%matplotlib notebook"
   ]
  },
  {
   "cell_type": "code",
   "execution_count": 2,
   "id": "collect-sydney",
   "metadata": {},
   "outputs": [],
   "source": [
    "#needs path to file:\n",
    "fileIn = \"chr19_2000_msprime_crossover_only_infinite_sites.tsv\"\n"
   ]
  },
  {
   "cell_type": "code",
   "execution_count": 3,
   "id": "determined-night",
   "metadata": {},
   "outputs": [],
   "source": [
    "def rho(rbp,g,L,d):\n",
    "    r = rbp*(d+2*(g/rbp)*L*(1 - exp(-d/L)))\n",
    "    return(r)"
   ]
  },
  {
   "cell_type": "code",
   "execution_count": 4,
   "id": "expressed-battle",
   "metadata": {},
   "outputs": [],
   "source": [
    "def single_dist_obj_fun(r,x):\n",
    "    d,h0,h1,h2,th = x\n",
    "    r = r*(d)\n",
    "    calcH0 =(18+13*r + r**2 + 36*th + 22*th**2 + 4*th**3 + r*(6*th+th**2))/((1+th)*(18+13*r+r**2+54*th + 40*th**2+8*th**3+r*(r*th+19*th+6*th**2)))\n",
    "    calcH2 = (th**2*(36+14*r+r**2+36*th+6*th*r+8*th**2))/((1+th)*(18+13*r+r**2+54*th + 40*th**2+8*th**3+r*(r*th+19*th+6*th**2)))\n",
    "    calcH1 = 1 - calcH0 - calcH2\n",
    "    \n",
    "    val = h0*log(calcH0) + h1*log(calcH1)+h2*log(calcH2)\n",
    "    return(val)"
   ]
  },
  {
   "cell_type": "code",
   "execution_count": 5,
   "id": "organic-prophet",
   "metadata": {},
   "outputs": [],
   "source": [
    "def single_dist_multi_ind_obj_fun(r,xl):\n",
    "    res = [ single_dist_obj_fun(r,xs) for xs in xl]\n",
    "    res = sum(res)\n",
    "    return(res)"
   ]
  },
  {
   "cell_type": "code",
   "execution_count": 6,
   "id": "built-tender",
   "metadata": {},
   "outputs": [],
   "source": [
    "def find_max_like_single_dist(args):\n",
    "    d, testChr = args\n",
    "    opt = nlopt.opt(nlopt.LN_NELDERMEAD,1)\n",
    "    opt.set_lower_bounds([0.0000001])\n",
    "    opt.set_upper_bounds([0.5])\n",
    "    startPoint = [0.001]\n",
    "    opt.set_max_objective(lambda x, grad: single_dist_obj_fun(x,testChr))\n",
    "    res = opt.optimize(startPoint)\n",
    "    return([testChr[0],res[0]])"
   ]
  },
  {
   "cell_type": "code",
   "execution_count": null,
   "id": "closed-student",
   "metadata": {},
   "outputs": [],
   "source": []
  },
  {
   "cell_type": "code",
   "execution_count": 7,
   "id": "surprising-finance",
   "metadata": {},
   "outputs": [],
   "source": [
    "def calc_single_dist(x,rbp):\n",
    "    d,h0,h1,h2,th = x\n",
    "    \n",
    "    r = rbp*(d)\n",
    "    \n",
    "    calcH0 =(18+13*r + r**2 + 36*th + 22*th**2 + 4*th**3 + r*(6*th+th**2))/((1+th)*(18+13*r+r**2+54*th + 40*th**2+8*th**3+r*(r*th+19*th+6*th**2)))\n",
    "    calcH2 = (th**2*(36+14*r+r**2+36*th+6*th*r+8*th**2))/((1+th)*(18+13*r+r**2+54*th + 40*th**2+8*th**3+r*(r*th+19*th+6*th**2)))\n",
    "    calcH1 = 1 - calcH0 - calcH2\n",
    "    \n",
    "    val = h0*log(calcH0) + h1*log(calcH1)+h2*log(calcH2)\n",
    "    return(val)"
   ]
  },
  {
   "cell_type": "code",
   "execution_count": 8,
   "id": "contained-sacramento",
   "metadata": {},
   "outputs": [],
   "source": [
    "def single_chr_obj_fun(x_,arr):\n",
    "    rbp= x_\n",
    "    test = np.apply_along_axis(lambda x: calc_single_dist(x,rbp),1,arr)\n",
    "    obfun = np.sum(test)\n",
    "    #test = [calc_single_dist(x,rbp,g,L) for x in arr]\n",
    "    #obfun = sum(test)\n",
    "    return(obfun)"
   ]
  },
  {
   "cell_type": "code",
   "execution_count": 9,
   "id": "massive-genome",
   "metadata": {},
   "outputs": [],
   "source": [
    "def across_chr_obj_fun(x,dfArrList,numChrs):\n",
    "    \n",
    "    rList = x[0:numChrs]\n",
    "    gList = x[numChrs:numChrs+numChrs]\n",
    "    L = x[-1]\n",
    "    \n",
    "    obFun = sum([single_chr_obj_fun([rs,gs,L],arr) for (rs,gs,arr) in list(zip(rList,gList,dfArrList))])\n",
    "    \n",
    "    return(obFun)"
   ]
  },
  {
   "cell_type": "code",
   "execution_count": 10,
   "id": "portable-immune",
   "metadata": {},
   "outputs": [],
   "source": [
    "def find_max_like_single_ind(rep):\n",
    "    \n",
    "    numberChromsomes = 19\n",
    "    dfListAuto = [ df.loc[(df['chromosome']== x) & (df['replicate']==rep) & (df['sample']==1) & (df['Unnamed: 0']<=10)] for x in list(range(1,numberChromsomes+1))]\n",
    "    dfListAuto = [x.iloc[:,[0,4,5,6,11]].to_numpy() for x in dfListAuto]\n",
    "\n",
    "    lowerBounds = [0.0001 for x in range(numberChromsomes)]+ [0.0001 for x in range(numberChromsomes)]+[10]\n",
    "    upperBounds = [0.1 for x in range(numberChromsomes)]+[0.1 for x in range(numberChromsomes)]+[2000]\n",
    "    startPoints = [0.001 for x in range(numberChromsomes)]+[0.001 for x in range(numberChromsomes)]+[50]\n",
    "\n",
    "\n",
    "    opt=nlopt.opt(nlopt.LN_NELDERMEAD,numberChromsomes+numberChromsomes+1)\n",
    "\n",
    "    opt.set_lower_bounds(lowerBounds)\n",
    "    opt.set_upper_bounds(upperBounds)\n",
    "\n",
    "    opt.set_max_objective(lambda x,grad: across_chr_obj_fun(x,dfListAuto,numberChromsomes))\n",
    "\n",
    "    res = opt.optimize(startPoints)\n",
    "    return(res)"
   ]
  },
  {
   "cell_type": "code",
   "execution_count": 11,
   "id": "sufficient-vision",
   "metadata": {},
   "outputs": [],
   "source": [
    "def combine_across_individuals(thisDF):\n",
    "    test = thisDF\n",
    "    numSamples = len(test['sample'].unique())\n",
    "    test = test.groupby(['Unnamed: 0'],as_index=False).sum()\n",
    "    test['H'] = test['H']/numSamples\n",
    "    return(test.iloc[:,[0,4,5,6,11]].to_numpy())\n",
    "    #return( test.iloc[:,[0,4,5,6,11]].to_numpy() )"
   ]
  },
  {
   "cell_type": "code",
   "execution_count": 12,
   "id": "logical-slovak",
   "metadata": {},
   "outputs": [],
   "source": [
    "def find_max_like_group_ind(rep):\n",
    "    \n",
    "    numberChromsomes = 19\n",
    "    dfListAuto = [ df.loc[(df['chromosome']== x) & (df['replicate']==rep) & (df['Unnamed: 0']<=10)] for x in list(range(1,numberChromsomes+1))]\n",
    "    dfListAuto = [combine_across_individuals(x) for x in dfListAuto]\n",
    "\n",
    "    lowerBounds = [0.0001 for x in range(numberChromsomes)]+ [0.0001 for x in range(numberChromsomes)]+[10]\n",
    "    upperBounds = [0.1 for x in range(numberChromsomes)]+[0.1 for x in range(numberChromsomes)]+[2000]\n",
    "    startPoints = [0.001 for x in range(numberChromsomes)]+[0.001 for x in range(numberChromsomes)]+[50]\n",
    "\n",
    "\n",
    "    opt=nlopt.opt(nlopt.LN_NELDERMEAD,numberChromsomes+numberChromsomes+1)\n",
    "\n",
    "    opt.set_lower_bounds(lowerBounds)\n",
    "    opt.set_upper_bounds(upperBounds)\n",
    "\n",
    "    opt.set_max_objective(lambda x,grad: across_chr_obj_fun(x,dfListAuto,numberChromsomes))\n",
    "\n",
    "    res = opt.optimize(startPoints)\n",
    "    return(res)"
   ]
  },
  {
   "cell_type": "code",
   "execution_count": 13,
   "id": "protected-petersburg",
   "metadata": {},
   "outputs": [],
   "source": [
    "def combine_across_individuals_and_replicates(thisDF):\n",
    "    test = thisDF\n",
    "    numSamples = len(test['sample'].unique())\n",
    "    numReplicates = len(test['replicate'].unique())\n",
    "    test = test.groupby(['Unnamed: 0'],as_index=False).sum()\n",
    "    test['H'] = test['H']/(numSamples*numReplicates)\n",
    "    return(test.iloc[:,[0,4,5,6,11]].to_numpy())\n",
    "    #return( test.iloc[:,[0,4,5,6,11]].to_numpy() )"
   ]
  },
  {
   "cell_type": "code",
   "execution_count": 14,
   "id": "received-glossary",
   "metadata": {},
   "outputs": [],
   "source": [
    "df = pd.read_csv(fileIn,delimiter='\\t')"
   ]
  },
  {
   "cell_type": "code",
   "execution_count": 15,
   "id": "forty-alpha",
   "metadata": {
    "scrolled": true
   },
   "outputs": [
    {
     "name": "stderr",
     "output_type": "stream",
     "text": [
      "/home/derek/anaconda3/envs/simulation/lib/python3.7/site-packages/pandas/core/ops/array_ops.py:253: FutureWarning: elementwise comparison failed; returning scalar instead, but in the future will perform elementwise comparison\n",
      "  res_values = method(rvalues)\n"
     ]
    }
   ],
   "source": [
    "df = pd.read_csv(fileIn,delimiter='\\t')\n",
    "df = df.loc[ df['chromosome'] != 'X']\n",
    "df = df.astype({'chromosome':'int64'})"
   ]
  },
  {
   "cell_type": "code",
   "execution_count": 16,
   "id": "strange-orbit",
   "metadata": {},
   "outputs": [
    {
     "data": {
      "text/html": [
       "<div>\n",
       "<style scoped>\n",
       "    .dataframe tbody tr th:only-of-type {\n",
       "        vertical-align: middle;\n",
       "    }\n",
       "\n",
       "    .dataframe tbody tr th {\n",
       "        vertical-align: top;\n",
       "    }\n",
       "\n",
       "    .dataframe thead th {\n",
       "        text-align: right;\n",
       "    }\n",
       "</style>\n",
       "<table border=\"1\" class=\"dataframe\">\n",
       "  <thead>\n",
       "    <tr style=\"text-align: right;\">\n",
       "      <th></th>\n",
       "      <th>Unnamed: 0</th>\n",
       "      <th>sample</th>\n",
       "      <th>replicate</th>\n",
       "      <th>chromosome</th>\n",
       "      <th>h_0</th>\n",
       "      <th>h_1</th>\n",
       "      <th>h_2</th>\n",
       "      <th>total</th>\n",
       "      <th>h_0_frac</th>\n",
       "      <th>h_1_frac</th>\n",
       "      <th>h_2_frac</th>\n",
       "      <th>H</th>\n",
       "    </tr>\n",
       "  </thead>\n",
       "  <tbody>\n",
       "    <tr>\n",
       "      <th>0</th>\n",
       "      <td>1</td>\n",
       "      <td>1</td>\n",
       "      <td>1</td>\n",
       "      <td>19</td>\n",
       "      <td>27775561</td>\n",
       "      <td>397262</td>\n",
       "      <td>2853</td>\n",
       "      <td>28175676</td>\n",
       "      <td>0.985799</td>\n",
       "      <td>0.014099</td>\n",
       "      <td>0.000101</td>\n",
       "      <td>0.007151</td>\n",
       "    </tr>\n",
       "    <tr>\n",
       "      <th>1</th>\n",
       "      <td>2</td>\n",
       "      <td>1</td>\n",
       "      <td>1</td>\n",
       "      <td>19</td>\n",
       "      <td>27775566</td>\n",
       "      <td>397250</td>\n",
       "      <td>2859</td>\n",
       "      <td>28175675</td>\n",
       "      <td>0.985799</td>\n",
       "      <td>0.014099</td>\n",
       "      <td>0.000101</td>\n",
       "      <td>0.007151</td>\n",
       "    </tr>\n",
       "    <tr>\n",
       "      <th>2</th>\n",
       "      <td>3</td>\n",
       "      <td>1</td>\n",
       "      <td>1</td>\n",
       "      <td>19</td>\n",
       "      <td>27775564</td>\n",
       "      <td>397252</td>\n",
       "      <td>2858</td>\n",
       "      <td>28175674</td>\n",
       "      <td>0.985799</td>\n",
       "      <td>0.014099</td>\n",
       "      <td>0.000101</td>\n",
       "      <td>0.007151</td>\n",
       "    </tr>\n",
       "    <tr>\n",
       "      <th>3</th>\n",
       "      <td>4</td>\n",
       "      <td>1</td>\n",
       "      <td>1</td>\n",
       "      <td>19</td>\n",
       "      <td>27775548</td>\n",
       "      <td>397282</td>\n",
       "      <td>2843</td>\n",
       "      <td>28175673</td>\n",
       "      <td>0.985799</td>\n",
       "      <td>0.014100</td>\n",
       "      <td>0.000101</td>\n",
       "      <td>0.007151</td>\n",
       "    </tr>\n",
       "    <tr>\n",
       "      <th>4</th>\n",
       "      <td>5</td>\n",
       "      <td>1</td>\n",
       "      <td>1</td>\n",
       "      <td>19</td>\n",
       "      <td>27775484</td>\n",
       "      <td>397408</td>\n",
       "      <td>2780</td>\n",
       "      <td>28175672</td>\n",
       "      <td>0.985797</td>\n",
       "      <td>0.014105</td>\n",
       "      <td>0.000099</td>\n",
       "      <td>0.007151</td>\n",
       "    </tr>\n",
       "    <tr>\n",
       "      <th>...</th>\n",
       "      <td>...</td>\n",
       "      <td>...</td>\n",
       "      <td>...</td>\n",
       "      <td>...</td>\n",
       "      <td>...</td>\n",
       "      <td>...</td>\n",
       "      <td>...</td>\n",
       "      <td>...</td>\n",
       "      <td>...</td>\n",
       "      <td>...</td>\n",
       "      <td>...</td>\n",
       "      <td>...</td>\n",
       "    </tr>\n",
       "    <tr>\n",
       "      <th>1999995</th>\n",
       "      <td>1996</td>\n",
       "      <td>10</td>\n",
       "      <td>100</td>\n",
       "      <td>19</td>\n",
       "      <td>27778077</td>\n",
       "      <td>393776</td>\n",
       "      <td>1828</td>\n",
       "      <td>28173681</td>\n",
       "      <td>0.985958</td>\n",
       "      <td>0.013977</td>\n",
       "      <td>0.000065</td>\n",
       "      <td>0.007053</td>\n",
       "    </tr>\n",
       "    <tr>\n",
       "      <th>1999996</th>\n",
       "      <td>1997</td>\n",
       "      <td>10</td>\n",
       "      <td>100</td>\n",
       "      <td>19</td>\n",
       "      <td>27778109</td>\n",
       "      <td>393710</td>\n",
       "      <td>1861</td>\n",
       "      <td>28173680</td>\n",
       "      <td>0.985960</td>\n",
       "      <td>0.013974</td>\n",
       "      <td>0.000066</td>\n",
       "      <td>0.007053</td>\n",
       "    </tr>\n",
       "    <tr>\n",
       "      <th>1999997</th>\n",
       "      <td>1998</td>\n",
       "      <td>10</td>\n",
       "      <td>100</td>\n",
       "      <td>19</td>\n",
       "      <td>27778098</td>\n",
       "      <td>393730</td>\n",
       "      <td>1851</td>\n",
       "      <td>28173679</td>\n",
       "      <td>0.985959</td>\n",
       "      <td>0.013975</td>\n",
       "      <td>0.000066</td>\n",
       "      <td>0.007053</td>\n",
       "    </tr>\n",
       "    <tr>\n",
       "      <th>1999998</th>\n",
       "      <td>1999</td>\n",
       "      <td>10</td>\n",
       "      <td>100</td>\n",
       "      <td>19</td>\n",
       "      <td>27778103</td>\n",
       "      <td>393718</td>\n",
       "      <td>1857</td>\n",
       "      <td>28173678</td>\n",
       "      <td>0.985959</td>\n",
       "      <td>0.013975</td>\n",
       "      <td>0.000066</td>\n",
       "      <td>0.007053</td>\n",
       "    </tr>\n",
       "    <tr>\n",
       "      <th>1999999</th>\n",
       "      <td>2000</td>\n",
       "      <td>10</td>\n",
       "      <td>100</td>\n",
       "      <td>19</td>\n",
       "      <td>27778086</td>\n",
       "      <td>393750</td>\n",
       "      <td>1841</td>\n",
       "      <td>28173677</td>\n",
       "      <td>0.985959</td>\n",
       "      <td>0.013976</td>\n",
       "      <td>0.000065</td>\n",
       "      <td>0.007053</td>\n",
       "    </tr>\n",
       "  </tbody>\n",
       "</table>\n",
       "<p>2000000 rows × 12 columns</p>\n",
       "</div>"
      ],
      "text/plain": [
       "         Unnamed: 0  sample  replicate  chromosome       h_0     h_1   h_2  \\\n",
       "0                 1       1          1          19  27775561  397262  2853   \n",
       "1                 2       1          1          19  27775566  397250  2859   \n",
       "2                 3       1          1          19  27775564  397252  2858   \n",
       "3                 4       1          1          19  27775548  397282  2843   \n",
       "4                 5       1          1          19  27775484  397408  2780   \n",
       "...             ...     ...        ...         ...       ...     ...   ...   \n",
       "1999995        1996      10        100          19  27778077  393776  1828   \n",
       "1999996        1997      10        100          19  27778109  393710  1861   \n",
       "1999997        1998      10        100          19  27778098  393730  1851   \n",
       "1999998        1999      10        100          19  27778103  393718  1857   \n",
       "1999999        2000      10        100          19  27778086  393750  1841   \n",
       "\n",
       "            total  h_0_frac  h_1_frac  h_2_frac         H  \n",
       "0        28175676  0.985799  0.014099  0.000101  0.007151  \n",
       "1        28175675  0.985799  0.014099  0.000101  0.007151  \n",
       "2        28175674  0.985799  0.014099  0.000101  0.007151  \n",
       "3        28175673  0.985799  0.014100  0.000101  0.007151  \n",
       "4        28175672  0.985797  0.014105  0.000099  0.007151  \n",
       "...           ...       ...       ...       ...       ...  \n",
       "1999995  28173681  0.985958  0.013977  0.000065  0.007053  \n",
       "1999996  28173680  0.985960  0.013974  0.000066  0.007053  \n",
       "1999997  28173679  0.985959  0.013975  0.000066  0.007053  \n",
       "1999998  28173678  0.985959  0.013975  0.000066  0.007053  \n",
       "1999999  28173677  0.985959  0.013976  0.000065  0.007053  \n",
       "\n",
       "[2000000 rows x 12 columns]"
      ]
     },
     "execution_count": 16,
     "metadata": {},
     "output_type": "execute_result"
    }
   ],
   "source": [
    "df"
   ]
  },
  {
   "cell_type": "code",
   "execution_count": null,
   "id": "immune-absolute",
   "metadata": {},
   "outputs": [],
   "source": []
  },
  {
   "cell_type": "markdown",
   "id": "threatened-spiritual",
   "metadata": {},
   "source": [
    "### fitting global model for chr 19 data "
   ]
  },
  {
   "cell_type": "code",
   "execution_count": 37,
   "id": "registered-allen",
   "metadata": {},
   "outputs": [],
   "source": [
    "testPooled = df.loc[(df['chromosome']==19) & (df['replicate']<= 100) & (df['Unnamed: 0']<=2000)] \n",
    "testPooled = combine_across_individuals_and_replicates(testPooled)"
   ]
  },
  {
   "cell_type": "code",
   "execution_count": 40,
   "id": "amended-memorial",
   "metadata": {},
   "outputs": [
    {
     "data": {
      "text/plain": [
       "array([[1.00000000e+00, 2.77810323e+10, 3.91859645e+08, 2.78409300e+06,\n",
       "        7.05267606e-03],\n",
       "       [2.00000000e+00, 2.77810315e+10, 3.91859163e+08, 2.78433100e+06,\n",
       "        7.05267620e-03],\n",
       "       [3.00000000e+00, 2.77810286e+10, 3.91863111e+08, 2.78233900e+06,\n",
       "        7.05267581e-03],\n",
       "       ...,\n",
       "       [1.99800000e+03, 2.77781420e+10, 3.93673468e+08, 1.86349500e+06,\n",
       "        7.05269017e-03],\n",
       "       [1.99900000e+03, 2.77781443e+10, 3.93667020e+08, 1.86670600e+06,\n",
       "        7.05268996e-03],\n",
       "       [2.00000000e+03, 2.77781446e+10, 3.93664326e+08, 1.86805200e+06,\n",
       "        7.05269018e-03]])"
      ]
     },
     "execution_count": 40,
     "metadata": {},
     "output_type": "execute_result"
    }
   ],
   "source": [
    "testPooled"
   ]
  },
  {
   "cell_type": "code",
   "execution_count": null,
   "id": "yellow-strengthening",
   "metadata": {},
   "outputs": [],
   "source": []
  },
  {
   "cell_type": "code",
   "execution_count": 17,
   "id": "accessory-harvest",
   "metadata": {},
   "outputs": [],
   "source": [
    "modelTruth = [0.00144168 for d in list(range(0,2000))]\n",
    "modelConstant = [ 0.00144168 for x in list(range(2000))]\n",
    "modelEstimatedChr19CombinedReps =  [0.0013988449096676617 for d in list(range(0,2000))]\n",
    "#we won't use this below, so just make them equal for now:\n",
    "#modelEstimatedChr19WithGC = [rho(0.0014578211661126998,0.0010329106648468952, 33.196417210391864,d+1)/(d+1) for d in list(range(0,2000))]\n"
   ]
  },
  {
   "cell_type": "markdown",
   "id": "received-python",
   "metadata": {},
   "source": [
    "##### Here we are trying a single iteration"
   ]
  },
  {
   "cell_type": "code",
   "execution_count": 49,
   "id": "preliminary-customs",
   "metadata": {},
   "outputs": [],
   "source": [
    "testChr =  df.loc[(df['chromosome']== 19) & (df['replicate']==10) & (df['sample']==5)& (df['Unnamed: 0']<=500)] \n",
    "testChr = testChr.iloc[:,[0,4,5,6,11]].to_numpy()"
   ]
  },
  {
   "cell_type": "code",
   "execution_count": 52,
   "id": "material-offering",
   "metadata": {},
   "outputs": [],
   "source": [
    "jobs = [[x+1,testChr[x]] for x in list(range(0,500))]\n",
    "with Pool(cpu_count()) as p:\n",
    "    thisResOneInd = p.map(find_max_like_single_dist,jobs)\n",
    "thisResOneInd = [x[1] for x in thisResOneInd]"
   ]
  },
  {
   "cell_type": "code",
   "execution_count": 53,
   "id": "developmental-banana",
   "metadata": {},
   "outputs": [
    {
     "data": {
      "image/png": "[encoded data removed]",
      "text/plain": [
       "<Figure size 432x288 with 1 Axes>"
      ]
     },
     "metadata": {
      "needs_background": "light"
     },
     "output_type": "display_data"
    }
   ],
   "source": [
    "plt.plot(thisResOneInd,\"k\",linewidth=3)\n",
    "plt.plot(modelTruth,\"b\",linewidth=3)\n",
    "#plt.plot(modelConstant,\"y\",linewidth=3)\n",
    "#plt.plot(modelEstimatedGloballyAsMedian,\"g\",linewidth=3)\n",
    "plt.plot(modelEstimatedChr19CombinedReps,\"g:\",linewidth=3)\n",
    "#plt.plot(modelEstimatedChr19WithGC,\"r:\",linewidth=3)\n",
    "\n",
    "plt.xlim([0,50])\n",
    "plt.show()"
   ]
  },
  {
   "cell_type": "code",
   "execution_count": null,
   "id": "decreased-cycling",
   "metadata": {},
   "outputs": [],
   "source": []
  },
  {
   "cell_type": "markdown",
   "id": "french-quest",
   "metadata": {},
   "source": [
    "Here combining across individuals to get an estimate of Rho/d (r/bp) for each distance  "
   ]
  },
  {
   "cell_type": "code",
   "execution_count": 18,
   "id": "opponent-hudson",
   "metadata": {},
   "outputs": [],
   "source": [
    "testPooled = df.loc[(df['chromosome']==19) & (df['replicate']<= 100) & (df['Unnamed: 0']<=2000)] \n",
    "testPooled = combine_across_individuals_and_replicates(testPooled)"
   ]
  },
  {
   "cell_type": "code",
   "execution_count": 21,
   "id": "realistic-messenger",
   "metadata": {},
   "outputs": [],
   "source": [
    "jobs = [[x+1,testPooled[x]] for x in list(range(1000))]\n",
    "with Pool(cpu_count()) as p:\n",
    "    thisRes = p.map(find_max_like_single_dist,jobs)\n",
    "thisRes = [x[1] for x in thisRes]"
   ]
  },
  {
   "cell_type": "code",
   "execution_count": 22,
   "id": "looking-scanning",
   "metadata": {},
   "outputs": [
    {
     "name": "stdout",
     "output_type": "stream",
     "text": [
      "[1e-07, 1e-07, 0.0002537367431634657, 0.001751040687369618, 0.0009691955856326654, 0.0015097175091740064, 0.0025097309850699574, 0.001353724389648779, 0.0016676963823627994, 0.0021483112133032943, 0.0017748248535163075, 0.0014207686183926032, 0.0015052340193506648, 0.0011679710245290325, 0.0013616886754411917, 0.001623354558939587, 0.0010320488349823671, 0.0012173494882358842, 0.0011226197634693548, 0.0013366057403561046, 0.0013803578496936393, 0.0014040275863650873, 0.0014775371697373348, 0.0015899980125108116, 0.0014710832578827176, 0.00141292447516806, 0.0015313589833780155, 0.0014039875360485482, 0.0014211347927100327, 0.0012623982265475824, 0.0013756715995582136, 0.0013387512929919796, 0.0013213179626468258, 0.0013504030741473335, 0.0012879975302222803, 0.0013537472755377569, 0.001213376282324423, 0.0013064993457794194, 0.0014715867505353877, 0.0015734990228244397, 0.0014845859359737805, 0.0014942781124111582, 0.0013563131777015788, 0.001326209822654383, 0.001367650456618922, 0.0013382547763540083, 0.0014575806751249045, 0.0012934443536233462, 0.00134391706855263, 0.0015335782000194145, 0.001320133707688307, 0.0013207988283061127, 0.0013384795676898533, 0.0013641102946845736, 0.0013477511655246841, 0.0013372465454098155, 0.0013990967711661328, 0.001386587104177134, 0.0013558411567309095, 0.0014109835574115243, 0.001318374976821182, 0.00143546708431278, 0.0014030821114396522, 0.0014272624491304777, 0.0014573073741825614, 0.0013695215572900148, 0.0013096003845218256, 0.001321912995910645, 0.0014301175064090324, 0.0014499595715919196, 0.001329487869488852, 0.0013870013749820134, 0.0013351453341964323, 0.0013344430233005122, 0.0014001228594523918, 0.0014858777374674734, 0.001370751540061706, 0.001492721513975008, 0.0014237777559641437, 0.0013277145255481057, 0.0013439564036416473, 0.0014031693537870456, 0.0014472819274871655, 0.0013825205772255629, 0.0013952533485139143, 0.001422130329131739, 0.0013680450595084266, 0.0014329796736131262, 0.0013884530197855397, 0.0013928921681884362, 0.0015191718896553537, 0.001422802602290766, 0.0014645378921563353, 0.0014353290537592338, 0.0013688340850928338, 0.0014183133909937311, 0.0013273040656730849, 0.0013903387816685186, 0.0013998394676211908, 0.0013812489692214562, 0.0014137540916446282, 0.001362014805031164, 0.001401269657226433, 0.0013610078256549084, 0.0014106387492176461, 0.0013813469494577812, 0.001422539319515446, 0.0013757545665148334, 0.0013735564478393962, 0.0013617469685431888, 0.0014240413013461666, 0.0013994819649133519, 0.0014145007439606522, 0.0013454396957342902, 0.001378705774164882, 0.0013797799808720455, 0.0014368717061039374, 0.0014152531177517344, 0.0014034565117723606, 0.0014175184581560387, 0.0014218127873424126, 0.0014494303380699505, 0.001399597556561573, 0.0014368111836400197, 0.0013748022568309066, 0.001364690957302259, 0.0014233132438240806, 0.0014050975005489926, 0.0013922327683227127, 0.0013997679659618065, 0.0013915819507149324, 0.0013609674147844492, 0.0014026258357857434, 0.001423469153954615, 0.0014147210093495295, 0.0014010295788485243, 0.0014169123451229502, 0.00137383966358093, 0.0013837814365145137, 0.0013872407933725392, 0.0014470250869605375, 0.0013982717838283943, 0.0014271995492371112, 0.0014129816926952766, 0.0013643999499646634, 0.0014385280727383064, 0.0014118863880746694, 0.0013722389891240433, 0.001405446511666215, 0.0014430523280617163, 0.0014305794933218712, 0.0014529690499924125, 0.0013756737437143455, 0.0014031549708315634, 0.0014130290736278194, 0.0013981838217577282, 0.001403489784596926, 0.001400852213164015, 0.0014093986197951868, 0.0014564820794954554, 0.0014271995548142573, 0.001418566029817207, 0.0014181281569733515, 0.0014127585552212165, 0.0013785280508872432, 0.0014179307674404551, 0.0014407723209693237, 0.0013889028258687439, 0.001415762328911169, 0.0014177934520724848, 0.0013689871582608358, 0.0014151099021140173, 0.0013463036382456916, 0.001409631769847529, 0.0014094958820484967, 0.0014463707829732975, 0.0013648497030547505, 0.0014109684491341388, 0.0013735090668802535, 0.0013870562650196883, 0.0013631884223219324, 0.0014149069022431585, 0.0014422813595036373, 0.0013843315919918955, 0.0013499881779286695, 0.0014002526653042924, 0.0014322058387195695, 0.0013939922110780283, 0.001397049489311533, 0.0014158365292731357, 0.001425947982459756, 0.0014037416921738465, 0.001384339994009539, 0.001416843866409965, 0.0013872643612764773, 0.0014229198925021721, 0.0014330354607865832, 0.001389085957813604, 0.0013380968994379048, 0.0013870762790049098, 0.00140756311067962, 0.0014124788287964032, 0.001355967207336767, 0.0013860718024289588, 0.0013957135685068707, 0.0013556475199883258, 0.0014357131076809333, 0.0013694112399742799, 0.0014141190143886642, 0.0013990242023126922, 0.0013873923792500362, 0.0014090167113824713, 0.0013904676909162977, 0.0013696471168413759, 0.0014018992009494384, 0.001406689591398494, 0.0013922642364498545, 0.0014044343473848268, 0.0013775459241684846, 0.001420075962484224, 0.0013719115241524148, 0.001387938805131676, 0.001389589358100636, 0.0013883106981274055, 0.0013777216806874942, 0.0013952079346684085, 0.0013907080067693096, 0.0013832643583294318, 0.0013943482832428384, 0.0014196958407661476, 0.0014053664112039913, 0.0013917807719227243, 0.0014235006193044372, 0.0014050190104782584, 0.0013671441955957248, 0.0013990645208287668, 0.0013767819286343026, 0.0014376154976841378, 0.0014143791514705864, 0.0013878241940680576, 0.0014114883992359356, 0.0014166222932267619, 0.0013944033526020884, 0.0014098663499173786, 0.0014341911956793929, 0.0014058126861568856, 0.0013791391743120207, 0.0013967384288784432, 0.0013741571578894905, 0.0014062363881473154, 0.0013656322067740992, 0.0014467477742817567, 0.001420665631855542, 0.0014093115181798433, 0.0014033402971309612, 0.0014255174639083443, 0.0013872000170476106, 0.001413789671971518, 0.0013772296342894857, 0.0013945306538199857, 0.001394836128273948, 0.0013950756241893248, 0.0013938719705585078, 0.0014167639443990162, 0.0013961777242821817, 0.0014000912997661392, 0.0013928151070889403, 0.0014015902162216605, 0.0013911399892215892, 0.0013741260920534675, 0.0014173357338277657, 0.0014222333156589104, 0.0013883471725222036, 0.0013923571209993528, 0.0014073790289786028, 0.0014022996621972264, 0.0014240842130969515, 0.0014117308355096412, 0.0013990329186260699, 0.0013819877545121746, 0.001401264114570959, 0.001393408531276268, 0.0013978050367322136, 0.0013868088111098702, 0.0013940536273537442, 0.0014084338362928795, 0.0013882763692859247, 0.0013927797948674629, 0.0013910055122382308, 0.0014174844037927305, 0.0014309732243180276, 0.0013909196901318, 0.001388253483390467, 0.0013980645592030453, 0.0013990903121563333, 0.0013995140598521455, 0.00138064970072511, 0.0014202994575486846, 0.001386971691693645, 0.0014174958907468482, 0.0013965782276156977, 0.0013746649832809584, 0.001416163010862722, 0.0013976380859184697, 0.0014264489689942762, 0.0014062594975808084, 0.0014153510979904467, 0.0013984137702469988, 0.0014299553383890229, 0.0014271881091059194, 0.0014102153601632781, 0.001420099518863516, 0.0014208944464640658, 0.0014033869601077702, 0.0014361651041034295, 0.0014182326198775008, 0.0014221331900435325, 0.001410979176903112, 0.0013958330056663916, 0.0014325725550333368, 0.001403415366308172, 0.0013878474431447026, 0.0013989783844330814, 0.001390137993799632, 0.0014002762663785056, 0.0014057826482457283, 0.0013820363870597156, 0.0014079898856934477, 0.0014179937008359145, 0.0013991929410825323, 0.0014211834252350663, 0.001379064439046724, 0.001405737927057253, 0.0014027288118365836, 0.0013742186972450464, 0.0013971805915176869, 0.0014120977030099636, 0.0013929620773574893, 0.0014011325150896465, 0.0014075602415726206, 0.0013973720820900368, 0.0013974893666918995, 0.0013972573844220806, 0.001387806225064738, 0.0013955489881369901, 0.0014062846183386015, 0.0013899895930207927, 0.001413170495740138, 0.0013900725544336871, 0.001403079609697553, 0.0014224693264480992, 0.0013850323157018087, 0.0013935032930970195, 0.0014296097252705154, 0.0014194877234693928, 0.0014037901452067924, 0.0013761826489645677, 0.001389084493920921, 0.001397153949683561, 0.0013780924590032861, 0.0013984952788945605, 0.0013938569516893792, 0.0014093735771726818, 0.0014278460869379054, 0.0014109090441728337, 0.001398371909618719, 0.0014208244027611183, 0.0013993745978832244, 0.0013934478635269218, 0.0014176818833378422, 0.0013812331569438196, 0.0014132377300402614, 0.0014034107427649033, 0.0014100086719281346, 0.0014009466621677231, 0.0014111908714321713, 0.001379858628742178, 0.0014038087183445307, 0.0014256890857699941, 0.0014046834102865622, 0.0013967067819801436, 0.0014124038238470828, 0.0013958995178093366, 0.0013939917639139727, 0.0013903675679203438, 0.0013998051331694842, 0.0014008134590100722, 0.0014013585188862251, 0.0014237485228094893, 0.0013925842806970948, 0.0014106473314281867, 0.0014009694391304791, 0.0013940949515860216, 0.0013905320630830716, 0.0014001369842525887, 0.0013882136146643514, 0.0013762433950214262, 0.0014038072204041116, 0.0014000940732015901, 0.0014149066110004684, 0.0013967955538712134, 0.001387201805181722, 0.0013915120414548254, 0.0014018949178709063, 0.001405356398641055, 0.0014063346812341047, 0.0013985542815487181, 0.0013830641067450321, 0.0013984519990749972, 0.001421961635055797, 0.001397067435965687, 0.0014224986490014625, 0.0014030665574929298, 0.0013814681731816696, 0.0014205683668136596, 0.0014190606690969634, 0.0014120026055070298, 0.001411448156155925, 0.0014094937392946651, 0.0013863256599982855, 0.0014246020057705503, 0.0014048642624944448, 0.0014021165914522835, 0.0013989138404333322, 0.0014183194812349665, 0.0013984800814050079, 0.0014005384763771669, 0.0013737865583598615, 0.0013941365887161661, 0.0014199561691280768, 0.0014180345529621469, 0.001398042927674329, 0.0013893083787066083, 0.001421365083422372, 0.0014008965102349992, 0.001391649256252744, 0.0014083644634243417, 0.0014021852719226298, 0.001416294069769094, 0.001390918977741959, 0.0014200133838656976, 0.0014078208787247537, 0.0013978147587897583, 0.0014011096333840397, 0.0013970762863703072, 0.0013868716553020292, 0.0014177476802812287, 0.001414226111936314, 0.0014002049267527034, 0.0013912924799028468, 0.0014212606650651383, 0.0013932977669468705, 0.0014051218183833, 0.001395522615697016, 0.0013888690782010555, 0.001398662263233587, 0.0013818182558529707, 0.0013765044370731895, 0.0014119911625620292, 0.0014039704610271982, 0.0013917977576353967, 0.0013941765943330101, 0.0013933970882415775, 0.001397529422442353, 0.0013855858463680138, 0.0013975422959331108, 0.0014116257034305169, 0.0014385366996495657, 0.001406266470539911, 0.0014028260880637913, 0.0013968013650880523, 0.001386987255329951, 0.001397975342766661, 0.0013795436152182795, 0.0013956077242114873, 0.0014092455704171865, 0.0014018305404666497, 0.0014163486011683941, 0.0014063218973146148, 0.0014110599927074426, 0.001393826913647268, 0.001402254555300382, 0.0014178120803859085, 0.0013996274155007075, 0.0014028403358742596, 0.0013975980803026488, 0.001398559287903677, 0.0014116285641666817, 0.0013970516683451178, 0.0014018963374574389, 0.0013984784720655846, 0.0013607217519763545, 0.0014010509898497866, 0.0014120673296805788, 0.0014265244544528737, 0.0013999655188381677, 0.0013784284611259774, 0.0014329823583588625, 0.0013911600150755528, 0.0014035627151866253, 0.0013662386159361039, 0.0014035921732331903, 0.0014081434715035991, 0.0014021806175502332, 0.0014130474952308149, 0.0014281450339841066, 0.0013844558559252802, 0.0014010696012271566, 0.0013814102432605194, 0.0013939863992463188, 0.0014149795597907474, 0.0013713179212566783, 0.0014166770495121753, 0.001407991137277072, 0.0014110310274089103, 0.001408619069003718, 0.0013953824392641317, 0.0013988085297433322, 0.001415961127770818, 0.0013980221859247726, 0.001398732362460749, 0.001410020852419471, 0.0014160255612251527, 0.0014063562282537493, 0.0014103011794760207, 0.0014012608955418788, 0.0014002743003196634, 0.0013870133539622103, 0.0013835447105404305, 0.001406523578914476, 0.0013893634485859232, 0.001379004726751739, 0.0014122035722729132, 0.0013910384107331142, 0.0014046515845894815, 0.001414955959061312, 0.001398093345062349, 0.0013897124591800113, 0.0013916627665390424, 0.001397941363135539, 0.0014012841393789943, 0.0013987241322539145, 0.0013998509105678963, 0.001392945091776453, 0.0013852410827923255, 0.0014048629215458735, 0.0014017239780191018, 0.001407780867684226, 0.0014141116837498116, 0.0014072101561066078, 0.0013786610751506255, 0.0013930859831091335, 0.0014017045451254857, 0.0014102010564790435, 0.0014067234732495016, 0.0014050860603840396, 0.0013816280168529916, 0.001402866138205043, 0.0014101157707634999, 0.0014153589203163984, 0.001409633203009641, 0.0014148039820657441, 0.0013863782592125555, 0.0014048182228613897, 0.0013986594164655229, 0.0014061903030827224, 0.0014160791595325519, 0.001391574798870428, 0.0013957242974919444, 0.0013882159362200333, 0.0013998022557141587, 0.0013942188293134797, 0.001410847136017339, 0.001392199869871822, 0.0014032951486858463, 0.0014084746073915791, 0.0013882842364861773, 0.001396781339934216, 0.0013937861484541233, 0.001376040908305961, 0.0014223920865539146, 0.00140742086725533, 0.0013889361267209056, 0.0014144092003835968, 0.001406273979973452, 0.001404309011351721, 0.0013815849269609246, 0.0013807748244396081, 0.0013799358798332825, 0.0014039732323660188, 0.0013881158998273941, 0.0014058212683568548, 0.001391611988450461, 0.0014079067451799637, 0.0014217555949542985, 0.0014128683360089714, 0.0013818633124576278, 0.0013883829317331313, 0.0014185844349851172, 0.0014301332376458352, 0.0014109626382671926, 0.0014054880145240322, 0.0014113496426736588, 0.0013942724737153718, 0.0013934385710197598, 0.0013968285365048134, 0.0014113439222503263, 0.0013844622932812666, 0.0013954629872351887, 0.0013991278600176868, 0.0014098667078610825, 0.0013955433616486997, 0.0013899369488016083, 0.001400175224258751, 0.001384454424855024, 0.0014019506690640315, 0.0013954396543506221, 0.0014062185755482548, 0.0014157337208439364, 0.0013969801611426905, 0.0013872807432902218, 0.0013951099544290142, 0.001414177301904307, 0.001396804225848089, 0.0014002042101733526, 0.0014065979584213662, 0.0013819048825399348, 0.0013914532177286983, 0.0014151272453311516, 0.0014085761579622678, 0.0013958001073675987, 0.0013897553716322876, 0.0013989383355127046, 0.0013993195287016497, 0.0013890981159462264, 0.0014097378860037078, 0.0014014577506959438, 0.0014111887035273016, 0.001398455574995715, 0.0014056382699088276, 0.0014105591849526062, 0.0014123946158558132, 0.0014077122126298957, 0.0014072578052550556, 0.0013812475389396535, 0.001379874295773598, 0.0014022367706859483, 0.0014130804106409485, 0.0014035784506804612, 0.0014116972218510078, 0.0013982707110524178, 0.001402820355412616, 0.0014160312409681273, 0.0013926448934211539, 0.0014083959762303765, 0.0013836991900658692, 0.001411836235782504, 0.0013993645908885676, 0.0014163266092542244, 0.0013771152044554848, 0.001389955253026043, 0.0014069224956072869, 0.0014272388899557922, 0.0014124323866120262, 0.001395312307560343, 0.0013987450681569658, 0.0013966726319316464, 0.001395745401209998, 0.001388044996029248, 0.0014180780953887537, 0.0013975022456172539, 0.0014019678111386758, 0.0014099893619550997, 0.0014163738337613643, 0.001400165010532863, 0.0013938233373333468, 0.0013895565490273103, 0.0014087749791608522, 0.0014018133760343144, 0.0014020851457182992, 0.0013903803965156574, 0.0013853913161972866, 0.0014011925961439884, 0.0014003347326878148, 0.001383447445498889, 0.0014072387414764867, 0.0013985676689686581, 0.0013973435641199351, 0.0014020622601512505, 0.0013978512569118098, 0.00139523149104429, 0.001404291128955809, 0.0013945041933999729, 0.0013929104053827662, 0.0013859820581597453, 0.0013975509228365264, 0.0014046656983015455, 0.0014126850757184817, 0.0013917220821241464, 0.0014031877813013927, 0.0013934322998892519, 0.0014040932045175363, 0.0014067281442984307, 0.001386588445146508, 0.0014129405751911607, 0.0014102353853662221, 0.0014060557590419775, 0.0013794531415781562, 0.001378452598953588, 0.001400581739434941, 0.001395585546340733, 0.001388650410627978, 0.001410732622731789, 0.001407875277423859, 0.0013984348458290102, 0.0014158996554542334, 0.001389454992866175, 0.001398221631535206, 0.00138346174917187, 0.0014099553899616047, 0.0013971761216163634, 0.0013959034387399907, 0.0014091934457363877, 0.0013883511060350275, 0.0014096518005931751, 0.001402914759709467, 0.0014132106417398204, 0.001388304978050897, 0.0013934199744855638, 0.0014003115785771343, 0.001392921669534101, 0.0013921161262698471, 0.0013901243162402221, 0.0013897950629533967, 0.0013958966570612357, 0.0013826600276722245, 0.0013929365040273023, 0.0014092001534697048, 0.001420957427022113, 0.0013975973644186506, 0.0014164317406342448, 0.0014042979259971213, 0.0014108375758409373, 0.0014132914121337565, 0.0013965868098272615, 0.0013867802039132782, 0.0013868745195313276, 0.001396247454918795, 0.001393045569614135, 0.0014056503393408226, 0.0014072026466727258, 0.001397461837708609, 0.0014077579873004377, 0.0014152570568512523, 0.0014038442757128408, 0.001396622569036825, 0.0013889166379511357, 0.0013887012166387787, 0.0013967041000420776, 0.001404193509104596, 0.001397765344014601, 0.001410555787936729, 0.0013822487960493287, 0.0014052233743694882, 0.0013725209504991773, 0.0013938390497335563, 0.0014066250488065021, 0.001391575111719528, 0.0013948138681650164, 0.0014043422674158616, 0.0014078180626869202, 0.0014047198895703152, 0.0014013442151886903, 0.0014048400356343877, 0.001410822596258051, 0.0014089797900401686, 0.0014004752663905348, 0.0013973786081023173, 0.0013928306623455452, 0.001399347420884543, 0.0014081953223599726, 0.0014000732434627872, 0.0013858761663716605, 0.001396160560054803, 0.0013946493757966596, 0.001409555245135851, 0.0013986447551874771, 0.001393809190791353, 0.0013943211062404054, 0.0013921569587284051, 0.001410521559580043, 0.0014003029069900516, 0.001400211364805066, 0.0013979687189312967, 0.001409725545583945, 0.0013823603626924568, 0.0013838018304399835, 0.0014032205009927206, 0.0014024764412047998, 0.0013952412354301979, 0.0014070984085711377, 0.0014090267126526585, 0.0013978469644073085, 0.0014083086343574956, 0.001398028621197429, 0.0013914238950000475, 0.0014049487436267275, 0.0013934958060119618, 0.0013788947615907853, 0.0014049444327937613, 0.001409824869582309, 0.0014114483377429383, 0.0013943477468550205, 0.001390553694611788, 0.0014093631287769746, 0.0014041678071665302, 0.0013932411780397686, 0.0014027572962824254, 0.0013966962337141709, 0.0014052827570112968, 0.0013854771382835968, 0.0014081974679112437, 0.0013962521036161714, 0.0013779033374786377, 0.0014061660765561893, 0.0013978705878351198, 0.0013883969225242732, 0.0013911878842060843, 0.0013824948194168002, 0.0013953960560505899, 0.0014212878421320252, 0.0014093124512720855, 0.0013952136337871393, 0.0014058448023978934, 0.0013890687933925225, 0.0013897232763439421, 0.001411948966781181, 0.0013916437917997405, 0.001404395168525464, 0.0013876612214668324, 0.0014141853253744543, 0.00141382382210459, 0.001398068135124104, 0.001382035627154324, 0.0013947058739549288, 0.001374335998630865, 0.001390459290301296, 0.0013969916154390962, 0.0013998244487738879, 0.0013860964878078868, 0.0013948760884930152, 0.0013870018663212657, 0.0013921047503706381, 0.0014170673612998196, 0.0014094428718176056, 0.00140378723977025, 0.0013921440855039888, 0.0014013835950329899, 0.001402092297889166, 0.0014079873825517757, 0.0013835847608562875, 0.0014149613225940302, 0.00140097196182149, 0.0013945982401251794, 0.0013929222058431416, 0.0013841247249351213, 0.001409771275468171, 0.0013992619563616927, 0.0013888284020983311, 0.001417467684264128, 0.0014158349201055902, 0.0013952086498280664, 0.0013917350001331735, 0.0013953324214393602, 0.001397907710360495, 0.0014117015129692374, 0.0014138359606807125, 0.00138884706463546, 0.001402328310071789, 0.0013895851228691327, 0.0013921769832806706, 0.0014098549520226485, 0.0013980658331252634, 0.001397312027569255, 0.0013994605987833213, 0.0013943754623391737, 0.0013895207898167237, 0.0013836877473831178, 0.0014012798039256269, 0.0014052891266179545, 0.0014024434980351161, 0.0013868989245674514, 0.0013832700805073452, 0.0014068010679468787, 0.0013778550625211563, 0.0013945413864724578, 0.0013927162328829222, 0.0013988825511400975, 0.0013948761101386432, 0.0014153232058055072, 0.0013990069932202204, 0.0014014618630051612, 0.0013948825370268246, 0.0014032094156251618, 0.0014050467238691912, 0.001401731129860878, 0.0013924634376023279, 0.0014190936569687294, 0.001404186692505078, 0.0013993588637459917, 0.0013908925131334595, 0.0013964709052842422, 0.0014072437697676288, 0.0013890265975042507, 0.0014019022376835343, 0.001380051661454015, 0.0014157451169943165, 0.0014071600932117868, 0.0013888829795945122, 0.0013855472263363468, 0.0014030055881255003, 0.0013769650164939975, 0.0013990584864619804, 0.0014153514555784604, 0.0013873873953213147, 0.0014056696486280532, 0.0013854070502308472, 0.001397539432399165, 0.0013992487254633243, 0.0014035948999139205, 0.0013955140335055725, 0.001387716027863007, 0.0014041116205099654, 0.0013802662167165113, 0.0013978770021435187, 0.0014010338252540995, 0.0014031915360208913, 0.0013936910289304321, 0.001402343863945532, 0.0014011482536806842, 0.0013957997495163128, 0.0014112965398967265, 0.0013929479529058214, 0.0013948099793672346, 0.0014043437201331096, 0.0013859155461150162, 0.0014023869537843992, 0.001392888167629139, 0.0013953740361974905, 0.0014016642601585654, 0.0013966068349841668, 0.0014081616863508093, 0.0013750683472633365, 0.0014030406321522161, 0.0013750225754846986, 0.0014033989170927868, 0.001407805189371109, 0.0014176532759611882, 0.0014146266163829401, 0.001424982127398596, 0.0014072355898509354, 0.0013999652953431015, 0.0013985582094421082, 0.0013960518520341582, 0.0013974879195818076, 0.0014081357829224064, 0.0014001076616593257, 0.001399130003480512, 0.0014053606897381408, 0.0013924991744664775, 0.0013974450755793288, 0.0014176185895327167, 0.0013976138143757685, 0.0013936030612890996, 0.0013935193847414422, 0.001385342683628602, 0.001404282147244768, 0.0013944752116759039, 0.001396325052408496, 0.0013794266798441682, 0.001398130870192246, 0.0013999900140716835, 0.0013925803255209097, 0.0013949933347028067, 0.001408628545194523, 0.0014009500593022773, 0.0013992101055138443, 0.001402472060702867, 0.0014109149891197684, 0.0014032551874164178, 0.0013995730726774156, 0.0013952265518101482, 0.0013997371739236093, 0.0014036385261539056, 0.0014100151085799015, 0.0013894271006808943, 0.0013847147297417187, 0.0014022939686604158, 0.00139166777282034, 0.0013890003145045904]\n"
     ]
    }
   ],
   "source": [
    "print(thisRes)"
   ]
  },
  {
   "cell_type": "code",
   "execution_count": 23,
   "id": "impaired-performer",
   "metadata": {},
   "outputs": [
    {
     "data": {
      "image/png": "[encoded data removed]",
      "text/plain": [
       "<Figure size 432x288 with 1 Axes>"
      ]
     },
     "metadata": {
      "needs_background": "light"
     },
     "output_type": "display_data"
    }
   ],
   "source": [
    "plt.plot(thisRes)\n",
    "plt.plot(modelTruth,\"b\",linewidth=3)\n",
    "#plt.plot(modelConstant,\"y\",linewidth=3)\n",
    "#plt.plot(modelEstimatedGloballyAsMedian,\"g\",linewidth=3)\n",
    "plt.plot(modelEstimatedChr19CombinedReps,\"r:\",linewidth=3)\n",
    "#plt.plot(modelEstimatedChr19WithGC,\"k:\",linewidth=3)\n",
    "plt.xlim([0,100])\n",
    "plt.show()"
   ]
  },
  {
   "cell_type": "code",
   "execution_count": null,
   "id": "abroad-batman",
   "metadata": {},
   "outputs": [],
   "source": []
  }
 ],
 "metadata": {
  "kernelspec": {
   "display_name": "Python 3",
   "language": "python",
   "name": "python3"
  },
  "language_info": {
   "codemirror_mode": {
    "name": "ipython",
    "version": 3
   },
   "file_extension": ".py",
   "mimetype": "text/x-python",
   "name": "python",
   "nbconvert_exporter": "python",
   "pygments_lexer": "ipython3",
   "version": "3.7.9"
  }
 },
 "nbformat": 4,
 "nbformat_minor": 5
}
