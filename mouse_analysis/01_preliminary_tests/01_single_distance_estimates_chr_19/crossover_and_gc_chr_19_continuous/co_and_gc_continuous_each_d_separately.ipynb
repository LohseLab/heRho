{
 "cells": [
  {
   "cell_type": "code",
   "execution_count": 22,
   "id": "minute-samba",
   "metadata": {},
   "outputs": [],
   "source": [
    "import numpy as np\n",
    "import nlopt\n",
    "import pandas as pd\n",
    "from math import log, exp\n",
    "from multiprocessing import Pool, cpu_count\n",
    "import time\n",
    "import matplotlib.pyplot as plt\n",
    "#%matplotlib notebook"
   ]
  },
  {
   "cell_type": "code",
   "execution_count": 23,
   "id": "collect-sydney",
   "metadata": {},
   "outputs": [],
   "source": [
    "fileIn = \"chr19_2000_sorted_continuous_genome_gc.tsv\"\n"
   ]
  },
  {
   "cell_type": "code",
   "execution_count": 24,
   "id": "determined-night",
   "metadata": {},
   "outputs": [],
   "source": [
    "def rho(rbp,g,L,d):\n",
    "    r = rbp*(d+2*(g/rbp)*L*(1 - exp(-d/L)))\n",
    "    return(r)"
   ]
  },
  {
   "cell_type": "code",
   "execution_count": 25,
   "id": "expressed-battle",
   "metadata": {},
   "outputs": [],
   "source": [
    "def single_dist_obj_fun(r,x):\n",
    "    d,h0,h1,h2,th = x\n",
    "    r = r*(d)\n",
    "    calcH0 =(18+13*r + r**2 + 36*th + 22*th**2 + 4*th**3 + r*(6*th+th**2))/((1+th)*(18+13*r+r**2+54*th + 40*th**2+8*th**3+r*(r*th+19*th+6*th**2)))\n",
    "    calcH2 = (th**2*(36+14*r+r**2+36*th+6*th*r+8*th**2))/((1+th)*(18+13*r+r**2+54*th + 40*th**2+8*th**3+r*(r*th+19*th+6*th**2)))\n",
    "    calcH1 = 1 - calcH0 - calcH2\n",
    "    \n",
    "    val = h0*log(calcH0) + h1*log(calcH1)+h2*log(calcH2)\n",
    "    return(val)"
   ]
  },
  {
   "cell_type": "code",
   "execution_count": 26,
   "id": "organic-prophet",
   "metadata": {},
   "outputs": [],
   "source": [
    "def single_dist_multi_ind_obj_fun(r,xl):\n",
    "    res = [ single_dist_obj_fun(r,xs) for xs in xl]\n",
    "    res = sum(res)\n",
    "    return(res)"
   ]
  },
  {
   "cell_type": "code",
   "execution_count": 27,
   "id": "built-tender",
   "metadata": {},
   "outputs": [],
   "source": [
    "def find_max_like_single_dist(args):\n",
    "    d, testChr = args\n",
    "    opt = nlopt.opt(nlopt.LN_NELDERMEAD,1)\n",
    "    opt.set_lower_bounds([0.0000001])\n",
    "    opt.set_upper_bounds([0.5])\n",
    "    startPoint = [0.001]\n",
    "    opt.set_max_objective(lambda x, grad: single_dist_obj_fun(x,testChr))\n",
    "    res = opt.optimize(startPoint)\n",
    "    return([testChr[0],res[0]])"
   ]
  },
  {
   "cell_type": "code",
   "execution_count": null,
   "id": "closed-student",
   "metadata": {},
   "outputs": [],
   "source": []
  },
  {
   "cell_type": "code",
   "execution_count": 28,
   "id": "surprising-finance",
   "metadata": {},
   "outputs": [],
   "source": [
    "def calc_single_dist(x,rbp):\n",
    "    d,h0,h1,h2,th = x\n",
    "    \n",
    "    r = rbp*(d)\n",
    "    \n",
    "    calcH0 =(18+13*r + r**2 + 36*th + 22*th**2 + 4*th**3 + r*(6*th+th**2))/((1+th)*(18+13*r+r**2+54*th + 40*th**2+8*th**3+r*(r*th+19*th+6*th**2)))\n",
    "    calcH2 = (th**2*(36+14*r+r**2+36*th+6*th*r+8*th**2))/((1+th)*(18+13*r+r**2+54*th + 40*th**2+8*th**3+r*(r*th+19*th+6*th**2)))\n",
    "    calcH1 = 1 - calcH0 - calcH2\n",
    "    \n",
    "    val = h0*log(calcH0) + h1*log(calcH1)+h2*log(calcH2)\n",
    "    return(val)"
   ]
  },
  {
   "cell_type": "code",
   "execution_count": 29,
   "id": "contained-sacramento",
   "metadata": {},
   "outputs": [],
   "source": [
    "def single_chr_obj_fun(x_,arr):\n",
    "    rbp= x_\n",
    "    test = np.apply_along_axis(lambda x: calc_single_dist(x,rbp),1,arr)\n",
    "    obfun = np.sum(test)\n",
    "    #test = [calc_single_dist(x,rbp,g,L) for x in arr]\n",
    "    #obfun = sum(test)\n",
    "    return(obfun)"
   ]
  },
  {
   "cell_type": "code",
   "execution_count": 42,
   "id": "flexible-token",
   "metadata": {},
   "outputs": [],
   "source": [
    "def calc_single_dist_gc(x,rbp,g,L):\n",
    "    d,h0,h1,h2,th = x\n",
    "    \n",
    "    r = rbp*(d+2*(g/rbp)*L*(1 - exp(-d/L)))\n",
    "    \n",
    "    calcH0 =(18+13*r + r**2 + 36*th + 22*th**2 + 4*th**3 + r*(6*th+th**2))/((1+th)*(18+13*r+r**2+54*th + 40*th**2+8*th**3+r*(r*th+19*th+6*th**2)))\n",
    "    calcH2 = (th**2*(36+14*r+r**2+36*th+6*th*r+8*th**2))/((1+th)*(18+13*r+r**2+54*th + 40*th**2+8*th**3+r*(r*th+19*th+6*th**2)))\n",
    "    calcH1 = 1 - calcH0 - calcH2\n",
    "    \n",
    "    val = h0*log(calcH0) + h1*log(calcH1)+h2*log(calcH2)\n",
    "    return(val)"
   ]
  },
  {
   "cell_type": "code",
   "execution_count": 43,
   "id": "entitled-penalty",
   "metadata": {},
   "outputs": [],
   "source": [
    "def single_chr_obj_fun_gc(x_,arr):\n",
    "    rbp, g, L = x_\n",
    "    test = np.apply_along_axis(lambda x: calc_single_dist_gc(x,rbp,g,L),1,arr)\n",
    "    obfun = np.sum(test)\n",
    "    #test = [calc_single_dist(x,rbp,g,L) for x in arr]\n",
    "    #obfun = sum(test)\n",
    "    return(obfun)"
   ]
  },
  {
   "cell_type": "code",
   "execution_count": 30,
   "id": "massive-genome",
   "metadata": {},
   "outputs": [],
   "source": [
    "def across_chr_obj_fun(x,dfArrList,numChrs):\n",
    "    \n",
    "    rList = x[0:numChrs]\n",
    "    gList = x[numChrs:numChrs+numChrs]\n",
    "    L = x[-1]\n",
    "    \n",
    "    obFun = sum([single_chr_obj_fun([rs,gs,L],arr) for (rs,gs,arr) in list(zip(rList,gList,dfArrList))])\n",
    "    \n",
    "    return(obFun)"
   ]
  },
  {
   "cell_type": "code",
   "execution_count": 31,
   "id": "portable-immune",
   "metadata": {},
   "outputs": [],
   "source": [
    "def find_max_like_single_ind(rep):\n",
    "    \n",
    "    numberChromsomes = 19\n",
    "    dfListAuto = [ df.loc[(df['chromosome']== x) & (df['replicate']==rep) & (df['sample']==1) & (df['Unnamed: 0']<=10)] for x in list(range(1,numberChromsomes+1))]\n",
    "    dfListAuto = [x.iloc[:,[0,4,5,6,11]].to_numpy() for x in dfListAuto]\n",
    "\n",
    "    lowerBounds = [0.0001 for x in range(numberChromsomes)]+ [0.0001 for x in range(numberChromsomes)]+[10]\n",
    "    upperBounds = [0.1 for x in range(numberChromsomes)]+[0.1 for x in range(numberChromsomes)]+[2000]\n",
    "    startPoints = [0.001 for x in range(numberChromsomes)]+[0.001 for x in range(numberChromsomes)]+[50]\n",
    "\n",
    "\n",
    "    opt=nlopt.opt(nlopt.LN_NELDERMEAD,numberChromsomes+numberChromsomes+1)\n",
    "\n",
    "    opt.set_lower_bounds(lowerBounds)\n",
    "    opt.set_upper_bounds(upperBounds)\n",
    "\n",
    "    opt.set_max_objective(lambda x,grad: across_chr_obj_fun(x,dfListAuto,numberChromsomes))\n",
    "\n",
    "    res = opt.optimize(startPoints)\n",
    "    return(res)"
   ]
  },
  {
   "cell_type": "code",
   "execution_count": 32,
   "id": "sufficient-vision",
   "metadata": {},
   "outputs": [],
   "source": [
    "def combine_across_individuals(thisDF):\n",
    "    test = thisDF\n",
    "    numSamples = len(test['sample'].unique())\n",
    "    test = test.groupby(['Unnamed: 0'],as_index=False).sum()\n",
    "    test['H'] = test['H']/numSamples\n",
    "    return(test.iloc[:,[0,4,5,6,11]].to_numpy())\n",
    "    #return( test.iloc[:,[0,4,5,6,11]].to_numpy() )"
   ]
  },
  {
   "cell_type": "code",
   "execution_count": 33,
   "id": "logical-slovak",
   "metadata": {},
   "outputs": [],
   "source": [
    "def find_max_like_group_ind(rep):\n",
    "    \n",
    "    numberChromsomes = 19\n",
    "    dfListAuto = [ df.loc[(df['chromosome']== x) & (df['replicate']==rep) & (df['Unnamed: 0']<=10)] for x in list(range(1,numberChromsomes+1))]\n",
    "    dfListAuto = [combine_across_individuals(x) for x in dfListAuto]\n",
    "\n",
    "    lowerBounds = [0.0001 for x in range(numberChromsomes)]+ [0.0001 for x in range(numberChromsomes)]+[10]\n",
    "    upperBounds = [0.1 for x in range(numberChromsomes)]+[0.1 for x in range(numberChromsomes)]+[2000]\n",
    "    startPoints = [0.001 for x in range(numberChromsomes)]+[0.001 for x in range(numberChromsomes)]+[50]\n",
    "\n",
    "\n",
    "    opt=nlopt.opt(nlopt.LN_NELDERMEAD,numberChromsomes+numberChromsomes+1)\n",
    "\n",
    "    opt.set_lower_bounds(lowerBounds)\n",
    "    opt.set_upper_bounds(upperBounds)\n",
    "\n",
    "    opt.set_max_objective(lambda x,grad: across_chr_obj_fun(x,dfListAuto,numberChromsomes))\n",
    "\n",
    "    res = opt.optimize(startPoints)\n",
    "    return(res)"
   ]
  },
  {
   "cell_type": "code",
   "execution_count": 34,
   "id": "protected-petersburg",
   "metadata": {},
   "outputs": [],
   "source": [
    "def combine_across_individuals_and_replicates(thisDF):\n",
    "    test = thisDF\n",
    "    numSamples = len(test['sample'].unique())\n",
    "    numReplicates = len(test['replicate'].unique())\n",
    "    test = test.groupby(['Unnamed: 0'],as_index=False).sum()\n",
    "    test['H'] = test['H']/(numSamples*numReplicates)\n",
    "    return(test.iloc[:,[0,4,5,6,11]].to_numpy())\n",
    "    #return( test.iloc[:,[0,4,5,6,11]].to_numpy() )"
   ]
  },
  {
   "cell_type": "code",
   "execution_count": 16,
   "id": "received-glossary",
   "metadata": {},
   "outputs": [],
   "source": [
    "df = pd.read_csv(fileIn,delimiter='\\t')"
   ]
  },
  {
   "cell_type": "code",
   "execution_count": 18,
   "id": "forty-alpha",
   "metadata": {
    "scrolled": true
   },
   "outputs": [
    {
     "name": "stderr",
     "output_type": "stream",
     "text": [
      "/home/derek/anaconda3/envs/simulation/lib/python3.7/site-packages/pandas/core/ops/array_ops.py:253: FutureWarning: elementwise comparison failed; returning scalar instead, but in the future will perform elementwise comparison\n",
      "  res_values = method(rvalues)\n"
     ]
    }
   ],
   "source": [
    "df = pd.read_csv(fileIn,delimiter='\\t')\n",
    "df = df.loc[ df['chromosome'] != 'X']\n",
    "df = df.astype({'chromosome':'int64'})"
   ]
  },
  {
   "cell_type": "code",
   "execution_count": 19,
   "id": "strange-orbit",
   "metadata": {},
   "outputs": [
    {
     "data": {
      "text/html": [
       "<div>\n",
       "<style scoped>\n",
       "    .dataframe tbody tr th:only-of-type {\n",
       "        vertical-align: middle;\n",
       "    }\n",
       "\n",
       "    .dataframe tbody tr th {\n",
       "        vertical-align: top;\n",
       "    }\n",
       "\n",
       "    .dataframe thead th {\n",
       "        text-align: right;\n",
       "    }\n",
       "</style>\n",
       "<table border=\"1\" class=\"dataframe\">\n",
       "  <thead>\n",
       "    <tr style=\"text-align: right;\">\n",
       "      <th></th>\n",
       "      <th>Unnamed: 0</th>\n",
       "      <th>sample</th>\n",
       "      <th>replicate</th>\n",
       "      <th>chromosome</th>\n",
       "      <th>h_0</th>\n",
       "      <th>h_1</th>\n",
       "      <th>h_2</th>\n",
       "      <th>total</th>\n",
       "      <th>h_0_frac</th>\n",
       "      <th>h_1_frac</th>\n",
       "      <th>h_2_frac</th>\n",
       "      <th>H</th>\n",
       "    </tr>\n",
       "  </thead>\n",
       "  <tbody>\n",
       "    <tr>\n",
       "      <th>0</th>\n",
       "      <td>1</td>\n",
       "      <td>1</td>\n",
       "      <td>1</td>\n",
       "      <td>19</td>\n",
       "      <td>27597714</td>\n",
       "      <td>399470</td>\n",
       "      <td>2815</td>\n",
       "      <td>27999999</td>\n",
       "      <td>0.985633</td>\n",
       "      <td>0.014267</td>\n",
       "      <td>0.000101</td>\n",
       "      <td>0.007234</td>\n",
       "    </tr>\n",
       "    <tr>\n",
       "      <th>1</th>\n",
       "      <td>2</td>\n",
       "      <td>1</td>\n",
       "      <td>1</td>\n",
       "      <td>19</td>\n",
       "      <td>27597760</td>\n",
       "      <td>399376</td>\n",
       "      <td>2862</td>\n",
       "      <td>27999998</td>\n",
       "      <td>0.985634</td>\n",
       "      <td>0.014263</td>\n",
       "      <td>0.000102</td>\n",
       "      <td>0.007234</td>\n",
       "    </tr>\n",
       "    <tr>\n",
       "      <th>2</th>\n",
       "      <td>3</td>\n",
       "      <td>1</td>\n",
       "      <td>1</td>\n",
       "      <td>19</td>\n",
       "      <td>27597686</td>\n",
       "      <td>399522</td>\n",
       "      <td>2789</td>\n",
       "      <td>27999997</td>\n",
       "      <td>0.985632</td>\n",
       "      <td>0.014269</td>\n",
       "      <td>0.000100</td>\n",
       "      <td>0.007234</td>\n",
       "    </tr>\n",
       "    <tr>\n",
       "      <th>3</th>\n",
       "      <td>4</td>\n",
       "      <td>1</td>\n",
       "      <td>1</td>\n",
       "      <td>19</td>\n",
       "      <td>27597693</td>\n",
       "      <td>399506</td>\n",
       "      <td>2797</td>\n",
       "      <td>27999996</td>\n",
       "      <td>0.985632</td>\n",
       "      <td>0.014268</td>\n",
       "      <td>0.000100</td>\n",
       "      <td>0.007234</td>\n",
       "    </tr>\n",
       "    <tr>\n",
       "      <th>4</th>\n",
       "      <td>5</td>\n",
       "      <td>1</td>\n",
       "      <td>1</td>\n",
       "      <td>19</td>\n",
       "      <td>27597769</td>\n",
       "      <td>399352</td>\n",
       "      <td>2874</td>\n",
       "      <td>27999995</td>\n",
       "      <td>0.985635</td>\n",
       "      <td>0.014263</td>\n",
       "      <td>0.000103</td>\n",
       "      <td>0.007234</td>\n",
       "    </tr>\n",
       "    <tr>\n",
       "      <th>...</th>\n",
       "      <td>...</td>\n",
       "      <td>...</td>\n",
       "      <td>...</td>\n",
       "      <td>...</td>\n",
       "      <td>...</td>\n",
       "      <td>...</td>\n",
       "      <td>...</td>\n",
       "      <td>...</td>\n",
       "      <td>...</td>\n",
       "      <td>...</td>\n",
       "      <td>...</td>\n",
       "      <td>...</td>\n",
       "    </tr>\n",
       "    <tr>\n",
       "      <th>1999995</th>\n",
       "      <td>1996</td>\n",
       "      <td>10</td>\n",
       "      <td>100</td>\n",
       "      <td>19</td>\n",
       "      <td>27595741</td>\n",
       "      <td>400481</td>\n",
       "      <td>1782</td>\n",
       "      <td>27998004</td>\n",
       "      <td>0.985632</td>\n",
       "      <td>0.014304</td>\n",
       "      <td>0.000064</td>\n",
       "      <td>0.007216</td>\n",
       "    </tr>\n",
       "    <tr>\n",
       "      <th>1999996</th>\n",
       "      <td>1997</td>\n",
       "      <td>10</td>\n",
       "      <td>100</td>\n",
       "      <td>19</td>\n",
       "      <td>27595774</td>\n",
       "      <td>400413</td>\n",
       "      <td>1816</td>\n",
       "      <td>27998003</td>\n",
       "      <td>0.985634</td>\n",
       "      <td>0.014301</td>\n",
       "      <td>0.000065</td>\n",
       "      <td>0.007216</td>\n",
       "    </tr>\n",
       "    <tr>\n",
       "      <th>1999997</th>\n",
       "      <td>1998</td>\n",
       "      <td>10</td>\n",
       "      <td>100</td>\n",
       "      <td>19</td>\n",
       "      <td>27595699</td>\n",
       "      <td>400561</td>\n",
       "      <td>1742</td>\n",
       "      <td>27998002</td>\n",
       "      <td>0.985631</td>\n",
       "      <td>0.014307</td>\n",
       "      <td>0.000062</td>\n",
       "      <td>0.007216</td>\n",
       "    </tr>\n",
       "    <tr>\n",
       "      <th>1999998</th>\n",
       "      <td>1999</td>\n",
       "      <td>10</td>\n",
       "      <td>100</td>\n",
       "      <td>19</td>\n",
       "      <td>27595800</td>\n",
       "      <td>400357</td>\n",
       "      <td>1844</td>\n",
       "      <td>27998001</td>\n",
       "      <td>0.985635</td>\n",
       "      <td>0.014299</td>\n",
       "      <td>0.000066</td>\n",
       "      <td>0.007216</td>\n",
       "    </tr>\n",
       "    <tr>\n",
       "      <th>1999999</th>\n",
       "      <td>2000</td>\n",
       "      <td>10</td>\n",
       "      <td>100</td>\n",
       "      <td>19</td>\n",
       "      <td>27595755</td>\n",
       "      <td>400445</td>\n",
       "      <td>1800</td>\n",
       "      <td>27998000</td>\n",
       "      <td>0.985633</td>\n",
       "      <td>0.014303</td>\n",
       "      <td>0.000064</td>\n",
       "      <td>0.007216</td>\n",
       "    </tr>\n",
       "  </tbody>\n",
       "</table>\n",
       "<p>2000000 rows × 12 columns</p>\n",
       "</div>"
      ],
      "text/plain": [
       "         Unnamed: 0  sample  replicate  chromosome       h_0     h_1   h_2  \\\n",
       "0                 1       1          1          19  27597714  399470  2815   \n",
       "1                 2       1          1          19  27597760  399376  2862   \n",
       "2                 3       1          1          19  27597686  399522  2789   \n",
       "3                 4       1          1          19  27597693  399506  2797   \n",
       "4                 5       1          1          19  27597769  399352  2874   \n",
       "...             ...     ...        ...         ...       ...     ...   ...   \n",
       "1999995        1996      10        100          19  27595741  400481  1782   \n",
       "1999996        1997      10        100          19  27595774  400413  1816   \n",
       "1999997        1998      10        100          19  27595699  400561  1742   \n",
       "1999998        1999      10        100          19  27595800  400357  1844   \n",
       "1999999        2000      10        100          19  27595755  400445  1800   \n",
       "\n",
       "            total  h_0_frac  h_1_frac  h_2_frac         H  \n",
       "0        27999999  0.985633  0.014267  0.000101  0.007234  \n",
       "1        27999998  0.985634  0.014263  0.000102  0.007234  \n",
       "2        27999997  0.985632  0.014269  0.000100  0.007234  \n",
       "3        27999996  0.985632  0.014268  0.000100  0.007234  \n",
       "4        27999995  0.985635  0.014263  0.000103  0.007234  \n",
       "...           ...       ...       ...       ...       ...  \n",
       "1999995  27998004  0.985632  0.014304  0.000064  0.007216  \n",
       "1999996  27998003  0.985634  0.014301  0.000065  0.007216  \n",
       "1999997  27998002  0.985631  0.014307  0.000062  0.007216  \n",
       "1999998  27998001  0.985635  0.014299  0.000066  0.007216  \n",
       "1999999  27998000  0.985633  0.014303  0.000064  0.007216  \n",
       "\n",
       "[2000000 rows x 12 columns]"
      ]
     },
     "execution_count": 19,
     "metadata": {},
     "output_type": "execute_result"
    }
   ],
   "source": [
    "df"
   ]
  },
  {
   "cell_type": "code",
   "execution_count": null,
   "id": "forbidden-voluntary",
   "metadata": {},
   "outputs": [],
   "source": []
  },
  {
   "cell_type": "code",
   "execution_count": null,
   "id": "yellow-strengthening",
   "metadata": {},
   "outputs": [],
   "source": []
  },
  {
   "cell_type": "code",
   "execution_count": 46,
   "id": "accessory-harvest",
   "metadata": {},
   "outputs": [],
   "source": [
    "modelTruth = [0.00144168 for d in list(range(0,2000))]\n",
    "modelConstant = [ 0.00144168 for x in list(range(2000))]\n",
    "modelEstimatedChr19CombinedReps =  [0.0013988449096676617 for d in list(range(0,2000))]\n",
    "#we won't use this below, so just make them equal for now:\n",
    "#modelEstimatedChr19WithGC = [rho(0.0014578211661126998,0.0010329106648468952, 33.196417210391864,d+1)/(d+1) for d in list(range(0,2000))]\n"
   ]
  },
  {
   "cell_type": "code",
   "execution_count": 63,
   "id": "complimentary-worry",
   "metadata": {},
   "outputs": [],
   "source": [
    "testChr = 19\n",
    "modelTruth = [rho(0.00144168,0.00356648,200,d+1)/(d+1) for d in list(range(0,2000))]\n",
    "modelConstant = [ 0.00144168 for x in list(range(2000))]\n",
    "#modelEstimatedGloballyAsMedian = [rho(0.00164344,0.0038803,167.4,d+1)/(d+1) for d in list(range(0,2000))]\n",
    "modelEstimatedChr19CombinedReps = [rho(0.0013918962900349783,0.003558959149111771,201,d+1)/(d+1) for d in list(range(0,2000))]\n"
   ]
  },
  {
   "cell_type": "markdown",
   "id": "received-python",
   "metadata": {},
   "source": [
    "##### Here we are trying a single iteration"
   ]
  },
  {
   "cell_type": "code",
   "execution_count": 48,
   "id": "preliminary-customs",
   "metadata": {},
   "outputs": [],
   "source": [
    "testChr =  df.loc[(df['chromosome']== 19) & (df['replicate']==10) & (df['sample']==5)& (df['Unnamed: 0']<=2000)] \n",
    "testChr = testChr.iloc[:,[0,4,5,6,11]].to_numpy()"
   ]
  },
  {
   "cell_type": "code",
   "execution_count": 49,
   "id": "material-offering",
   "metadata": {},
   "outputs": [],
   "source": [
    "jobs = [[x+1,testChr[x]] for x in list(range(0,500))]\n",
    "with Pool(cpu_count()) as p:\n",
    "    thisResOneInd = p.map(find_max_like_single_dist,jobs)\n",
    "thisResOneInd = [x[1] for x in thisResOneInd]"
   ]
  },
  {
   "cell_type": "code",
   "execution_count": 64,
   "id": "developmental-banana",
   "metadata": {},
   "outputs": [
    {
     "data": {
      "image/png": "[encoded data removed]",
      "text/plain": [
       "<Figure size 432x288 with 1 Axes>"
      ]
     },
     "metadata": {
      "needs_background": "light"
     },
     "output_type": "display_data"
    }
   ],
   "source": [
    "plt.plot(thisResOneInd,\"k\",linewidth=3)\n",
    "plt.plot(modelTruth,\"b\",linewidth=3)\n",
    "#plt.plot(modelConstant,\"y\",linewidth=3)\n",
    "#plt.plot(modelEstimatedGloballyAsMedian,\"g\",linewidth=3)\n",
    "plt.plot(modelEstimatedChr19CombinedReps,\"g:\",linewidth=3)\n",
    "#plt.plot(modelEstimatedChr19WithGC,\"r:\",linewidth=3)\n",
    "\n",
    "plt.xlim([0,50])\n",
    "plt.show()"
   ]
  },
  {
   "cell_type": "code",
   "execution_count": null,
   "id": "decreased-cycling",
   "metadata": {},
   "outputs": [],
   "source": []
  },
  {
   "cell_type": "markdown",
   "id": "french-quest",
   "metadata": {},
   "source": [
    "Here combining across individuals to get an estimate of Rho/d (r/bp) for each distance  "
   ]
  },
  {
   "cell_type": "code",
   "execution_count": 73,
   "id": "opponent-hudson",
   "metadata": {},
   "outputs": [],
   "source": [
    "testPooled = df.loc[(df['chromosome']==19) & (df['replicate']<= 100) & (df['Unnamed: 0']<=2000)] \n",
    "testPooled = combine_across_individuals_and_replicates(testPooled)"
   ]
  },
  {
   "cell_type": "code",
   "execution_count": 77,
   "id": "realistic-messenger",
   "metadata": {},
   "outputs": [],
   "source": [
    "jobs = [[x+1,testPooled[x]] for x in list(range(1000))]\n",
    "with Pool(cpu_count()) as p:\n",
    "    thisRes = p.map(find_max_like_single_dist,jobs)\n",
    "thisRes = [x[1] for x in thisRes]"
   ]
  },
  {
   "cell_type": "code",
   "execution_count": 78,
   "id": "suburban-operator",
   "metadata": {},
   "outputs": [
    {
     "name": "stdout",
     "output_type": "stream",
     "text": [
      "[0.008808484210180522, 0.00882743230211298, 0.007825123080705132, 0.007017714436617408, 0.009568868064289308, 0.0076918801525441265, 0.008088505403521405, 0.00799685347400631, 0.00798179992052799, 0.008515270138917097, 0.0077831503524807555, 0.007868194337485205, 0.008398683656885965, 0.008035078292996527, 0.008294564278599871, 0.008127977850527074, 0.008005190733610808, 0.008149656156769143, 0.008452087891624091, 0.008092407448580608, 0.008495815685415267, 0.00784205865121726, 0.008122362224063824, 0.008105417722162856, 0.007939941617581497, 0.008214260713365921, 0.007766970740053308, 0.007747906075898945, 0.007896309837969174, 0.0077620928261426525, 0.008004505587831664, 0.007992590619210708, 0.008005137787973385, 0.00788448909454073, 0.008073891329325249, 0.007996424005889895, 0.007962896169956643, 0.00794642404727663, 0.007730741832893207, 0.007718989567676436, 0.007944793427279337, 0.007683731142481918, 0.007667136031872025, 0.007758691052436827, 0.007549840817567781, 0.007715565444463993, 0.007789215114596232, 0.007695016771610694, 0.007609721036282738, 0.007750286207577837, 0.007581228079804999, 0.0076647901367726465, 0.007534038815419905, 0.007720168191238272, 0.00752602750345074, 0.007579969378640282, 0.007488231269564081, 0.007558130513583604, 0.0074915389852703695, 0.007470071401348709, 0.007633001718327653, 0.007610276002471638, 0.00761206684604367, 0.007441977624563345, 0.007390291082760941, 0.00737194964717837, 0.007404709196469437, 0.007433588346119345, 0.0074756447428619135, 0.007415888956067217, 0.007351824898538877, 0.007387842470818756, 0.007404835248387906, 0.007509131812902232, 0.007343185922346564, 0.007371433060769735, 0.007282681605355178, 0.007385834054753435, 0.007259955912015094, 0.0073622901905032526, 0.007180840625264363, 0.007262840965125215, 0.0073174223938097405, 0.00716935315774952, 0.007131337552149715, 0.007131360069280358, 0.0071466020751898545, 0.007265248275195544, 0.00704413906285062, 0.0072695404756681434, 0.007268789869147178, 0.007097300136550031, 0.007060230708291162, 0.007191435543057574, 0.007044642553234101, 0.0071071813016375975, 0.007145263426353314, 0.006964841583617646, 0.006955459260914604, 0.006998272869679583, 0.006984202357861137, 0.006941490104007721, 0.006952615498408828, 0.006988552085887377, 0.006894313693101613, 0.0068916389037159565, 0.006896848305508746, 0.006820830302864817, 0.00695220928499497, 0.006846447843745098, 0.006839919731677541, 0.006881753806334734, 0.006965016803836821, 0.0069080337865829455, 0.006778479686395698, 0.006853519585053362, 0.006777184219592811, 0.006796139808707091, 0.006751637302463198, 0.006839315311555126, 0.00669274322499576, 0.00683948446384506, 0.006676766098399837, 0.006665717580521776, 0.006708994802130632, 0.0067747863857269275, 0.006751362594244694, 0.006600979457853859, 0.0066443074630431875, 0.006641278836657544, 0.0066381161131899135, 0.006569379758818708, 0.006561127203324561, 0.006571296452309716, 0.006576531556063764, 0.006588186644968265, 0.006540629353331154, 0.00656837988641709, 0.00653264235485196, 0.006555207668303077, 0.006505438356580366, 0.006488758474220939, 0.006454463959415869, 0.006447970098210014, 0.006460110338853423, 0.006374286087897167, 0.006444319071504784, 0.006432698043290655, 0.0064276073619828865, 0.006368869193278126, 0.00639508650546477, 0.006453856410513942, 0.00634210708947318, 0.006327372864255798, 0.006287358285347245, 0.006236475811789404, 0.0062883924626687075, 0.0063618976669801985, 0.006251192157292366, 0.006290761154169348, 0.006301544702419067, 0.006285682988678043, 0.006267417630727325, 0.0062717998327599216, 0.006303485756370298, 0.006240316350985936, 0.006257445728034285, 0.006192220254694642, 0.006210205665651486, 0.006185834332919119, 0.006198113330693981, 0.00615481889446632, 0.006179512819672994, 0.0061850969779981895, 0.006148054726956257, 0.006108102927875906, 0.006088907606954873, 0.0061060026104675, 0.006118510646642301, 0.006198150520403945, 0.006112364174730631, 0.00600689023685319, 0.006026909494518729, 0.006068922454600963, 0.006037884979626032, 0.006030617188257482, 0.005996288347495333, 0.006097020611955099, 0.006014976109901595, 0.0060004249820554715, 0.005957175994337968, 0.005944639172697067, 0.0060355201308327725, 0.0059728073957094315, 0.005936772861550873, 0.0059327685451493915, 0.005925068961325287, 0.005918613932126633, 0.0058775933347894474, 0.005903863659700227, 0.005895378714562826, 0.005921036663342886, 0.005824432440752294, 0.00583171033417968, 0.005897372646746923, 0.005879591738270348, 0.005815495141254489, 0.005898588450041654, 0.005825476609794181, 0.005798554215239114, 0.005743811154937742, 0.005773013377873723, 0.005748897545048844, 0.005751546766167877, 0.005814390885658188, 0.005698199566649025, 0.005722577335690086, 0.005731385544443131, 0.005698686607120403, 0.005683286634864037, 0.005650955927990501, 0.005709711171711497, 0.005655309969483796, 0.0057148833839402845, 0.005722401042784623, 0.005758087667759693, 0.005668146095705033, 0.005662383141325539, 0.005580874669481331, 0.005655420107842855, 0.005644246069717405, 0.00564464585768085, 0.005585223347004371, 0.005535239837760295, 0.005671431651886422, 0.005540629465936249, 0.005607033694216103, 0.005542336621820313, 0.005578705180513639, 0.005599938977430886, 0.0055613873301128235, 0.005502461872523517, 0.005618453842309269, 0.005506873465374097, 0.005496238697088771, 0.005486021575449533, 0.00549462381049346, 0.005477047064053222, 0.0054621673212419085, 0.005401426726149148, 0.005469331991985565, 0.0054255686631922975, 0.005458987612235189, 0.005416873453726136, 0.00539546459294759, 0.00545404139823777, 0.005328260878147058, 0.005430878034295447, 0.005446054220963888, 0.005441144861290603, 0.0053935210798685814, 0.005288381848912927, 0.005423608924363301, 0.005272293064879005, 0.0053399094409915335, 0.005384108182849517, 0.005347387401502918, 0.005307651772309713, 0.0053082353624505155, 0.005414137069364878, 0.005311742536602788, 0.0052908478152333595, 0.005295854093562549, 0.005258464260179566, 0.005277459555624551, 0.005302445588141995, 0.005222212648231535, 0.005267109499132232, 0.00522092558465898, 0.005217804610155647, 0.005260847256755829, 0.005208623801604411, 0.005206004070657995, 0.005202353770448142, 0.0051925499358798, 0.005252496765810992, 0.005166299859264618, 0.005196849712742384, 0.00522726506690979, 0.00523558408964973, 0.0051703936183943085, 0.005171263271219655, 0.005172032798256724, 0.005121323399259023, 0.005155349740848691, 0.005125242605944257, 0.0051787841595595146, 0.005109700225454065, 0.005121932780894154, 0.0050819489436555645, 0.005030177465371509, 0.005057880838202065, 0.005067653095718068, 0.005097076152732083, 0.005070619699360957, 0.005080666651889556, 0.005128664050005502, 0.00498628804345969, 0.0049963070534930895, 0.00500157581558364, 0.0050089236629599155, 0.005003812890843907, 0.005010638641089449, 0.004941717757802698, 0.004941197103692465, 0.00499015718166409, 0.005004390791716187, 0.004923443370817728, 0.005005286191272735, 0.004963980011940003, 0.004969300982475281, 0.004926574436123297, 0.004933501375242825, 0.004918557947470123, 0.004953223820168431, 0.004844990523179842, 0.004907733545026183, 0.004879064044934008, 0.004856103056165596, 0.004864168913827162, 0.004882832350551074, 0.004865725144194193, 0.004960554458363229, 0.004882860957903174, 0.004866549036412927, 0.0048155363769313, 0.004859568838151765, 0.004791067064332961, 0.004884228387415074, 0.004782088641695241, 0.004818448607063293, 0.00481718407206623, 0.004774835154087316, 0.004871914348703539, 0.004806834015466148, 0.004787354587787515, 0.00477471511346588, 0.004761245307506653, 0.00481625451129973, 0.00475655871093273, 0.004741958225251608, 0.0047586971110273844, 0.00468643704452378, 0.004798877859303354, 0.004720948973847799, 0.004740948407491423, 0.004791444324006013, 0.004698177508550378, 0.004719810400582722, 0.004733376014687647, 0.004642267625199384, 0.004709194206136969, 0.004637426900865012, 0.004676848391003781, 0.004732957631945608, 0.004655024835237729, 0.004656816976603484, 0.004585979409430394, 0.004643715873230867, 0.004687760135142244, 0.004654219068564346, 0.004656322067738943, 0.004661628732056841, 0.00462075452651841, 0.004594773314477377, 0.004548000255848598, 0.004575057127301767, 0.004571755825816577, 0.004558845320420952, 0.004587972633394039, 0.00465262528039436, 0.004583163729166983, 0.004605312269107383, 0.0045492160354883735, 0.004531980140675122, 0.004549063745953016, 0.004536624546258593, 0.004509992517281943, 0.004533844984914966, 0.004503380639240396, 0.004517041372868669, 0.004575498384784286, 0.004488657119526712, 0.004481905802916114, 0.004517912467241285, 0.004500048685395969, 0.004528203794836691, 0.004488114674648892, 0.004504504215989261, 0.004476996778403583, 0.004498360805959998, 0.004514575596156191, 0.004442291391838961, 0.004484380340290068, 0.0045115423214728565, 0.004471715835916504, 0.004437369851685934, 0.00447232233450211, 0.004500260291924187, 0.004407460043366378, 0.004407955755427228, 0.004396163820490985, 0.004450483547657792, 0.00441789324004923, 0.0044313036822485954, 0.004424521567320823, 0.004367405525802201, 0.004381985807530708, 0.0044433058361175275, 0.004385001203008434, 0.004390087548374141, 0.0044066884715254235, 0.0043825064839890845, 0.00438227062964985, 0.004317413432821152, 0.004306323072558018, 0.004319444558772065, 0.00433281626719211, 0.004354671670919154, 0.0043219448413412374, 0.004331212198397768, 0.0043413749674460385, 0.004353247023953016, 0.00431589000244489, 0.004310095669363564, 0.0042776520527839645, 0.0043190833893319265, 0.00431126861617118, 0.0043078839621465, 0.0042853506532297796, 0.00431916386997073, 0.004244106873744073, 0.0042934498015413615, 0.00425295674194744, 0.004288256804319164, 0.00422055532263727, 0.004253378697844128, 0.004272768769355237, 0.004239298142702503, 0.004230730247015265, 0.004229485826490946, 0.004242327674200878, 0.004214984751420709, 0.004189950443266458, 0.0042181231585214675, 0.004200749730452337, 0.004224244598991183, 0.004221621616899525, 0.004204897782118244, 0.004175195477620996, 0.0041729948559733766, 0.004152646434782571, 0.00418806737450039, 0.004126065183183803, 0.004175463314282894, 0.004143091037329778, 0.004159804713207213, 0.004162713345409666, 0.00413918952865737, 0.004116880079338127, 0.004178862227598356, 0.004129159427847734, 0.004094552200062448, 0.004129049998906814, 0.004100581381751116, 0.00411278783299476, 0.004124313718003301, 0.004118991988284583, 0.004154497376221544, 0.0041029039313148705, 0.004094356060788286, 0.004113189721822738, 0.004067098943351397, 0.004077357562452051, 0.004108370721206068, 0.004074047701088094, 0.004073724426649637, 0.004005123957060403, 0.0040558376247729466, 0.004072617321513068, 0.004040665751649314, 0.004067410780431205, 0.0040194970588202875, 0.004033199228433827, 0.004042356446382409, 0.004059654607652253, 0.004012357335941196, 0.004043372008008081, 0.00398420589164632, 0.004020992464353018, 0.0040079963156957835, 0.004044831699681282, 0.0039980986634382985, 0.003980710434397498, 0.003984306375029433, 0.004017322138974322, 0.003995866612623758, 0.00397151606520673, 0.0039986479639918075, 0.003961080588957416, 0.003937982826443948, 0.003964132816363389, 0.003971114355294845, 0.003922491483838983, 0.003899142283795522, 0.003979059761301303, 0.0039500605052323265, 0.003987513261075756, 0.0039006498473684583, 0.003959850114519767, 0.0039503065630421014, 0.003922265563852712, 0.00393256422766548, 0.003899110234600306, 0.003954460307501381, 0.0038960583645981915, 0.003862283075189591, 0.00387769511615634, 0.003927921240596351, 0.003896518926599371, 0.0038854936580097303, 0.003915298965631909, 0.0038685552407251066, 0.003872437953637058, 0.0038518499679197717, 0.003903136364120245, 0.0038723512583294416, 0.0038801015322300334, 0.0038866262695439156, 0.0038578682430492122, 0.0038211685638301213, 0.0038527836408918173, 0.003855338636504596, 0.0038671903116583826, 0.0038319921629986348, 0.0038520741781674214, 0.0038323755018261534, 0.0037843659455731506, 0.0037794117751391004, 0.0038691731598867705, 0.0038291657550702644, 0.003795143011760712, 0.003782535878660661, 0.0037884910834183145, 0.00384411636813432, 0.003796570519095387, 0.003789688396763243, 0.0037915105017403907, 0.0037616523430569647, 0.0038107138236224652, 0.0037687813217149443, 0.0037948297610868862, 0.0037877773295640943, 0.0037559695117487246, 0.003761560821913308, 0.003760634658349568, 0.0037909048301165375, 0.003770260277967155, 0.00377234007835661, 0.0037465011906746394, 0.003756321376794883, 0.003736388840719181, 0.0037570635647952554, 0.0037229008241667083, 0.0037214418476749908, 0.0037312706249965953, 0.0036883502748979854, 0.0037114916692316535, 0.0037253156437435557, 0.0037035940687789254, 0.0037309566591262814, 0.0036839719171524047, 0.00369638447553379, 0.0036590005453902125, 0.0036808308253007934, 0.0036829205956518253, 0.003664707709637843, 0.0036841206754698085, 0.003674059463977814, 0.0036795946321954176, 0.003722416990871355, 0.0036929145749594245, 0.0037080891802570397, 0.003744634199670832, 0.0036642185320085365, 0.003698541648516943, 0.0036610602561895733, 0.003662167380948803, 0.0036656403154386816, 0.0036614808040632543, 0.0037154028440752225, 0.003629417302292536, 0.0037087738015184734, 0.003631691928926729, 0.003655780059536793, 0.003593444257229063, 0.0036702918733758096, 0.0036330615318340247, 0.003651907370727771, 0.0036015533734083172, 0.003627071861278003, 0.003579057253329898, 0.0036433322895077333, 0.003566916286893627, 0.0036197369319888486, 0.0036223718494209182, 0.0035920550119141444, 0.0036149741627117295, 0.0036228722995703495, 0.003578639586492321, 0.0035863263863781785, 0.0035827304387429267, 0.003536912878777613, 0.003570693174595738, 0.003579606515500202, 0.0035835428894015688, 0.0035801614984621462, 0.0035506043653501804, 0.00354605865449769, 0.003583027241589003, 0.003536007410882918, 0.0035724975842637186, 0.003535113475321359, 0.003523773335662737, 0.003563471959689008, 0.0035615037728228983, 0.0035302031993101183, 0.003530010010184473, 0.003540148729768144, 0.0035516771418437464, 0.003498326992019507, 0.0035377224673162054, 0.003503018823959898, 0.003547447564565917, 0.003498235716629029, 0.0035015098300158094, 0.0035384458761463706, 0.003522886686033515, 0.0034946998236267545, 0.0034788285002090033, 0.0035136808348219194, 0.003505630721421978, 0.0035144432212898397, 0.00344804122790199, 0.0034533362730232347, 0.0035029874005099437, 0.0034935948863118447, 0.0034875894816622415, 0.003466847711941852, 0.0035044134778499606, 0.0034740460410138266, 0.0034465250373731204, 0.003489030088972519, 0.003435445224777116, 0.0034627368332701557, 0.003453397153087443, 0.0034983215387358003, 0.00344395037422453, 0.003446814709361116, 0.003448508868990713, 0.0034454837291608403, 0.0034367642032650573, 0.0034263797285079955, 0.0034750215523059094, 0.003438596505234609, 0.0034535110016378403, 0.003433660303805242, 0.003426987813886748, 0.003464138591335029, 0.0033963698839734762, 0.0033980133771174285, 0.003420962923637556, 0.003417717406160757, 0.0034389755528477293, 0.003405634737671103, 0.0034580652498231593, 0.003438088545627766, 0.003375040945052418, 0.003373191478680882, 0.0033874150622837866, 0.003394624476730141, 0.003376528528214183, 0.0033915245109396807, 0.0033478925523648807, 0.0033698800026598754, 0.0033711145942063466, 0.0033933067498200264, 0.0034157093574681786, 0.003394837244036542, 0.003345818518158363, 0.00338831474167332, 0.0033233181076765058, 0.003339715136011559, 0.0033352322720623874, 0.0034004964966875997, 0.0033592722066591724, 0.0033878856548926325, 0.003306723531965848, 0.003312756982422557, 0.0033865411071784157, 0.0033339951151229444, 0.003318833187659347, 0.0033640097537998735, 0.003342743226050648, 0.0033625659868471956, 0.0033645777560342032, 0.0033402028973131817, 0.0033016802093478576, 0.0033239596279151106, 0.0033228616413520035, 0.003302024928839062, 0.003344705691517407, 0.0033121733976917973, 0.0033198716349608563, 0.003312209844325, 0.0032788058462249153, 0.0033379886814124252, 0.0033251268085486554, 0.003298999341332912, 0.003314130113758209, 0.0033370417776027138, 0.003256985487223353, 0.0032991169891793937, 0.0032989539271347855, 0.0032723512200553626, 0.003257409613809052, 0.0032561601646416516, 0.0032364611307144162, 0.0032615040210717053, 0.003282765553706202, 0.0032914759638112963, 0.003270859348539729, 0.0033055021537787576, 0.00327403976993629, 0.0032535505469390574, 0.003256709417735196, 0.003240040627334007, 0.0032538358605222672, 0.0032420420708852648, 0.0032360148557656144, 0.0032256433437251185, 0.0032354698857454864, 0.003264868242017675, 0.0032092211944573256, 0.003248029771727323, 0.003236878842993763, 0.0032629916042321056, 0.0032529361142151687, 0.003261260679649802, 0.003208740590662268, 0.003235602909661021, 0.003217454395102772, 0.003210524975276675, 0.003270820012011239, 0.0031799672994606825, 0.0032059706878023856, 0.0032125282062523694, 0.003200149797917094, 0.0032162500248902174, 0.0031840695960991716, 0.0032410697777857235, 0.0032412557249707568, 0.0032163873402588695, 0.0032100922860335245, 0.0032320784874523053, 0.003180253373135144, 0.003159962881874356, 0.0032022129255718855, 0.0032172995577222966, 0.003169109372758183, 0.003169822769708489, 0.003214753682164401, 0.003212636914253917, 0.003176651705444868, 0.0032009822723395496, 0.0031874137973866047, 0.003161286687853681, 0.0031793611752545465, 0.0031769549219077416, 0.00316822826580933, 0.0031778361392100106, 0.003172446377580876, 0.0032055522994525105, 0.003164733878588835, 0.003158480305004802, 0.003143973687424028, 0.0031408982165175322, 0.003152565731594931, 0.0031619731752961875, 0.0031755876007030994, 0.003150727708149638, 0.0031392890518447064, 0.0031373909529692798, 0.0031385638550765183, 0.0031639503914482263, 0.0031061788836882196, 0.003116664914515362, 0.003146213465403829, 0.003157095719547691, 0.0031031136040694375, 0.00312583089416896, 0.00312014357610587, 0.003100861846666788, 0.0031489855417586874, 0.00308965812830925, 0.003141510374913803, 0.003110846175766674, 0.003090804032211814, 0.0031141717711751045, 0.0031182433260686063, 0.003114124580191884, 0.003111375501458873, 0.0031398654903418686, 0.0030799330533988144, 0.003129384465369059, 0.00309276631880613, 0.0030972176256011696, 0.0030872406269648487, 0.0030746836905292734, 0.0031094558576692994, 0.003088965873272638, 0.0030531036384666343, 0.0030687175346770694, 0.003075037617468152, 0.0031047027433872224, 0.0030787941225382223, 0.003059638986205373, 0.003105079656641558, 0.0030506634131522515, 0.003079332466281578, 0.0031048430986379853, 0.0030460246725030242, 0.003040981260489735, 0.0030728727548606067, 0.0030686116887239574, 0.003097211906747241, 0.0030600437804692124, 0.0030382349300701237, 0.0030456042112295897, 0.0030675691275410984, 0.00302107911424705, 0.003081932708451403, 0.00303197637607983, 0.0030209775581749227, 0.0030152346288708303, 0.003030739823952766, 0.0030341469601658446, 0.0030395280508718754, 0.003016430595665488, 0.003062791406463831, 0.0030347377023001807, 0.003016863829677179, 0.003013544559175027, 0.0030254331557267047, 0.003019383054887566, 0.003003946161657548, 0.0030371192657463876, 0.0030341033339043744, 0.0030306314722576546, 0.0030356059247775655, 0.0030411870547480254, 0.003009109792675683, 0.003016313847430981, 0.002998081660489349, 0.0029735172186136243, 0.002984879528959621, 0.0030016834078229328, 0.002976262810780633, 0.002992351661877396, 0.002988768343133416, 0.002964256656175412, 0.002986838239741325, 0.002948510802651133, 0.00297471801290512, 0.003013759203838619, 0.0029718715796551286, 0.00299857941752596, 0.0029590427848407382, 0.0030107025959157075, 0.0030175859925223513, 0.0029777698827981062, 0.0029885983080638876, 0.0029949591564628016, 0.0029561664920667507, 0.0029570644044477354, 0.0029841634507894507, 0.002947778453318534, 0.002955313634871754, 0.0029978356387151527, 0.002972100438690867, 0.0029742632451438037, 0.002951431614971842, 0.0029670884277350567, 0.0029559201103848795, 0.0029614356117255362, 0.002983288758146269, 0.0029495352932082134, 0.002937285315874833, 0.002927072440730517, 0.002974443739760604, 0.0029710998959888864, 0.0029378946137995766, 0.0029279544416487215, 0.0029247781088163915, 0.002951970863864078, 0.002965909804154124, 0.002971092744091523, 0.00295239925920895, 0.002956947115611348, 0.0029233763685387734, 0.0029536315439566336, 0.002940329095267567, 0.0029249318943738935, 0.002941214493323054, 0.002931072463178475, 0.002932528938663005, 0.002963787137407568, 0.0029151376246918694, 0.0028858620960705603, 0.002910398814804044, 0.002915585330706835, 0.002893518858241353, 0.00288683836756848, 0.002906801260622715, 0.0029196931728139247, 0.002872787098290552, 0.00291870478544167, 0.0029357755173948863, 0.002911726911881818, 0.002898362080201977, 0.0028805911884301036, 0.0029110373178360656, 0.0028819128488656587, 0.002873053862028809, 0.002876524651003566, 0.002931599556780543, 0.002911449956797189, 0.0028723865616302304, 0.002867896657497126, 0.002883835621606621, 0.002896818718195644, 0.0029044726196282237, 0.002880003128190864, 0.0028837093910694337, 0.0028351934625695185, 0.0028763115289021585, 0.0028638271587602794, 0.002852907837974016, 0.0028771289816181453, 0.0028661374049104124, 0.00288403551594301, 0.0028538777157540284, 0.0028875098804964352, 0.002888626998409082, 0.002857224287573993, 0.00287862729259083, 0.002867317369450147, 0.0028416908887863154, 0.0028440037945263717, 0.002869409998442759, 0.0028448148134231563, 0.002852361426050588, 0.002823629269109792, 0.002852004202712264, 0.00286548506820971, 0.00288589562033185, 0.002832696709790763, 0.00284710340289524, 0.00280698907805613, 0.0028419887588199697, 0.0028261656699180597, 0.00281983771999084, 0.0028336407752997546, 0.0028400087866739345, 0.0028171686525126595, 0.002856670019810584, 0.002831847093296734, 0.0028279796676225965, 0.0028368562435368404, 0.0028324256773008334, 0.0028294855662043513, 0.002809799360891867, 0.0028378174511392326, 0.00280355722191508, 0.0028055054284088937, 0.002812693029822047, 0.002821529846032226, 0.002814688728936258, 0.002803693151617733, 0.002809098513890677]\n"
     ]
    }
   ],
   "source": [
    "print(thisRes)"
   ]
  },
  {
   "cell_type": "code",
   "execution_count": 79,
   "id": "impaired-performer",
   "metadata": {},
   "outputs": [
    {
     "data": {
      "image/png": "[encoded data removed]",
      "text/plain": [
       "<Figure size 432x288 with 1 Axes>"
      ]
     },
     "metadata": {
      "needs_background": "light"
     },
     "output_type": "display_data"
    }
   ],
   "source": [
    "plt.plot(thisRes)\n",
    "plt.plot(modelTruth,\"b\",linewidth=3)\n",
    "plt.plot(modelConstant,\"y\",linewidth=3)\n",
    "#plt.plot(modelEstimatedGloballyAsMedian,\"g\",linewidth=3)\n",
    "plt.plot(modelEstimatedChr19CombinedReps,\"r:\",linewidth=3)\n",
    "#plt.plot(modelEstimatedChr19WithGC,\"k:\",linewidth=3)\n",
    "plt.xlim([0,100])\n",
    "plt.show()"
   ]
  },
  {
   "cell_type": "code",
   "execution_count": null,
   "id": "abroad-batman",
   "metadata": {},
   "outputs": [],
   "source": []
  }
 ],
 "metadata": {
  "kernelspec": {
   "display_name": "Python 3",
   "language": "python",
   "name": "python3"
  },
  "language_info": {
   "codemirror_mode": {
    "name": "ipython",
    "version": 3
   },
   "file_extension": ".py",
   "mimetype": "text/x-python",
   "name": "python",
   "nbconvert_exporter": "python",
   "pygments_lexer": "ipython3",
   "version": "3.7.9"
  }
 },
 "nbformat": 4,
 "nbformat_minor": 5
}
