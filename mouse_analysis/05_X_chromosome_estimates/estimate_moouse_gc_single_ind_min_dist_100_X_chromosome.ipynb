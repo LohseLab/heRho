{
 "cells": [
  {
   "cell_type": "code",
   "execution_count": 2,
   "id": "minute-samba",
   "metadata": {},
   "outputs": [],
   "source": [
    "import numpy as np\n",
    "import nlopt\n",
    "import pandas as pd\n",
    "from math import log, exp\n",
    "from multiprocessing import Pool, cpu_count\n",
    "import time\n",
    "import matplotlib.pyplot as plt\n",
    "%matplotlib inline"
   ]
  },
  {
   "cell_type": "markdown",
   "id": "silver-forge",
   "metadata": {},
   "source": [
    "# this is for individual H30"
   ]
  },
  {
   "cell_type": "code",
   "execution_count": null,
   "id": "partial-official",
   "metadata": {},
   "outputs": [],
   "source": []
  },
  {
   "cell_type": "code",
   "execution_count": 20,
   "id": "collect-sydney",
   "metadata": {},
   "outputs": [],
   "source": []
  },
  {
   "cell_type": "code",
   "execution_count": 3,
   "id": "determined-night",
   "metadata": {},
   "outputs": [],
   "source": [
    "def rho(rbp,g,L,d):\n",
    "    r = rbp*(d+2*(g/rbp)*L*(1 - exp(-d/L)))\n",
    "    return(r)"
   ]
  },
  {
   "cell_type": "code",
   "execution_count": 4,
   "id": "expressed-battle",
   "metadata": {},
   "outputs": [],
   "source": [
    "def single_dist_obj_fun(r,x):\n",
    "    d,h0,h1,h2,th = x\n",
    "    r = r*(d)\n",
    "    calcH0 =(18+13*r + r**2 + 36*th + 22*th**2 + 4*th**3 + r*(6*th+th**2))/((1+th)*(18+13*r+r**2+54*th + 40*th**2+8*th**3+r*(r*th+19*th+6*th**2)))\n",
    "    calcH2 = (th**2*(36+14*r+r**2+36*th+6*th*r+8*th**2))/((1+th)*(18+13*r+r**2+54*th + 40*th**2+8*th**3+r*(r*th+19*th+6*th**2)))\n",
    "    calcH1 = 1 - calcH0 - calcH2\n",
    "    \n",
    "    val = h0*log(calcH0) + h1*log(calcH1)+h2*log(calcH2)\n",
    "    return(val)"
   ]
  },
  {
   "cell_type": "code",
   "execution_count": 5,
   "id": "organic-prophet",
   "metadata": {},
   "outputs": [],
   "source": [
    "def single_dist_multi_ind_obj_fun(r,xl):\n",
    "    res = [ single_dist_obj_fun(r,xs) for xs in xl]\n",
    "    res = sum(res)\n",
    "    return(res)"
   ]
  },
  {
   "cell_type": "code",
   "execution_count": 61,
   "id": "built-tender",
   "metadata": {},
   "outputs": [],
   "source": [
    "def find_max_like_single_dist(args):\n",
    "    d, testChr = args\n",
    "    opt = nlopt.opt(nlopt.LN_NELDERMEAD,1)\n",
    "    opt.set_lower_bounds([0.00000001])\n",
    "    opt.set_upper_bounds([0.5])\n",
    "    startPoint = [0.001]\n",
    "    opt.set_max_objective(lambda x, grad: single_dist_obj_fun(x,testChr))\n",
    "    res = opt.optimize(startPoint)\n",
    "    return(res[0])"
   ]
  },
  {
   "cell_type": "code",
   "execution_count": null,
   "id": "closed-student",
   "metadata": {},
   "outputs": [],
   "source": []
  },
  {
   "cell_type": "code",
   "execution_count": 7,
   "id": "surprising-finance",
   "metadata": {},
   "outputs": [],
   "source": [
    "def calc_single_dist(x,rbp,g,L):\n",
    "    d,h0,h1,h2,th = x\n",
    "    \n",
    "    r = rbp*(d+2*(g/rbp)*L*(1 - exp(-d/L)))\n",
    "    \n",
    "    calcH0 =(18+13*r + r**2 + 36*th + 22*th**2 + 4*th**3 + r*(6*th+th**2))/((1+th)*(18+13*r+r**2+54*th + 40*th**2+8*th**3+r*(r*th+19*th+6*th**2)))\n",
    "    calcH2 = (th**2*(36+14*r+r**2+36*th+6*th*r+8*th**2))/((1+th)*(18+13*r+r**2+54*th + 40*th**2+8*th**3+r*(r*th+19*th+6*th**2)))\n",
    "    calcH1 = 1 - calcH0 - calcH2\n",
    "    \n",
    "    val = h0*log(calcH0) + h1*log(calcH1)+h2*log(calcH2)\n",
    "    return(val)"
   ]
  },
  {
   "cell_type": "code",
   "execution_count": 8,
   "id": "contained-sacramento",
   "metadata": {},
   "outputs": [],
   "source": [
    "def single_chr_obj_fun(x_,arr):\n",
    "    rbp, g, L = x_\n",
    "    test = np.apply_along_axis(lambda x: calc_single_dist(x,rbp,g,L),1,arr)\n",
    "    obfun = np.sum(test)\n",
    "    #test = [calc_single_dist(x,rbp,g,L) for x in arr]\n",
    "    #obfun = sum(test)\n",
    "    return(obfun)"
   ]
  },
  {
   "cell_type": "code",
   "execution_count": 9,
   "id": "massive-genome",
   "metadata": {},
   "outputs": [],
   "source": [
    "def across_chr_obj_fun(x,dfArrList,numChrs):\n",
    "    \n",
    "    rList = x[0:numChrs]\n",
    "    gList = x[numChrs:numChrs+numChrs]\n",
    "    L = x[-1]\n",
    "    \n",
    "    obFun = sum([single_chr_obj_fun([rs,gs,L],arr) for (rs,gs,arr) in list(zip(rList,gList,dfArrList))])\n",
    "    \n",
    "    return(obFun)"
   ]
  },
  {
   "cell_type": "code",
   "execution_count": 10,
   "id": "portable-immune",
   "metadata": {},
   "outputs": [],
   "source": [
    "def find_max_like_single_ind(rep):\n",
    "    \n",
    "    numberChromsomes = 19\n",
    "    dfListAuto = [x.iloc[:,[0,4,5,6,11]].to_numpy() for x in dfListAuto]\n",
    "\n",
    "    lowerBounds = [0.0001 for x in range(numberChromsomes)]+ [0.0001 for x in range(numberChromsomes)]+[10]\n",
    "    upperBounds = [0.1 for x in range(numberChromsomes)]+[0.1 for x in range(numberChromsomes)]+[2000]\n",
    "    startPoints = [0.001 for x in range(numberChromsomes)]+[0.001 for x in range(numberChromsomes)]+[50]\n",
    "\n",
    "\n",
    "    opt=nlopt.opt(nlopt.LN_NELDERMEAD,numberChromsomes+numberChromsomes+1)\n",
    "\n",
    "    opt.set_lower_bounds(lowerBounds)\n",
    "    opt.set_upper_bounds(upperBounds)\n",
    "\n",
    "    opt.set_max_objective(lambda x,grad: across_chr_obj_fun(x,dfListAuto,numberChromsomes))\n",
    "\n",
    "    res = opt.optimize(startPoints)\n",
    "    return(res)"
   ]
  },
  {
   "cell_type": "code",
   "execution_count": 11,
   "id": "logical-slovak",
   "metadata": {},
   "outputs": [],
   "source": [
    "def find_max_like_group_ind(numberChromosomes):\n",
    "    autoNames = ['chr1', 'chr2', 'chr3', 'chr4', 'chr5', 'chr6', 'chr7', 'chr8',\n",
    "       'chr9', 'chr10', 'chr11', 'chr12', 'chr13', 'chr14', 'chr15',\n",
    "       'chr16', 'chr17', 'chr18', 'chr19']\n",
    "    dfListAuto = [ df.loc[(df['chrom']== x) & (df['name']=='H30') & (df['distances']>=100)] for x in autoNames[0:numberChromosomes]]\n",
    "    dfListAuto = [combine_across_individuals(x) for x in dfListAuto]\n",
    "\n",
    "    lowerBounds = [0.0001 for x in range(numberChromosomes)]+ [0.0001 for x in range(numberChromosomes)]+[10]\n",
    "    upperBounds = [0.1 for x in range(numberChromosomes)]+[0.1 for x in range(numberChromosomes)]+[2000]\n",
    "    startPoints = [0.001 for x in range(numberChromosomes)]+[0.001 for x in range(numberChromosomes)]+[50]\n",
    "\n",
    "\n",
    "    opt=nlopt.opt(nlopt.LN_NELDERMEAD,numberChromosomes+numberChromosomes+1)\n",
    "\n",
    "    opt.set_lower_bounds(lowerBounds)\n",
    "    opt.set_upper_bounds(upperBounds)\n",
    "\n",
    "    opt.set_max_objective(lambda x,grad: across_chr_obj_fun(x,dfListAuto,numberChromosomes))\n",
    "\n",
    "    res = opt.optimize(startPoints)\n",
    "    return(res)"
   ]
  },
  {
   "cell_type": "code",
   "execution_count": 12,
   "id": "protected-petersburg",
   "metadata": {},
   "outputs": [],
   "source": [
    "def combine_across_individuals(thisDF):\n",
    "    test = thisDF\n",
    "    numSamples = len(test['name'].unique())\n",
    "    test = test.groupby(['distances'],as_index=False).sum()\n",
    "    test['H'] = test['H']/numSamples\n",
    "    return(test.iloc[:,[0,1,2,3,7]].to_numpy())\n",
    "    #return(test.iloc[:,[0,4,5,6,11]].to_numpy())\n",
    "    #return( test.iloc[:,[0,4,5,6,11]].to_numpy() )"
   ]
  },
  {
   "cell_type": "code",
   "execution_count": 97,
   "id": "neural-north",
   "metadata": {},
   "outputs": [],
   "source": [
    "def find_max_like_single_chr(args):\n",
    "    inList,minDist = args\n",
    "    lowerBounds = [ 1e-7, 1e-7,10]\n",
    "    upperBounds = [ 0.5, 0.5, 2000]\n",
    "    startPoints = [ 0.001, 0.001, 50]\n",
    "\n",
    "    opt=nlopt.opt(nlopt.LN_NELDERMEAD,3)\n",
    "\n",
    "    opt.set_lower_bounds(lowerBounds)\n",
    "    opt.set_upper_bounds(upperBounds)\n",
    "    opt.set_max_objective(lambda x,grad: single_chr_obj_fun(x,inList[minDist-1:]))\n",
    "    res = opt.optimize(startPoints)\n",
    "    return([x for x in res])"
   ]
  },
  {
   "cell_type": "code",
   "execution_count": 14,
   "id": "forty-alpha",
   "metadata": {
    "scrolled": true
   },
   "outputs": [],
   "source": [
    "df = pd.read_csv('../mathematicaInputMice_unbinned.tsv',delimiter='\\t')"
   ]
  },
  {
   "cell_type": "code",
   "execution_count": 48,
   "id": "excess-offer",
   "metadata": {},
   "outputs": [
    {
     "data": {
      "text/html": [
       "<div>\n",
       "<style scoped>\n",
       "    .dataframe tbody tr th:only-of-type {\n",
       "        vertical-align: middle;\n",
       "    }\n",
       "\n",
       "    .dataframe tbody tr th {\n",
       "        vertical-align: top;\n",
       "    }\n",
       "\n",
       "    .dataframe thead th {\n",
       "        text-align: right;\n",
       "    }\n",
       "</style>\n",
       "<table border=\"1\" class=\"dataframe\">\n",
       "  <thead>\n",
       "    <tr style=\"text-align: right;\">\n",
       "      <th></th>\n",
       "      <th>name</th>\n",
       "      <th>chrom</th>\n",
       "      <th>distances</th>\n",
       "      <th>no_het_bins</th>\n",
       "      <th>one_het_bins</th>\n",
       "      <th>two_het_bins</th>\n",
       "      <th>H0Prop</th>\n",
       "      <th>H1Prop</th>\n",
       "      <th>H2Prop</th>\n",
       "      <th>H</th>\n",
       "    </tr>\n",
       "  </thead>\n",
       "  <tbody>\n",
       "    <tr>\n",
       "      <th>18000</th>\n",
       "      <td>H12</td>\n",
       "      <td>chr19</td>\n",
       "      <td>1</td>\n",
       "      <td>27762756</td>\n",
       "      <td>398665.0</td>\n",
       "      <td>6641</td>\n",
       "      <td>0.985611</td>\n",
       "      <td>0.014153</td>\n",
       "      <td>0.000236</td>\n",
       "      <td>0.007312</td>\n",
       "    </tr>\n",
       "    <tr>\n",
       "      <th>18001</th>\n",
       "      <td>H12</td>\n",
       "      <td>chr19</td>\n",
       "      <td>2</td>\n",
       "      <td>27756534</td>\n",
       "      <td>403486.0</td>\n",
       "      <td>4224</td>\n",
       "      <td>0.985524</td>\n",
       "      <td>0.014326</td>\n",
       "      <td>0.000150</td>\n",
       "      <td>0.007313</td>\n",
       "    </tr>\n",
       "    <tr>\n",
       "      <th>18002</th>\n",
       "      <td>H12</td>\n",
       "      <td>chr19</td>\n",
       "      <td>3</td>\n",
       "      <td>27752496</td>\n",
       "      <td>403916.0</td>\n",
       "      <td>3991</td>\n",
       "      <td>0.985515</td>\n",
       "      <td>0.014343</td>\n",
       "      <td>0.000142</td>\n",
       "      <td>0.007313</td>\n",
       "    </tr>\n",
       "    <tr>\n",
       "      <th>18003</th>\n",
       "      <td>H12</td>\n",
       "      <td>chr19</td>\n",
       "      <td>4</td>\n",
       "      <td>27748856</td>\n",
       "      <td>403547.0</td>\n",
       "      <td>4156</td>\n",
       "      <td>0.985520</td>\n",
       "      <td>0.014332</td>\n",
       "      <td>0.000148</td>\n",
       "      <td>0.007314</td>\n",
       "    </tr>\n",
       "    <tr>\n",
       "      <th>18004</th>\n",
       "      <td>H12</td>\n",
       "      <td>chr19</td>\n",
       "      <td>5</td>\n",
       "      <td>27744579</td>\n",
       "      <td>404454.0</td>\n",
       "      <td>3684</td>\n",
       "      <td>0.985503</td>\n",
       "      <td>0.014366</td>\n",
       "      <td>0.000131</td>\n",
       "      <td>0.007314</td>\n",
       "    </tr>\n",
       "    <tr>\n",
       "      <th>...</th>\n",
       "      <td>...</td>\n",
       "      <td>...</td>\n",
       "      <td>...</td>\n",
       "      <td>...</td>\n",
       "      <td>...</td>\n",
       "      <td>...</td>\n",
       "      <td>...</td>\n",
       "      <td>...</td>\n",
       "      <td>...</td>\n",
       "      <td>...</td>\n",
       "    </tr>\n",
       "    <tr>\n",
       "      <th>198995</th>\n",
       "      <td>H36</td>\n",
       "      <td>chr19</td>\n",
       "      <td>996</td>\n",
       "      <td>23924768</td>\n",
       "      <td>396257.0</td>\n",
       "      <td>1982</td>\n",
       "      <td>0.983627</td>\n",
       "      <td>0.016291</td>\n",
       "      <td>0.000081</td>\n",
       "      <td>0.008227</td>\n",
       "    </tr>\n",
       "    <tr>\n",
       "      <th>198996</th>\n",
       "      <td>H36</td>\n",
       "      <td>chr19</td>\n",
       "      <td>997</td>\n",
       "      <td>23921016</td>\n",
       "      <td>396092.0</td>\n",
       "      <td>2035</td>\n",
       "      <td>0.983629</td>\n",
       "      <td>0.016287</td>\n",
       "      <td>0.000084</td>\n",
       "      <td>0.008227</td>\n",
       "    </tr>\n",
       "    <tr>\n",
       "      <th>198997</th>\n",
       "      <td>H36</td>\n",
       "      <td>chr19</td>\n",
       "      <td>998</td>\n",
       "      <td>23917325</td>\n",
       "      <td>395822.0</td>\n",
       "      <td>2149</td>\n",
       "      <td>0.983633</td>\n",
       "      <td>0.016279</td>\n",
       "      <td>0.000088</td>\n",
       "      <td>0.008228</td>\n",
       "    </tr>\n",
       "    <tr>\n",
       "      <th>198998</th>\n",
       "      <td>H36</td>\n",
       "      <td>chr19</td>\n",
       "      <td>999</td>\n",
       "      <td>23913445</td>\n",
       "      <td>395922.0</td>\n",
       "      <td>2074</td>\n",
       "      <td>0.983629</td>\n",
       "      <td>0.016285</td>\n",
       "      <td>0.000085</td>\n",
       "      <td>0.008228</td>\n",
       "    </tr>\n",
       "    <tr>\n",
       "      <th>198999</th>\n",
       "      <td>H36</td>\n",
       "      <td>chr19</td>\n",
       "      <td>1000</td>\n",
       "      <td>23909602</td>\n",
       "      <td>395933.0</td>\n",
       "      <td>2036</td>\n",
       "      <td>0.983628</td>\n",
       "      <td>0.016288</td>\n",
       "      <td>0.000084</td>\n",
       "      <td>0.008228</td>\n",
       "    </tr>\n",
       "  </tbody>\n",
       "</table>\n",
       "<p>10000 rows × 10 columns</p>\n",
       "</div>"
      ],
      "text/plain": [
       "       name  chrom  distances  no_het_bins  one_het_bins  two_het_bins  \\\n",
       "18000   H12  chr19          1     27762756      398665.0          6641   \n",
       "18001   H12  chr19          2     27756534      403486.0          4224   \n",
       "18002   H12  chr19          3     27752496      403916.0          3991   \n",
       "18003   H12  chr19          4     27748856      403547.0          4156   \n",
       "18004   H12  chr19          5     27744579      404454.0          3684   \n",
       "...     ...    ...        ...          ...           ...           ...   \n",
       "198995  H36  chr19        996     23924768      396257.0          1982   \n",
       "198996  H36  chr19        997     23921016      396092.0          2035   \n",
       "198997  H36  chr19        998     23917325      395822.0          2149   \n",
       "198998  H36  chr19        999     23913445      395922.0          2074   \n",
       "198999  H36  chr19       1000     23909602      395933.0          2036   \n",
       "\n",
       "          H0Prop    H1Prop    H2Prop         H  \n",
       "18000   0.985611  0.014153  0.000236  0.007312  \n",
       "18001   0.985524  0.014326  0.000150  0.007313  \n",
       "18002   0.985515  0.014343  0.000142  0.007313  \n",
       "18003   0.985520  0.014332  0.000148  0.007314  \n",
       "18004   0.985503  0.014366  0.000131  0.007314  \n",
       "...          ...       ...       ...       ...  \n",
       "198995  0.983627  0.016291  0.000081  0.008227  \n",
       "198996  0.983629  0.016287  0.000084  0.008227  \n",
       "198997  0.983633  0.016279  0.000088  0.008228  \n",
       "198998  0.983629  0.016285  0.000085  0.008228  \n",
       "198999  0.983628  0.016288  0.000084  0.008228  \n",
       "\n",
       "[10000 rows x 10 columns]"
      ]
     },
     "execution_count": 48,
     "metadata": {},
     "output_type": "execute_result"
    }
   ],
   "source": [
    "c1df = df.loc[(df['chrom']==\"chr19\") & (df['H'] != 0)]\n",
    "c1df"
   ]
  },
  {
   "cell_type": "code",
   "execution_count": 49,
   "id": "blond-bicycle",
   "metadata": {},
   "outputs": [],
   "source": [
    "testChr1 = combine_across_individuals(c1df)"
   ]
  },
  {
   "cell_type": "code",
   "execution_count": 76,
   "id": "bound-bahamas",
   "metadata": {},
   "outputs": [
    {
     "data": {
      "text/html": [
       "<div>\n",
       "<style scoped>\n",
       "    .dataframe tbody tr th:only-of-type {\n",
       "        vertical-align: middle;\n",
       "    }\n",
       "\n",
       "    .dataframe tbody tr th {\n",
       "        vertical-align: top;\n",
       "    }\n",
       "\n",
       "    .dataframe thead th {\n",
       "        text-align: right;\n",
       "    }\n",
       "</style>\n",
       "<table border=\"1\" class=\"dataframe\">\n",
       "  <thead>\n",
       "    <tr style=\"text-align: right;\">\n",
       "      <th></th>\n",
       "      <th>name</th>\n",
       "      <th>chrom</th>\n",
       "      <th>distances</th>\n",
       "      <th>no_het_bins</th>\n",
       "      <th>one_het_bins</th>\n",
       "      <th>two_het_bins</th>\n",
       "      <th>H0Prop</th>\n",
       "      <th>H1Prop</th>\n",
       "      <th>H2Prop</th>\n",
       "      <th>H</th>\n",
       "    </tr>\n",
       "  </thead>\n",
       "  <tbody>\n",
       "    <tr>\n",
       "      <th>39000</th>\n",
       "      <td>H14</td>\n",
       "      <td>chrX</td>\n",
       "      <td>1</td>\n",
       "      <td>37783373</td>\n",
       "      <td>285558.0</td>\n",
       "      <td>3354</td>\n",
       "      <td>0.992411</td>\n",
       "      <td>0.007500</td>\n",
       "      <td>0.000088</td>\n",
       "      <td>0.003838</td>\n",
       "    </tr>\n",
       "    <tr>\n",
       "      <th>39001</th>\n",
       "      <td>H14</td>\n",
       "      <td>chrX</td>\n",
       "      <td>2</td>\n",
       "      <td>37777542</td>\n",
       "      <td>288250.0</td>\n",
       "      <td>2002</td>\n",
       "      <td>0.992375</td>\n",
       "      <td>0.007572</td>\n",
       "      <td>0.000053</td>\n",
       "      <td>0.003839</td>\n",
       "    </tr>\n",
       "    <tr>\n",
       "      <th>39002</th>\n",
       "      <td>H14</td>\n",
       "      <td>chrX</td>\n",
       "      <td>3</td>\n",
       "      <td>37772775</td>\n",
       "      <td>288802.0</td>\n",
       "      <td>1714</td>\n",
       "      <td>0.992368</td>\n",
       "      <td>0.007587</td>\n",
       "      <td>0.000045</td>\n",
       "      <td>0.003839</td>\n",
       "    </tr>\n",
       "    <tr>\n",
       "      <th>39003</th>\n",
       "      <td>H14</td>\n",
       "      <td>chrX</td>\n",
       "      <td>4</td>\n",
       "      <td>37768442</td>\n",
       "      <td>288493.0</td>\n",
       "      <td>1860</td>\n",
       "      <td>0.992371</td>\n",
       "      <td>0.007580</td>\n",
       "      <td>0.000049</td>\n",
       "      <td>0.003839</td>\n",
       "    </tr>\n",
       "    <tr>\n",
       "      <th>39004</th>\n",
       "      <td>H14</td>\n",
       "      <td>chrX</td>\n",
       "      <td>5</td>\n",
       "      <td>37763781</td>\n",
       "      <td>288830.0</td>\n",
       "      <td>1678</td>\n",
       "      <td>0.992366</td>\n",
       "      <td>0.007590</td>\n",
       "      <td>0.000044</td>\n",
       "      <td>0.003839</td>\n",
       "    </tr>\n",
       "    <tr>\n",
       "      <th>...</th>\n",
       "      <td>...</td>\n",
       "      <td>...</td>\n",
       "      <td>...</td>\n",
       "      <td>...</td>\n",
       "      <td>...</td>\n",
       "      <td>...</td>\n",
       "      <td>...</td>\n",
       "      <td>...</td>\n",
       "      <td>...</td>\n",
       "      <td>...</td>\n",
       "    </tr>\n",
       "    <tr>\n",
       "      <th>199995</th>\n",
       "      <td>H36</td>\n",
       "      <td>chrX</td>\n",
       "      <td>996</td>\n",
       "      <td>33330821</td>\n",
       "      <td>249597.0</td>\n",
       "      <td>673</td>\n",
       "      <td>0.992547</td>\n",
       "      <td>0.007433</td>\n",
       "      <td>0.000020</td>\n",
       "      <td>0.003736</td>\n",
       "    </tr>\n",
       "    <tr>\n",
       "      <th>199996</th>\n",
       "      <td>H36</td>\n",
       "      <td>chrX</td>\n",
       "      <td>997</td>\n",
       "      <td>33326448</td>\n",
       "      <td>249349.0</td>\n",
       "      <td>779</td>\n",
       "      <td>0.992551</td>\n",
       "      <td>0.007426</td>\n",
       "      <td>0.000023</td>\n",
       "      <td>0.003736</td>\n",
       "    </tr>\n",
       "    <tr>\n",
       "      <th>199997</th>\n",
       "      <td>H36</td>\n",
       "      <td>chrX</td>\n",
       "      <td>998</td>\n",
       "      <td>33321896</td>\n",
       "      <td>249468.0</td>\n",
       "      <td>706</td>\n",
       "      <td>0.992548</td>\n",
       "      <td>0.007431</td>\n",
       "      <td>0.000021</td>\n",
       "      <td>0.003736</td>\n",
       "    </tr>\n",
       "    <tr>\n",
       "      <th>199998</th>\n",
       "      <td>H36</td>\n",
       "      <td>chrX</td>\n",
       "      <td>999</td>\n",
       "      <td>33317379</td>\n",
       "      <td>249504.0</td>\n",
       "      <td>668</td>\n",
       "      <td>0.992547</td>\n",
       "      <td>0.007433</td>\n",
       "      <td>0.000020</td>\n",
       "      <td>0.003736</td>\n",
       "    </tr>\n",
       "    <tr>\n",
       "      <th>199999</th>\n",
       "      <td>H36</td>\n",
       "      <td>chrX</td>\n",
       "      <td>1000</td>\n",
       "      <td>33312857</td>\n",
       "      <td>249551.0</td>\n",
       "      <td>625</td>\n",
       "      <td>0.992546</td>\n",
       "      <td>0.007435</td>\n",
       "      <td>0.000019</td>\n",
       "      <td>0.003736</td>\n",
       "    </tr>\n",
       "  </tbody>\n",
       "</table>\n",
       "<p>7000 rows × 10 columns</p>\n",
       "</div>"
      ],
      "text/plain": [
       "       name chrom  distances  no_het_bins  one_het_bins  two_het_bins  \\\n",
       "39000   H14  chrX          1     37783373      285558.0          3354   \n",
       "39001   H14  chrX          2     37777542      288250.0          2002   \n",
       "39002   H14  chrX          3     37772775      288802.0          1714   \n",
       "39003   H14  chrX          4     37768442      288493.0          1860   \n",
       "39004   H14  chrX          5     37763781      288830.0          1678   \n",
       "...     ...   ...        ...          ...           ...           ...   \n",
       "199995  H36  chrX        996     33330821      249597.0           673   \n",
       "199996  H36  chrX        997     33326448      249349.0           779   \n",
       "199997  H36  chrX        998     33321896      249468.0           706   \n",
       "199998  H36  chrX        999     33317379      249504.0           668   \n",
       "199999  H36  chrX       1000     33312857      249551.0           625   \n",
       "\n",
       "          H0Prop    H1Prop    H2Prop         H  \n",
       "39000   0.992411  0.007500  0.000088  0.003838  \n",
       "39001   0.992375  0.007572  0.000053  0.003839  \n",
       "39002   0.992368  0.007587  0.000045  0.003839  \n",
       "39003   0.992371  0.007580  0.000049  0.003839  \n",
       "39004   0.992366  0.007590  0.000044  0.003839  \n",
       "...          ...       ...       ...       ...  \n",
       "199995  0.992547  0.007433  0.000020  0.003736  \n",
       "199996  0.992551  0.007426  0.000023  0.003736  \n",
       "199997  0.992548  0.007431  0.000021  0.003736  \n",
       "199998  0.992547  0.007433  0.000020  0.003736  \n",
       "199999  0.992546  0.007435  0.000019  0.003736  \n",
       "\n",
       "[7000 rows x 10 columns]"
      ]
     },
     "execution_count": 76,
     "metadata": {},
     "output_type": "execute_result"
    }
   ],
   "source": [
    "xdf = df.loc[(df['chrom']==\"chrX\") & (df['H'] != 0)]\n",
    "xdf"
   ]
  },
  {
   "cell_type": "code",
   "execution_count": 77,
   "id": "amended-rebecca",
   "metadata": {},
   "outputs": [],
   "source": [
    "testChrX = combine_across_individuals(xdf)\n"
   ]
  },
  {
   "cell_type": "raw",
   "id": "responsible-swiss",
   "metadata": {},
   "source": []
  },
  {
   "cell_type": "code",
   "execution_count": 71,
   "id": "amended-voice",
   "metadata": {},
   "outputs": [
    {
     "data": {
      "text/plain": [
       "[<matplotlib.lines.Line2D at 0x7f626d4d51d0>]"
      ]
     },
     "execution_count": 71,
     "metadata": {},
     "output_type": "execute_result"
    },
    {
     "data": {
      "image/png": "[encoded data removed]",
      "text/plain": [
       "<Figure size 432x288 with 1 Axes>"
      ]
     },
     "metadata": {
      "needs_background": "light"
     },
     "output_type": "display_data"
    }
   ],
   "source": [
    "rhoPerDistChr1 = [ find_max_like_single_dist([dist,testChr1[dist-1] ]) for dist in range(1,1000)]\n",
    "plt.plot(rhoPerDistChr1)"
   ]
  },
  {
   "cell_type": "code",
   "execution_count": 98,
   "id": "descending-patrick",
   "metadata": {},
   "outputs": [
    {
     "data": {
      "text/plain": [
       "[0.0023791458914622127, 0.0037951372198253806, 162.54363880206313]"
      ]
     },
     "execution_count": 98,
     "metadata": {},
     "output_type": "execute_result"
    }
   ],
   "source": [
    "find_max_like_single_chr([testChr1,1])"
   ]
  },
  {
   "cell_type": "code",
   "execution_count": 86,
   "id": "variable-dylan",
   "metadata": {},
   "outputs": [
    {
     "data": {
      "text/plain": [
       "[0.00267441956729298, 0.004452934814619944, 112.96623364491461]"
      ]
     },
     "execution_count": 86,
     "metadata": {},
     "output_type": "execute_result"
    }
   ],
   "source": [
    "find_max_like_single_chr([testChr1,100])"
   ]
  },
  {
   "cell_type": "code",
   "execution_count": 78,
   "id": "accredited-serial",
   "metadata": {},
   "outputs": [
    {
     "data": {
      "text/plain": [
       "[<matplotlib.lines.Line2D at 0x7f6268dd7810>]"
      ]
     },
     "execution_count": 78,
     "metadata": {},
     "output_type": "execute_result"
    },
    {
     "data": {
      "image/png": "[encoded data removed]",
      "text/plain": [
       "<Figure size 432x288 with 1 Axes>"
      ]
     },
     "metadata": {
      "needs_background": "light"
     },
     "output_type": "display_data"
    }
   ],
   "source": [
    "rhoPerDistChrX = [ find_max_like_single_dist([dist,testChrX[dist-1] ]) for dist in range(1,1000)]\n",
    "plt.plot(rhoPerDistChrX)"
   ]
  },
  {
   "cell_type": "code",
   "execution_count": null,
   "id": "animated-survey",
   "metadata": {},
   "outputs": [],
   "source": [
    "find_max_like_single_chr([testChrX,0])"
   ]
  },
  {
   "cell_type": "code",
   "execution_count": 95,
   "id": "small-click",
   "metadata": {},
   "outputs": [],
   "source": [
    "minDistEffectX = [[dist,find_max_like_single_chr([testChrX,dist-1])] for dist in range(1,10)]"
   ]
  },
  {
   "cell_type": "code",
   "execution_count": 93,
   "id": "realistic-immune",
   "metadata": {},
   "outputs": [
    {
     "data": {
      "text/plain": [
       "[[0.0011170507743139583, 0.0014404443802293167, 69.14312284678763],\n",
       " [0.0014422608308613115, 1e-07, 10.0],\n",
       " [0.001442372496066155, 1e-07, 10.0],\n",
       " [0.0014424615763307662, 1e-07, 10.0],\n",
       " [0.0014425504017009008, 1e-07, 10.0],\n",
       " [0.0014427129495557503, 1e-07, 10.0],\n",
       " [0.0014428287213405608, 1e-07, 10.0],\n",
       " [0.0014430080074073334, 1e-07, 10.0],\n",
       " [0.001443154839671209, 1e-07, 10.0],\n",
       " [0.0014433679619913968, 1e-07, 10.0]]"
      ]
     },
     "execution_count": 93,
     "metadata": {},
     "output_type": "execute_result"
    }
   ],
   "source": [
    "minDistEffectX"
   ]
  },
  {
   "cell_type": "code",
   "execution_count": 107,
   "id": "mediterranean-metropolitan",
   "metadata": {},
   "outputs": [],
   "source": [
    "jobs = [[testChrX,dist] for dist in range(1,800,1)]\n",
    "with Pool(cpu_count()) as p:\n",
    "    thisRes = p.map(find_max_like_single_chr,jobs)"
   ]
  },
  {
   "cell_type": "code",
   "execution_count": 108,
   "id": "annoying-interface",
   "metadata": {},
   "outputs": [],
   "source": [
    "kappas = [a for [a,b,c] in thisRes]\n",
    "gammas = [b for [a,b,c] in thisRes]\n",
    "tractLength = [c for [a,b,c] in thisRes]"
   ]
  },
  {
   "cell_type": "code",
   "execution_count": 109,
   "id": "nominated-focus",
   "metadata": {},
   "outputs": [
    {
     "data": {
      "image/png": "[encoded data removed]",
      "text/plain": [
       "<Figure size 432x288 with 1 Axes>"
      ]
     },
     "metadata": {
      "needs_background": "light"
     },
     "output_type": "display_data"
    },
    {
     "data": {
      "image/png": "[encoded data removed]",
      "text/plain": [
       "<Figure size 432x288 with 1 Axes>"
      ]
     },
     "metadata": {
      "needs_background": "light"
     },
     "output_type": "display_data"
    },
    {
     "data": {
      "image/png": "[encoded data removed]",
      "text/plain": [
       "<Figure size 432x288 with 1 Axes>"
      ]
     },
     "metadata": {
      "needs_background": "light"
     },
     "output_type": "display_data"
    }
   ],
   "source": [
    "plt.plot(kappas)\n",
    "plt.show()\n",
    "\n",
    "plt.plot(gammas)\n",
    "plt.show()\n",
    "\n",
    "plt.plot(tractLength)\n",
    "plt.show()"
   ]
  },
  {
   "cell_type": "code",
   "execution_count": 110,
   "id": "engaging-decimal",
   "metadata": {},
   "outputs": [
    {
     "data": {
      "text/plain": [
       "[1e-07, 0.0008975550983727526, 1458.6833133656755]"
      ]
     },
     "execution_count": 110,
     "metadata": {},
     "output_type": "execute_result"
    }
   ],
   "source": [
    "thisRes[250]"
   ]
  },
  {
   "cell_type": "code",
   "execution_count": null,
   "id": "oriented-southeast",
   "metadata": {},
   "outputs": [],
   "source": []
  },
  {
   "cell_type": "code",
   "execution_count": 89,
   "id": "loaded-stuff",
   "metadata": {},
   "outputs": [
    {
     "data": {
      "text/plain": [
       "[0.0014422608308613115, 1e-07, 10.0]"
      ]
     },
     "execution_count": 89,
     "metadata": {},
     "output_type": "execute_result"
    }
   ],
   "source": [
    "find_max_like_single_chr([testChrX,0])"
   ]
  },
  {
   "cell_type": "code",
   "execution_count": 80,
   "id": "assisted-green",
   "metadata": {},
   "outputs": [
    {
     "data": {
      "text/plain": [
       "[0.001442372496066155, 1e-07, 10.0]"
      ]
     },
     "execution_count": 80,
     "metadata": {},
     "output_type": "execute_result"
    }
   ],
   "source": [
    "find_max_like_single_chr(testChrX,0])"
   ]
  },
  {
   "cell_type": "code",
   "execution_count": null,
   "id": "described-arcade",
   "metadata": {},
   "outputs": [],
   "source": []
  },
  {
   "cell_type": "code",
   "execution_count": null,
   "id": "after-bacon",
   "metadata": {},
   "outputs": [],
   "source": []
  },
  {
   "cell_type": "code",
   "execution_count": null,
   "id": "jewish-exploration",
   "metadata": {},
   "outputs": [],
   "source": []
  },
  {
   "cell_type": "code",
   "execution_count": 200,
   "id": "parliamentary-brave",
   "metadata": {},
   "outputs": [],
   "source": [
    "def find_max_like_L_given_single_chr(args):\n",
    "    inList,minDist = args\n",
    "    lowerBounds = [ 1e-7, 1e-7,108]\n",
    "    upperBounds = [ .05, .5, 108]\n",
    "    startPoints = [ 0.000011, 0.000011, 108]\n",
    "\n",
    "    opt=nlopt.opt(nlopt.LN_NELDERMEAD,3)\n",
    "\n",
    "    opt.set_lower_bounds(lowerBounds)\n",
    "    opt.set_upper_bounds(upperBounds)\n",
    "    opt.set_max_objective(lambda x,grad: single_chr_obj_fun(x,inList[minDist-1:]))\n",
    "    res = opt.optimize(startPoints)\n",
    "    return([x for x in res])"
   ]
  },
  {
   "cell_type": "code",
   "execution_count": 207,
   "id": "worse-calendar",
   "metadata": {},
   "outputs": [],
   "source": [
    "jobs = [[testChrX,dist] for dist in range(1,500,5)]\n",
    "with Pool(cpu_count()) as p:\n",
    "    thisRes = p.map(find_max_like_L_given_single_chr,jobs)"
   ]
  },
  {
   "cell_type": "code",
   "execution_count": 208,
   "id": "formed-program",
   "metadata": {},
   "outputs": [],
   "source": [
    "kappasLgiven = [a for [a,b,c] in thisRes]\n",
    "gammasLgiven = [b for [a,b,c] in thisRes]\n",
    "tractLengthLgiven = [c for [a,b,c] in thisRes]"
   ]
  },
  {
   "cell_type": "code",
   "execution_count": 209,
   "id": "proprietary-public",
   "metadata": {},
   "outputs": [
    {
     "data": {
      "image/png": "[encoded data removed]",
      "text/plain": [
       "<Figure size 432x288 with 1 Axes>"
      ]
     },
     "metadata": {
      "needs_background": "light"
     },
     "output_type": "display_data"
    },
    {
     "data": {
      "image/png": "[encoded data removed]",
      "text/plain": [
       "<Figure size 432x288 with 1 Axes>"
      ]
     },
     "metadata": {
      "needs_background": "light"
     },
     "output_type": "display_data"
    },
    {
     "data": {
      "image/png": "[encoded data removed]",
      "text/plain": [
       "<Figure size 432x288 with 1 Axes>"
      ]
     },
     "metadata": {
      "needs_background": "light"
     },
     "output_type": "display_data"
    }
   ],
   "source": [
    "plt.plot(kappasLgiven)\n",
    "plt.show()\n",
    "\n",
    "plt.plot(gammasLgiven)\n",
    "plt.show()\n",
    "\n",
    "plt.plot(tractLengthLgiven)\n",
    "plt.show()"
   ]
  },
  {
   "cell_type": "code",
   "execution_count": 201,
   "id": "bored-indianapolis",
   "metadata": {},
   "outputs": [
    {
     "data": {
      "text/plain": [
       "[0.001430355027504754, 3.0186082227798923e-05, 108.0]"
      ]
     },
     "execution_count": 201,
     "metadata": {},
     "output_type": "execute_result"
    }
   ],
   "source": [
    "find_max_like_L_given_single_chr([testChrX,1])"
   ]
  },
  {
   "cell_type": "code",
   "execution_count": 202,
   "id": "valuable-fortune",
   "metadata": {},
   "outputs": [
    {
     "data": {
      "text/plain": [
       "[0.0012282586136794951, 0.00059731697696097, 108.0]"
      ]
     },
     "execution_count": 202,
     "metadata": {},
     "output_type": "execute_result"
    }
   ],
   "source": [
    "find_max_like_L_given_single_chr([testChrX,100])\n"
   ]
  },
  {
   "cell_type": "code",
   "execution_count": 203,
   "id": "seventh-conclusion",
   "metadata": {},
   "outputs": [
    {
     "data": {
      "text/plain": [
       "[0.0012029283708927482, 0.0006715248584783816, 108.0]"
      ]
     },
     "execution_count": 203,
     "metadata": {},
     "output_type": "execute_result"
    }
   ],
   "source": [
    "find_max_like_L_given_single_chr([testChrX,250])"
   ]
  },
  {
   "cell_type": "code",
   "execution_count": null,
   "id": "romantic-universal",
   "metadata": {},
   "outputs": [],
   "source": []
  },
  {
   "cell_type": "code",
   "execution_count": 197,
   "id": "boring-ozone",
   "metadata": {},
   "outputs": [
    {
     "data": {
      "text/plain": [
       "[0.0028265223205573295, 0.004241856646641292, 108.0]"
      ]
     },
     "execution_count": 197,
     "metadata": {},
     "output_type": "execute_result"
    }
   ],
   "source": [
    "find_max_like_L_given_single_chr([testChr1,1])"
   ]
  },
  {
   "cell_type": "code",
   "execution_count": 198,
   "id": "laughing-phrase",
   "metadata": {},
   "outputs": [
    {
     "data": {
      "text/plain": [
       "[0.00270696766255915, 0.00455262421453804, 108.0]"
      ]
     },
     "execution_count": 198,
     "metadata": {},
     "output_type": "execute_result"
    }
   ],
   "source": [
    "find_max_like_L_given_single_chr([testChr1,100])\n"
   ]
  },
  {
   "cell_type": "code",
   "execution_count": 199,
   "id": "living-output",
   "metadata": {},
   "outputs": [
    {
     "data": {
      "text/plain": [
       "[0.0027038254982276293, 0.0045639763994895916, 108.0]"
      ]
     },
     "execution_count": 199,
     "metadata": {},
     "output_type": "execute_result"
    }
   ],
   "source": [
    "find_max_like_L_given_single_chr([testChr1,250])"
   ]
  },
  {
   "cell_type": "code",
   "execution_count": null,
   "id": "gorgeous-courtesy",
   "metadata": {},
   "outputs": [],
   "source": []
  },
  {
   "cell_type": "code",
   "execution_count": null,
   "id": "worse-europe",
   "metadata": {},
   "outputs": [],
   "source": []
  }
 ],
 "metadata": {
  "kernelspec": {
   "display_name": "Python 3",
   "language": "python",
   "name": "python3"
  },
  "language_info": {
   "codemirror_mode": {
    "name": "ipython",
    "version": 3
   },
   "file_extension": ".py",
   "mimetype": "text/x-python",
   "name": "python",
   "nbconvert_exporter": "python",
   "pygments_lexer": "ipython3",
   "version": "3.7.9"
  }
 },
 "nbformat": 4,
 "nbformat_minor": 5
}
