{
 "cells": [
  {
   "cell_type": "code",
   "execution_count": 2,
   "id": "minute-samba",
   "metadata": {},
   "outputs": [],
   "source": [
    "import numpy as np\n",
    "import nlopt\n",
    "import pandas as pd\n",
    "from math import log, exp\n",
    "from multiprocessing import Pool, cpu_count\n",
    "import time\n",
    "import matplotlib.pyplot as plt\n",
    "%matplotlib inline"
   ]
  },
  {
   "cell_type": "markdown",
   "id": "insured-insured",
   "metadata": {},
   "source": [
    "## Functions for heRho analysis"
   ]
  },
  {
   "cell_type": "code",
   "execution_count": 3,
   "id": "determined-night",
   "metadata": {},
   "outputs": [],
   "source": [
    "def rho(rbp,g,L,d):\n",
    "    r = rbp*(d+2*(g/rbp)*L*(1 - exp(-d/L)))\n",
    "    return(r)"
   ]
  },
  {
   "cell_type": "code",
   "execution_count": 4,
   "id": "expressed-battle",
   "metadata": {},
   "outputs": [],
   "source": [
    "def single_dist_obj_fun(r,x):\n",
    "    d,h0,h1,h2,th = x\n",
    "    r = r*(d)\n",
    "    calcH0 =(18+13*r + r**2 + 36*th + 22*th**2 + 4*th**3 + r*(6*th+th**2))/((1+th)*(18+13*r+r**2+54*th + 40*th**2+8*th**3+r*(r*th+19*th+6*th**2)))\n",
    "    calcH2 = (th**2*(36+14*r+r**2+36*th+6*th*r+8*th**2))/((1+th)*(18+13*r+r**2+54*th + 40*th**2+8*th**3+r*(r*th+19*th+6*th**2)))\n",
    "    calcH1 = 1 - calcH0 - calcH2\n",
    "    \n",
    "    val = h0*log(calcH0) + h1*log(calcH1)+h2*log(calcH2)\n",
    "    return(val)"
   ]
  },
  {
   "cell_type": "code",
   "execution_count": 5,
   "id": "organic-prophet",
   "metadata": {},
   "outputs": [],
   "source": [
    "def single_dist_multi_ind_obj_fun(r,xl):\n",
    "    res = [ single_dist_obj_fun(r,xs) for xs in xl]\n",
    "    res = sum(res)\n",
    "    return(res)"
   ]
  },
  {
   "cell_type": "code",
   "execution_count": 6,
   "id": "built-tender",
   "metadata": {},
   "outputs": [],
   "source": [
    "def find_max_like_single_dist(args):\n",
    "    d, testChr = args\n",
    "    opt = nlopt.opt(nlopt.LN_NELDERMEAD,1)\n",
    "    opt.set_lower_bounds([0.00000001])\n",
    "    opt.set_upper_bounds([0.5])\n",
    "    startPoint = [0.001]\n",
    "    opt.set_max_objective(lambda x, grad: single_dist_obj_fun(x,testChr))\n",
    "    res = opt.optimize(startPoint)\n",
    "    return(res[0])"
   ]
  },
  {
   "cell_type": "code",
   "execution_count": null,
   "id": "closed-student",
   "metadata": {},
   "outputs": [],
   "source": []
  },
  {
   "cell_type": "code",
   "execution_count": 7,
   "id": "surprising-finance",
   "metadata": {},
   "outputs": [],
   "source": [
    "def calc_single_dist(x,rbp,g,L):\n",
    "    d,h0,h1,h2,th = x\n",
    "    \n",
    "    r = rbp*(d+2*(g/rbp)*L*(1 - exp(-d/L)))\n",
    "    \n",
    "    calcH0 =(18+13*r + r**2 + 36*th + 22*th**2 + 4*th**3 + r*(6*th+th**2))/((1+th)*(18+13*r+r**2+54*th + 40*th**2+8*th**3+r*(r*th+19*th+6*th**2)))\n",
    "    calcH2 = (th**2*(36+14*r+r**2+36*th+6*th*r+8*th**2))/((1+th)*(18+13*r+r**2+54*th + 40*th**2+8*th**3+r*(r*th+19*th+6*th**2)))\n",
    "    calcH1 = 1 - calcH0 - calcH2\n",
    "    \n",
    "    val = h0*log(calcH0) + h1*log(calcH1)+h2*log(calcH2)\n",
    "    return(val)"
   ]
  },
  {
   "cell_type": "code",
   "execution_count": 8,
   "id": "contained-sacramento",
   "metadata": {},
   "outputs": [],
   "source": [
    "def single_chr_obj_fun(x_,arr):\n",
    "    rbp, g, L = x_\n",
    "    test = np.apply_along_axis(lambda x: calc_single_dist(x,rbp,g,L),1,arr)\n",
    "    obfun = np.sum(test)\n",
    "    #test = [calc_single_dist(x,rbp,g,L) for x in arr]\n",
    "    #obfun = sum(test)\n",
    "    return(obfun)"
   ]
  },
  {
   "cell_type": "code",
   "execution_count": 9,
   "id": "massive-genome",
   "metadata": {},
   "outputs": [],
   "source": [
    "def across_chr_obj_fun(x,dfArrList,numChrs):\n",
    "    \n",
    "    rList = x[0:numChrs]\n",
    "    gList = x[numChrs:numChrs+numChrs]\n",
    "    L = x[-1]\n",
    "    \n",
    "    obFun = sum([single_chr_obj_fun([rs,gs,L],arr) for (rs,gs,arr) in list(zip(rList,gList,dfArrList))])\n",
    "    \n",
    "    return(obFun)"
   ]
  },
  {
   "cell_type": "code",
   "execution_count": 10,
   "id": "portable-immune",
   "metadata": {},
   "outputs": [],
   "source": [
    "def find_max_like_single_ind(rep):\n",
    "    \n",
    "    numberChromsomes = 19\n",
    "    dfListAuto = [x.iloc[:,[0,4,5,6,11]].to_numpy() for x in dfListAuto]\n",
    "\n",
    "    lowerBounds = [0.0001 for x in range(numberChromsomes)]+ [0.0001 for x in range(numberChromsomes)]+[10]\n",
    "    upperBounds = [0.1 for x in range(numberChromsomes)]+[0.1 for x in range(numberChromsomes)]+[2000]\n",
    "    startPoints = [0.001 for x in range(numberChromsomes)]+[0.001 for x in range(numberChromsomes)]+[50]\n",
    "\n",
    "\n",
    "    opt=nlopt.opt(nlopt.LN_NELDERMEAD,numberChromsomes+numberChromsomes+1)\n",
    "\n",
    "    opt.set_lower_bounds(lowerBounds)\n",
    "    opt.set_upper_bounds(upperBounds)\n",
    "\n",
    "    opt.set_max_objective(lambda x,grad: across_chr_obj_fun(x,dfListAuto,numberChromsomes))\n",
    "\n",
    "    res = opt.optimize(startPoints)\n",
    "    return(res)"
   ]
  },
  {
   "cell_type": "code",
   "execution_count": 11,
   "id": "logical-slovak",
   "metadata": {},
   "outputs": [],
   "source": [
    "def find_max_like_group_ind(numberChromosomes):\n",
    "    autoNames = ['chr1', 'chr2', 'chr3', 'chr4', 'chr5', 'chr6', 'chr7', 'chr8',\n",
    "       'chr9', 'chr10', 'chr11', 'chr12', 'chr13', 'chr14', 'chr15',\n",
    "       'chr16', 'chr17', 'chr18', 'chr19']\n",
    "    dfListAuto = [ df.loc[(df['chrom']== x) & (df['name']=='H30') & (df['distances']>=100)] for x in autoNames[0:numberChromosomes]]\n",
    "    dfListAuto = [combine_across_individuals(x) for x in dfListAuto]\n",
    "\n",
    "    lowerBounds = [0.0001 for x in range(numberChromosomes)]+ [0.0001 for x in range(numberChromosomes)]+[10]\n",
    "    upperBounds = [0.1 for x in range(numberChromosomes)]+[0.1 for x in range(numberChromosomes)]+[2000]\n",
    "    startPoints = [0.001 for x in range(numberChromosomes)]+[0.001 for x in range(numberChromosomes)]+[50]\n",
    "\n",
    "\n",
    "    opt=nlopt.opt(nlopt.LN_NELDERMEAD,numberChromosomes+numberChromosomes+1)\n",
    "\n",
    "    opt.set_lower_bounds(lowerBounds)\n",
    "    opt.set_upper_bounds(upperBounds)\n",
    "\n",
    "    opt.set_max_objective(lambda x,grad: across_chr_obj_fun(x,dfListAuto,numberChromosomes))\n",
    "\n",
    "    res = opt.optimize(startPoints)\n",
    "    return(res)"
   ]
  },
  {
   "cell_type": "code",
   "execution_count": 12,
   "id": "protected-petersburg",
   "metadata": {},
   "outputs": [],
   "source": [
    "def combine_across_individuals(thisDF):\n",
    "    test = thisDF\n",
    "    numSamples = len(test['name'].unique())\n",
    "    test = test.groupby(['distances'],as_index=False).sum()\n",
    "    test['H'] = test['H']/numSamples\n",
    "    return(test.iloc[:,[0,1,2,3,7]].to_numpy())\n",
    "    #return(test.iloc[:,[0,4,5,6,11]].to_numpy())\n",
    "    #return( test.iloc[:,[0,4,5,6,11]].to_numpy() )"
   ]
  },
  {
   "cell_type": "code",
   "execution_count": 103,
   "id": "neural-north",
   "metadata": {},
   "outputs": [],
   "source": [
    "def find_max_like_single_chr(args):\n",
    "    inList,minDist = args\n",
    "    lowerBounds = [ 1e-7, 1e-7,10]\n",
    "    upperBounds = [ 0.5, 0.5, 10000]\n",
    "    startPoints = [ 0.0071, 0.0071, 66]\n",
    "\n",
    "    opt=nlopt.opt(nlopt.LN_NELDERMEAD,3)\n",
    "\n",
    "    opt.set_lower_bounds(lowerBounds)\n",
    "    opt.set_upper_bounds(upperBounds)\n",
    "    opt.set_max_objective(lambda x,grad: single_chr_obj_fun(x,inList[minDist-1:]))\n",
    "    res = opt.optimize(startPoints)\n",
    "    return([x for x in res])"
   ]
  },
  {
   "cell_type": "code",
   "execution_count": 48,
   "id": "parliamentary-brave",
   "metadata": {},
   "outputs": [],
   "source": [
    "def find_max_like_L_given_single_chr(args):\n",
    "    inList,minDist = args\n",
    "    lowerBounds = [ 1e-7, 1e-7,108]\n",
    "    upperBounds = [ .05, .5, 108]\n",
    "    startPoints = [ 0.000011, 0.000011, 108]\n",
    "\n",
    "    opt=nlopt.opt(nlopt.LN_NELDERMEAD,3)\n",
    "\n",
    "    opt.set_lower_bounds(lowerBounds)\n",
    "    opt.set_upper_bounds(upperBounds)\n",
    "    opt.set_max_objective(lambda x,grad: single_chr_obj_fun(x,inList[minDist-1:]))\n",
    "    res = opt.optimize(startPoints)\n",
    "    return([x for x in res])"
   ]
  },
  {
   "cell_type": "markdown",
   "id": "excess-dream",
   "metadata": {},
   "source": [
    "## Analysis\n",
    "\n",
    "Here we estimate the rates of CO and GC and the mean GC tract length for the X chromosome and compare these estimates to those of the autosomes."
   ]
  },
  {
   "cell_type": "markdown",
   "id": "motivated-blanket",
   "metadata": {},
   "source": [
    "Importing the data set"
   ]
  },
  {
   "cell_type": "code",
   "execution_count": 14,
   "id": "forty-alpha",
   "metadata": {
    "scrolled": true
   },
   "outputs": [],
   "source": [
    "df = pd.read_csv('../mathematicaInputMice_unbinned.tsv',delimiter='\\t')"
   ]
  },
  {
   "cell_type": "markdown",
   "id": "norman-benchmark",
   "metadata": {},
   "source": [
    "The data set restricted to the x chromosome is below. \n",
    "\n",
    "Note that we include the condition that H != 0 to exclude males from the analysis"
   ]
  },
  {
   "cell_type": "code",
   "execution_count": 64,
   "id": "beneficial-premium",
   "metadata": {},
   "outputs": [
    {
     "data": {
      "text/html": [
       "<div>\n",
       "<style scoped>\n",
       "    .dataframe tbody tr th:only-of-type {\n",
       "        vertical-align: middle;\n",
       "    }\n",
       "\n",
       "    .dataframe tbody tr th {\n",
       "        vertical-align: top;\n",
       "    }\n",
       "\n",
       "    .dataframe thead th {\n",
       "        text-align: right;\n",
       "    }\n",
       "</style>\n",
       "<table border=\"1\" class=\"dataframe\">\n",
       "  <thead>\n",
       "    <tr style=\"text-align: right;\">\n",
       "      <th></th>\n",
       "      <th>name</th>\n",
       "      <th>chrom</th>\n",
       "      <th>distances</th>\n",
       "      <th>no_het_bins</th>\n",
       "      <th>one_het_bins</th>\n",
       "      <th>two_het_bins</th>\n",
       "      <th>H0Prop</th>\n",
       "      <th>H1Prop</th>\n",
       "      <th>H2Prop</th>\n",
       "      <th>H</th>\n",
       "    </tr>\n",
       "  </thead>\n",
       "  <tbody>\n",
       "    <tr>\n",
       "      <th>39999</th>\n",
       "      <td>H14</td>\n",
       "      <td>chrX</td>\n",
       "      <td>1000</td>\n",
       "      <td>33306238</td>\n",
       "      <td>254232.0</td>\n",
       "      <td>740</td>\n",
       "      <td>0.992403</td>\n",
       "      <td>0.007575</td>\n",
       "      <td>0.000022</td>\n",
       "      <td>0.003810</td>\n",
       "    </tr>\n",
       "    <tr>\n",
       "      <th>59999</th>\n",
       "      <td>H15</td>\n",
       "      <td>chrX</td>\n",
       "      <td>1000</td>\n",
       "      <td>33311772</td>\n",
       "      <td>248574.0</td>\n",
       "      <td>708</td>\n",
       "      <td>0.992572</td>\n",
       "      <td>0.007407</td>\n",
       "      <td>0.000021</td>\n",
       "      <td>0.003724</td>\n",
       "    </tr>\n",
       "    <tr>\n",
       "      <th>79999</th>\n",
       "      <td>H24</td>\n",
       "      <td>chrX</td>\n",
       "      <td>1000</td>\n",
       "      <td>33320017</td>\n",
       "      <td>242344.0</td>\n",
       "      <td>693</td>\n",
       "      <td>0.992759</td>\n",
       "      <td>0.007221</td>\n",
       "      <td>0.000021</td>\n",
       "      <td>0.003631</td>\n",
       "    </tr>\n",
       "    <tr>\n",
       "      <th>99999</th>\n",
       "      <td>H26</td>\n",
       "      <td>chrX</td>\n",
       "      <td>1000</td>\n",
       "      <td>33315277</td>\n",
       "      <td>247968.0</td>\n",
       "      <td>717</td>\n",
       "      <td>0.992591</td>\n",
       "      <td>0.007388</td>\n",
       "      <td>0.000021</td>\n",
       "      <td>0.003715</td>\n",
       "    </tr>\n",
       "    <tr>\n",
       "      <th>119999</th>\n",
       "      <td>H27</td>\n",
       "      <td>chrX</td>\n",
       "      <td>1000</td>\n",
       "      <td>33315911</td>\n",
       "      <td>248566.0</td>\n",
       "      <td>797</td>\n",
       "      <td>0.992571</td>\n",
       "      <td>0.007405</td>\n",
       "      <td>0.000024</td>\n",
       "      <td>0.003726</td>\n",
       "    </tr>\n",
       "    <tr>\n",
       "      <th>159999</th>\n",
       "      <td>H30</td>\n",
       "      <td>chrX</td>\n",
       "      <td>1000</td>\n",
       "      <td>33290628</td>\n",
       "      <td>268685.0</td>\n",
       "      <td>794</td>\n",
       "      <td>0.991970</td>\n",
       "      <td>0.008006</td>\n",
       "      <td>0.000024</td>\n",
       "      <td>0.004027</td>\n",
       "    </tr>\n",
       "    <tr>\n",
       "      <th>199999</th>\n",
       "      <td>H36</td>\n",
       "      <td>chrX</td>\n",
       "      <td>1000</td>\n",
       "      <td>33312857</td>\n",
       "      <td>249551.0</td>\n",
       "      <td>625</td>\n",
       "      <td>0.992546</td>\n",
       "      <td>0.007435</td>\n",
       "      <td>0.000019</td>\n",
       "      <td>0.003736</td>\n",
       "    </tr>\n",
       "  </tbody>\n",
       "</table>\n",
       "</div>"
      ],
      "text/plain": [
       "       name chrom  distances  no_het_bins  one_het_bins  two_het_bins  \\\n",
       "39999   H14  chrX       1000     33306238      254232.0           740   \n",
       "59999   H15  chrX       1000     33311772      248574.0           708   \n",
       "79999   H24  chrX       1000     33320017      242344.0           693   \n",
       "99999   H26  chrX       1000     33315277      247968.0           717   \n",
       "119999  H27  chrX       1000     33315911      248566.0           797   \n",
       "159999  H30  chrX       1000     33290628      268685.0           794   \n",
       "199999  H36  chrX       1000     33312857      249551.0           625   \n",
       "\n",
       "          H0Prop    H1Prop    H2Prop         H  \n",
       "39999   0.992403  0.007575  0.000022  0.003810  \n",
       "59999   0.992572  0.007407  0.000021  0.003724  \n",
       "79999   0.992759  0.007221  0.000021  0.003631  \n",
       "99999   0.992591  0.007388  0.000021  0.003715  \n",
       "119999  0.992571  0.007405  0.000024  0.003726  \n",
       "159999  0.991970  0.008006  0.000024  0.004027  \n",
       "199999  0.992546  0.007435  0.000019  0.003736  "
      ]
     },
     "execution_count": 64,
     "metadata": {},
     "output_type": "execute_result"
    }
   ],
   "source": [
    "df.loc[(df['chrom']=='chrX') & (df['H']!=0) & (df['distances']==1000)]"
   ]
  },
  {
   "cell_type": "code",
   "execution_count": 100,
   "id": "greenhouse-contributor",
   "metadata": {},
   "outputs": [],
   "source": [
    "chrNames = df['chrom'].unique()"
   ]
  },
  {
   "cell_type": "markdown",
   "id": "adjusted-valuable",
   "metadata": {},
   "source": [
    "we obtain the maximum likelihood co-estimate of Gamma, Kappa, and L for each chromsome separately. Chromosomes are ordered 1, 2, ..., 18, 19, X  below.\n",
    "\n",
    "We combine data across all individuals, and we exclude the observations for distances d<100.\n",
    "\n",
    "We see that the separate estimates for each autosome largerly agree with those obtained when all are co-estimated with a single global tract length.  \n",
    "\n",
    "In contrast, for the X chromosome, heRho estimates little-to-no crossover, a low gene conversion rate, and elevated mean tract length (approximately 10x larger than in autosomes).  Note however, that the sample size for the X chromosome is smaller than for autosomes, and estimates may be poorer."
   ]
  },
  {
   "cell_type": "code",
   "execution_count": 126,
   "id": "public-colon",
   "metadata": {},
   "outputs": [
    {
     "data": {
      "text/plain": [
       "[[0.001384837691525137, 0.00229706219324625, 121.68920267069825],\n",
       " [0.0017470584829202458, 0.0036556340064994083, 106.28930762135163],\n",
       " [0.001959082007698121, 0.003761761479066707, 93.77449481007031],\n",
       " [0.0015779155113453515, 0.0020519367872829926, 125.72009401078947],\n",
       " [0.0019120552217971268, 0.0028915847764834756, 121.29164539275982],\n",
       " [0.0017272640901598458, 0.002692051817189848, 107.3719809243635],\n",
       " [0.0017567056896119885, 0.0028809171249618544, 89.2414423643061],\n",
       " [0.002308650833813212, 0.004531226779882902, 89.13799268047438],\n",
       " [0.001552332288937549, 0.003076478655734998, 149.52271168621763],\n",
       " [0.0021427925679586178, 0.0047297792562389675, 78.33231968331602],\n",
       " [0.0015409335259186354, 0.0024662653148779306, 151.9438798734167],\n",
       " [0.0016854736309942849, 0.0034295013616810442, 120.95895736360305],\n",
       " [0.002106715787268283, 0.005164335897339648, 79.67833877489745],\n",
       " [0.0018697811287865095, 0.003886423423758529, 116.02129530967964],\n",
       " [0.001374771998842264, 0.001832639405114471, 169.704051350074],\n",
       " [0.0019762912692518975, 0.0037706414621120387, 100.70380927481834],\n",
       " [0.001803268756053422, 0.002863698096180705, 111.35483839623103],\n",
       " [0.0020733326567313032, 0.002765350921308398, 105.08005980638544],\n",
       " [0.00267361131033313, 0.004448806807952496, 113.1392307599939],\n",
       " [1e-07, 0.0009203961585658896, 1318.343334992131]]"
      ]
     },
     "execution_count": 126,
     "metadata": {},
     "output_type": "execute_result"
    }
   ],
   "source": [
    "singleChrEstimates = []\n",
    "for chrom in chrNames:\n",
    "    cdf = df.loc[(df['chrom']==chrom) & (df['H'] != 0)]\n",
    "    testChr = combine_across_individuals(cdf)\n",
    "    res = find_max_like_single_chr([testChr,100])\n",
    "    singleChrEstimates.append(res)\n",
    "\n",
    "singleChrEstimates = np.array(singleChrEstimates)\n",
    "singleChrEstimates"
   ]
  },
  {
   "cell_type": "markdown",
   "id": "mediterranean-lawsuit",
   "metadata": {},
   "source": [
    "The tract length distribution is thought to be constant throughtout the genome. However, the rates of recombination and mutation in X chromosomes inherintely differs from that of autosomes. Therefore, in the main analysis, we co-estimated all _autosome_ paramters with a global tract length L, and we found L=108 the most likely. \n",
    "\n",
    "Here, we condition on the mean tract length of 108 base pairs and estimate the CO and GC rates, again separately for each chromsome. Although we have global co-estimates for the autosomes, here we obtain single-chromosome estimates conditioned on L in order to make a fair compairison to the estimates we obtain for the X chromosome.\n",
    "\n",
    "We now find a (perhaps more realistic) estimate for the rates of recombination in the X chromosome:"
   ]
  },
  {
   "cell_type": "code",
   "execution_count": 127,
   "id": "sound-island",
   "metadata": {},
   "outputs": [
    {
     "data": {
      "text/plain": [
       "[[0.0014273285279010391, 0.0024443788382259623, 108.0],\n",
       " [0.0017390796002656015, 0.0036240526366245014, 108.0],\n",
       " [0.0018967490573164607, 0.0034687425046281513, 108.0],\n",
       " [0.0016297407536095593, 0.0022143503835071986, 108.0],\n",
       " [0.0019672767161944874, 0.003064108539165159, 108.0],\n",
       " [0.0017251008127854564, 0.0026835445533939894, 108.0],\n",
       " [0.0016972388556097998, 0.002573148973450077, 108.0],\n",
       " [0.002210028871586287, 0.00405584120083239, 108.0],\n",
       " [0.0017556825058882182, 0.0035570599329271748, 108.0],\n",
       " [0.0020023351583798644, 0.0038793705931818943, 108.0],\n",
       " [0.0017156136392875976, 0.002866851229960386, 108.0],\n",
       " [0.0017475014698493942, 0.0036329275332614916, 108.0],\n",
       " [0.0019583328059637234, 0.0042855663098083484, 108.0],\n",
       " [0.001912588997403473, 0.004032659020748657, 108.0],\n",
       " [0.001563901971825664, 0.0022113608955336966, 108.0],\n",
       " [0.0019421396755438065, 0.0036274597822906606, 108.0],\n",
       " [0.0018160875020002206, 0.002910349662893056, 108.0],\n",
       " [0.0020627639278327464, 0.0027249862876087324, 108.0],\n",
       " [0.00270696766255915, 0.00455262421453804, 108.0],\n",
       " [0.0012282586136794951, 0.00059731697696097, 108.0]]"
      ]
     },
     "execution_count": 127,
     "metadata": {},
     "output_type": "execute_result"
    }
   ],
   "source": [
    "singleChrEstimatesGivenL = []\n",
    "for chrom in chrNames:\n",
    "    cdf = df.loc[(df['chrom']==chrom) & (df['H'] != 0)]\n",
    "    testChr = combine_across_individuals(cdf)\n",
    "    res = find_max_like_L_given_single_chr([testChr,100])\n",
    "    singleChrEstimatesGivenL.append(res)\n",
    "singleChrEstimatesGivenL = np.array(singleChrEstimatesGivenL)\n",
    "singleChrEstimatesGivenL\n"
   ]
  },
  {
   "cell_type": "markdown",
   "id": "accepted-finland",
   "metadata": {},
   "source": [
    "The mean genetic diversity among autosomes"
   ]
  },
  {
   "cell_type": "code",
   "execution_count": 145,
   "id": "increased-recall",
   "metadata": {},
   "outputs": [
    {
     "data": {
      "text/plain": [
       "0.007063150054605022"
      ]
     },
     "execution_count": 145,
     "metadata": {},
     "output_type": "execute_result"
    }
   ],
   "source": [
    "autoHets = df.loc[(df['chrom']!=\"chrX\")]['H']\n",
    "sum(autoHets)/len(autoHets)"
   ]
  },
  {
   "cell_type": "markdown",
   "id": "external-saturday",
   "metadata": {},
   "source": [
    "The scaled kappa/theta for each chromosome:"
   ]
  },
  {
   "cell_type": "code",
   "execution_count": 159,
   "id": "removable-dallas",
   "metadata": {},
   "outputs": [
    {
     "data": {
      "text/plain": [
       "[0.2021711795893823,\n",
       " 0.2463285552784138,\n",
       " 0.26866133956323807,\n",
       " 0.23084146651693474,\n",
       " 0.2786510929453948,\n",
       " 0.24434855705176434,\n",
       " 0.24040210419402264,\n",
       " 0.3130352509329018,\n",
       " 0.24868024162722635,\n",
       " 0.28361687795748786,\n",
       " 0.2430047647716144,\n",
       " 0.2475214546528887,\n",
       " 0.2773842501365047,\n",
       " 0.2709049571393021,\n",
       " 0.22151586003196372,\n",
       " 0.2750906056011057,\n",
       " 0.2572361900850171,\n",
       " 0.29217619374401504,\n",
       " 0.38342318166560196]"
      ]
     },
     "execution_count": 159,
     "metadata": {},
     "output_type": "execute_result"
    }
   ],
   "source": [
    "[x/0.00706 for x in singleChrEstimatesGivenL[0:-1,0]]"
   ]
  },
  {
   "cell_type": "markdown",
   "id": "cooked-french",
   "metadata": {},
   "source": [
    "The scaled gamma/theta for each chromsome:"
   ]
  },
  {
   "cell_type": "code",
   "execution_count": 162,
   "id": "concrete-express",
   "metadata": {},
   "outputs": [
    {
     "data": {
      "text/plain": [
       "[0.3462292971991448,\n",
       " 0.5133219032046036,\n",
       " 0.4913233009388316,\n",
       " 0.3136473631030026,\n",
       " 0.434009708097048,\n",
       " 0.38010546082067836,\n",
       " 0.3644686931232404,\n",
       " 0.5744817564918399,\n",
       " 0.5038328516894015,\n",
       " 0.5494859197141493,\n",
       " 0.4060695793145022,\n",
       " 0.5145789707169252,\n",
       " 0.6070207237688878,\n",
       " 0.5711981615791298,\n",
       " 0.31322392288012696,\n",
       " 0.5138045017408868,\n",
       " 0.4122308304381099,\n",
       " 0.3859753948454295,\n",
       " 0.644847622455813]"
      ]
     },
     "execution_count": 162,
     "metadata": {},
     "output_type": "execute_result"
    }
   ],
   "source": [
    "[x/0.00706 for x in singleChrEstimatesGivenL[0:-1,1]]"
   ]
  },
  {
   "cell_type": "markdown",
   "id": "surgical-chick",
   "metadata": {},
   "source": [
    "The mean kappa, gamma, and L obtained across the autosomes, conditioned on L = 108"
   ]
  },
  {
   "cell_type": "code",
   "execution_count": 148,
   "id": "unsigned-underground",
   "metadata": {},
   "outputs": [
    {
     "data": {
      "text/plain": [
       "array([1.86718203e-03, 3.28470437e-03, 1.08000000e+02])"
      ]
     },
     "execution_count": 148,
     "metadata": {},
     "output_type": "execute_result"
    }
   ],
   "source": [
    "np.mean(singleChrEstimatesGivenL[0:-1],axis=0)"
   ]
  },
  {
   "cell_type": "markdown",
   "id": "painful-minister",
   "metadata": {},
   "source": [
    "The heterozygosity theta for the X chromosome is below. \n",
    "\n",
    "note that the mean heterozygosity theta on the X chromosome is expected to be 3/4 that of the autosomes. "
   ]
  },
  {
   "cell_type": "code",
   "execution_count": 146,
   "id": "lovely-butler",
   "metadata": {},
   "outputs": [
    {
     "data": {
      "text/plain": [
       "0.003777521934248191"
      ]
     },
     "execution_count": 146,
     "metadata": {},
     "output_type": "execute_result"
    }
   ],
   "source": [
    "xHets = df.loc[(df['chrom']==\"chrX\") & (df['H']!= 0 )]['H']\n",
    "sum(xHets)/len(xHets)"
   ]
  },
  {
   "cell_type": "markdown",
   "id": "patent-visitor",
   "metadata": {},
   "source": [
    "the expected diversity, however, is "
   ]
  },
  {
   "cell_type": "code",
   "execution_count": 153,
   "id": "resistant-crawford",
   "metadata": {},
   "outputs": [
    {
     "data": {
      "text/plain": [
       "0.005295"
      ]
     },
     "execution_count": 153,
     "metadata": {},
     "output_type": "execute_result"
    }
   ],
   "source": [
    "0.00706*3/4"
   ]
  },
  {
   "cell_type": "markdown",
   "id": "improving-hardwood",
   "metadata": {},
   "source": [
    "How do these estimates for the X chromosome compare to those of the autosomes?\n",
    "\n",
    "We expect the X chromosome to experience 2/3 the crossover rate compared to the autosomes. \n",
    "\n",
    "Indeed, we found an average CO rate of approximately 0.0012 for the X compared to 0.0019 for the autosomes.\n",
    "\n",
    "We found that the GC rate is relatively low on the X chromosome compared to the autosomes. The X chromosome is the only one for which the GC rate is lower than the CO rate. \n",
    "\n",
    "The recombination rate estimates from heRho are dependent on the observed level of heterozygosity. For the autosomes, kappa\\theta = k/mu and gamma/tehta =g/mu. That is, the heRho tells us the ratio of the rates, so that if we know mu, we can estimate the underlying value of k and g (that are independent of the effective population size). However, X chromosomes experience only 2/3 the rate of autosomal recombination and 3/4 the rate of new mutations.  \n",
    "\n",
    "k/mu = kappa_auto / theta_auto = (3/2)kappa_X / (4/3)theta_X = 9/8 kappa_x/ theta_x.\n",
    "\n",
    "Whith this adjustment, we see that among all chromosomes, the X chromosome has the second-highest estimated rate of recombination (relative to mutation), but it experiences approximately 3-fold less gene conversioin than autosomes.  "
   ]
  },
  {
   "cell_type": "code",
   "execution_count": 149,
   "id": "laden-pavilion",
   "metadata": {},
   "outputs": [
    {
     "name": "stdout",
     "output_type": "stream",
     "text": [
      "auto kappa ratio:   0.2644475920679886\n",
      "auto gamma ratio:   0.4652974504249292\n"
     ]
    }
   ],
   "source": [
    "print(\"auto kappa ratio:  \", 0.001867/0.00706)\n",
    "print(\"auto gamma ratio:  \", 0.003285/0.00706)"
   ]
  },
  {
   "cell_type": "code",
   "execution_count": 160,
   "id": "rising-darkness",
   "metadata": {},
   "outputs": [
    {
     "name": "stdout",
     "output_type": "stream",
     "text": [
      "X kappa ratio:   0.3257294429708223\n",
      "x gamma ratio  0.1583554376657825\n"
     ]
    }
   ],
   "source": [
    "print(\"X kappa ratio:  \", 0.001228/0.00377)\n",
    "print(\"x gamma ratio \",  0.000597/0.00377)"
   ]
  },
  {
   "cell_type": "code",
   "execution_count": 163,
   "id": "abstract-current",
   "metadata": {},
   "outputs": [
    {
     "name": "stdout",
     "output_type": "stream",
     "text": [
      "X k/mu ratio:   0.36644562334217506\n",
      "x g/mu ratio  0.17814986737400532\n"
     ]
    }
   ],
   "source": [
    "print(\"X k/mu ratio:  \", 0.001228/0.00377*9/8)\n",
    "print(\"x g/mu ratio \",  0.000597/0.00377*9/8)"
   ]
  }
 ],
 "metadata": {
  "kernelspec": {
   "display_name": "Python 3",
   "language": "python",
   "name": "python3"
  },
  "language_info": {
   "codemirror_mode": {
    "name": "ipython",
    "version": 3
   },
   "file_extension": ".py",
   "mimetype": "text/x-python",
   "name": "python",
   "nbconvert_exporter": "python",
   "pygments_lexer": "ipython3",
   "version": "3.7.9"
  }
 },
 "nbformat": 4,
 "nbformat_minor": 5
}
