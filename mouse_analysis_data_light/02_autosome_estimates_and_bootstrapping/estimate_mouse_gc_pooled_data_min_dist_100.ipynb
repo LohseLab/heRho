{
 "cells": [
  {
   "cell_type": "code",
   "execution_count": 7,
   "id": "minute-samba",
   "metadata": {},
   "outputs": [],
   "source": [
    "import numpy as np\n",
    "import nlopt\n",
    "import pandas as pd\n",
    "from math import log, exp\n",
    "from multiprocessing import Pool, cpu_count\n",
    "import time\n",
    "import matplotlib.pyplot as plt\n",
    "%matplotlib inline"
   ]
  },
  {
   "cell_type": "code",
   "execution_count": 3,
   "id": "collect-sydney",
   "metadata": {},
   "outputs": [],
   "source": []
  },
  {
   "cell_type": "code",
   "execution_count": 4,
   "id": "determined-night",
   "metadata": {},
   "outputs": [],
   "source": [
    "def rho(rbp,g,L,d):\n",
    "    r = rbp*(d+2*(g/rbp)*L*(1 - exp(-d/L)))\n",
    "    return(r)"
   ]
  },
  {
   "cell_type": "code",
   "execution_count": 5,
   "id": "expressed-battle",
   "metadata": {},
   "outputs": [],
   "source": [
    "def single_dist_obj_fun(r,x):\n",
    "    d,h0,h1,h2,th = x\n",
    "    r = r*(d)\n",
    "    calcH0 =(18+13*r + r**2 + 36*th + 22*th**2 + 4*th**3 + r*(6*th+th**2))/((1+th)*(18+13*r+r**2+54*th + 40*th**2+8*th**3+r*(r*th+19*th+6*th**2)))\n",
    "    calcH2 = (th**2*(36+14*r+r**2+36*th+6*th*r+8*th**2))/((1+th)*(18+13*r+r**2+54*th + 40*th**2+8*th**3+r*(r*th+19*th+6*th**2)))\n",
    "    calcH1 = 1 - calcH0 - calcH2\n",
    "    \n",
    "    val = h0*log(calcH0) + h1*log(calcH1)+h2*log(calcH2)\n",
    "    return(val)"
   ]
  },
  {
   "cell_type": "code",
   "execution_count": 6,
   "id": "organic-prophet",
   "metadata": {},
   "outputs": [],
   "source": [
    "def single_dist_multi_ind_obj_fun(r,xl):\n",
    "    res = [ single_dist_obj_fun(r,xs) for xs in xl]\n",
    "    res = sum(res)\n",
    "    return(res)"
   ]
  },
  {
   "cell_type": "code",
   "execution_count": 7,
   "id": "built-tender",
   "metadata": {},
   "outputs": [],
   "source": [
    "def find_max_like_single_dist(args):\n",
    "    d, testChr = args\n",
    "    opt = nlopt.opt(nlopt.LN_NELDERMEAD,1)\n",
    "    opt.set_lower_bounds([0.0001])\n",
    "    opt.set_upper_bounds([0.1])\n",
    "    startPoint = [0.001]\n",
    "    opt.set_max_objective(lambda x, grad: single_dist_obj_fun(x,testChr))\n",
    "    res = opt.optimize(startPoint)\n",
    "    return(res[0])"
   ]
  },
  {
   "cell_type": "code",
   "execution_count": null,
   "id": "closed-student",
   "metadata": {},
   "outputs": [],
   "source": []
  },
  {
   "cell_type": "code",
   "execution_count": 8,
   "id": "surprising-finance",
   "metadata": {},
   "outputs": [],
   "source": [
    "def calc_single_dist(x,rbp,g,L):\n",
    "    d,h0,h1,h2,th = x\n",
    "    \n",
    "    r = rbp*(d+2*(g/rbp)*L*(1 - exp(-d/L)))\n",
    "    \n",
    "    calcH0 =(18+13*r + r**2 + 36*th + 22*th**2 + 4*th**3 + r*(6*th+th**2))/((1+th)*(18+13*r+r**2+54*th + 40*th**2+8*th**3+r*(r*th+19*th+6*th**2)))\n",
    "    calcH2 = (th**2*(36+14*r+r**2+36*th+6*th*r+8*th**2))/((1+th)*(18+13*r+r**2+54*th + 40*th**2+8*th**3+r*(r*th+19*th+6*th**2)))\n",
    "    calcH1 = 1 - calcH0 - calcH2\n",
    "    \n",
    "    val = h0*log(calcH0) + h1*log(calcH1)+h2*log(calcH2)\n",
    "    return(val)"
   ]
  },
  {
   "cell_type": "code",
   "execution_count": 9,
   "id": "contained-sacramento",
   "metadata": {},
   "outputs": [],
   "source": [
    "def single_chr_obj_fun(x_,arr):\n",
    "    rbp, g, L = x_\n",
    "    test = np.apply_along_axis(lambda x: calc_single_dist(x,rbp,g,L),1,arr)\n",
    "    obfun = np.sum(test)\n",
    "    #test = [calc_single_dist(x,rbp,g,L) for x in arr]\n",
    "    #obfun = sum(test)\n",
    "    return(obfun)"
   ]
  },
  {
   "cell_type": "code",
   "execution_count": 10,
   "id": "massive-genome",
   "metadata": {},
   "outputs": [],
   "source": [
    "def across_chr_obj_fun(x,dfArrList,numChrs):\n",
    "    \n",
    "    rList = x[0:numChrs]\n",
    "    gList = x[numChrs:numChrs+numChrs]\n",
    "    L = x[-1]\n",
    "    \n",
    "    obFun = sum([single_chr_obj_fun([rs,gs,L],arr) for (rs,gs,arr) in list(zip(rList,gList,dfArrList))])\n",
    "    \n",
    "    return(obFun)"
   ]
  },
  {
   "cell_type": "code",
   "execution_count": 11,
   "id": "portable-immune",
   "metadata": {},
   "outputs": [],
   "source": [
    "def find_max_like_single_ind(rep):\n",
    "    \n",
    "    numberChromsomes = 19\n",
    "    dfListAuto = [x.iloc[:,[0,4,5,6,11]].to_numpy() for x in dfListAuto]\n",
    "\n",
    "    lowerBounds = [0.0001 for x in range(numberChromsomes)]+ [0.0001 for x in range(numberChromsomes)]+[10]\n",
    "    upperBounds = [0.1 for x in range(numberChromsomes)]+[0.1 for x in range(numberChromsomes)]+[2000]\n",
    "    startPoints = [0.001 for x in range(numberChromsomes)]+[0.001 for x in range(numberChromsomes)]+[50]\n",
    "\n",
    "\n",
    "    opt=nlopt.opt(nlopt.LN_NELDERMEAD,numberChromsomes+numberChromsomes+1)\n",
    "\n",
    "    opt.set_lower_bounds(lowerBounds)\n",
    "    opt.set_upper_bounds(upperBounds)\n",
    "\n",
    "    opt.set_max_objective(lambda x,grad: across_chr_obj_fun(x,dfListAuto,numberChromsomes))\n",
    "\n",
    "    res = opt.optimize(startPoints)\n",
    "    return(res)"
   ]
  },
  {
   "cell_type": "code",
   "execution_count": 37,
   "id": "logical-slovak",
   "metadata": {},
   "outputs": [],
   "source": [
    "def find_max_like_group_ind(numberChromosomes):\n",
    "    autoNames = ['chr1', 'chr2', 'chr3', 'chr4', 'chr5', 'chr6', 'chr7', 'chr8',\n",
    "       'chr9', 'chr10', 'chr11', 'chr12', 'chr13', 'chr14', 'chr15',\n",
    "       'chr16', 'chr17', 'chr18', 'chr19']\n",
    "    dfListAuto = [ df.loc[(df['chrom']== x) & (df['distances']>=100)] for x in autoNames[0:numberChromosomes]]\n",
    "    dfListAuto = [combine_across_individuals(x) for x in dfListAuto]\n",
    "\n",
    "    lowerBounds = [0.0001 for x in range(numberChromosomes)]+ [0.0001 for x in range(numberChromosomes)]+[10]\n",
    "    upperBounds = [0.1 for x in range(numberChromosomes)]+[0.1 for x in range(numberChromosomes)]+[2000]\n",
    "    startPoints = [0.001 for x in range(numberChromosomes)]+[0.001 for x in range(numberChromosomes)]+[50]\n",
    "\n",
    "\n",
    "    opt=nlopt.opt(nlopt.LN_NELDERMEAD,numberChromosomes+numberChromosomes+1)\n",
    "\n",
    "    opt.set_lower_bounds(lowerBounds)\n",
    "    opt.set_upper_bounds(upperBounds)\n",
    "\n",
    "    opt.set_max_objective(lambda x,grad: across_chr_obj_fun(x,dfListAuto,numberChromosomes))\n",
    "\n",
    "    res = opt.optimize(startPoints)\n",
    "    return(res)"
   ]
  },
  {
   "cell_type": "code",
   "execution_count": 13,
   "id": "protected-petersburg",
   "metadata": {},
   "outputs": [],
   "source": [
    "def combine_across_individuals(thisDF):\n",
    "    test = thisDF\n",
    "    numSamples = len(test['name'].unique())\n",
    "    test = test.groupby(['distances'],as_index=False).sum()\n",
    "    test['H'] = test['H']/numSamples\n",
    "    return(test.iloc[:,[0,1,2,3,7]].to_numpy())\n",
    "    #return(test.iloc[:,[0,4,5,6,11]].to_numpy())\n",
    "    #return( test.iloc[:,[0,4,5,6,11]].to_numpy() )"
   ]
  },
  {
   "cell_type": "code",
   "execution_count": 14,
   "id": "forty-alpha",
   "metadata": {
    "scrolled": true
   },
   "outputs": [],
   "source": [
    "df = pd.read_csv('mathematicaInputMice_unbinned.tsv',delimiter='\\t')"
   ]
  },
  {
   "cell_type": "code",
   "execution_count": 15,
   "id": "everyday-voluntary",
   "metadata": {},
   "outputs": [
    {
     "data": {
      "text/html": [
       "<div>\n",
       "<style scoped>\n",
       "    .dataframe tbody tr th:only-of-type {\n",
       "        vertical-align: middle;\n",
       "    }\n",
       "\n",
       "    .dataframe tbody tr th {\n",
       "        vertical-align: top;\n",
       "    }\n",
       "\n",
       "    .dataframe thead th {\n",
       "        text-align: right;\n",
       "    }\n",
       "</style>\n",
       "<table border=\"1\" class=\"dataframe\">\n",
       "  <thead>\n",
       "    <tr style=\"text-align: right;\">\n",
       "      <th></th>\n",
       "      <th>name</th>\n",
       "      <th>chrom</th>\n",
       "      <th>distances</th>\n",
       "      <th>no_het_bins</th>\n",
       "      <th>one_het_bins</th>\n",
       "      <th>two_het_bins</th>\n",
       "      <th>H0Prop</th>\n",
       "      <th>H1Prop</th>\n",
       "      <th>H2Prop</th>\n",
       "      <th>H</th>\n",
       "    </tr>\n",
       "  </thead>\n",
       "  <tbody>\n",
       "    <tr>\n",
       "      <th>0</th>\n",
       "      <td>H12</td>\n",
       "      <td>chr1</td>\n",
       "      <td>1</td>\n",
       "      <td>62864864</td>\n",
       "      <td>844714.0</td>\n",
       "      <td>13604</td>\n",
       "      <td>0.986531</td>\n",
       "      <td>0.013256</td>\n",
       "      <td>0.000213</td>\n",
       "      <td>0.006841</td>\n",
       "    </tr>\n",
       "    <tr>\n",
       "      <th>1</th>\n",
       "      <td>H12</td>\n",
       "      <td>chr1</td>\n",
       "      <td>2</td>\n",
       "      <td>62850711</td>\n",
       "      <td>854466.0</td>\n",
       "      <td>8706</td>\n",
       "      <td>0.986452</td>\n",
       "      <td>0.013411</td>\n",
       "      <td>0.000137</td>\n",
       "      <td>0.006842</td>\n",
       "    </tr>\n",
       "    <tr>\n",
       "      <th>2</th>\n",
       "      <td>H12</td>\n",
       "      <td>chr1</td>\n",
       "      <td>3</td>\n",
       "      <td>62840557</td>\n",
       "      <td>856190.0</td>\n",
       "      <td>7807</td>\n",
       "      <td>0.986437</td>\n",
       "      <td>0.013440</td>\n",
       "      <td>0.000123</td>\n",
       "      <td>0.006843</td>\n",
       "    </tr>\n",
       "    <tr>\n",
       "      <th>3</th>\n",
       "      <td>H12</td>\n",
       "      <td>chr1</td>\n",
       "      <td>4</td>\n",
       "      <td>62831402</td>\n",
       "      <td>855898.0</td>\n",
       "      <td>7907</td>\n",
       "      <td>0.986438</td>\n",
       "      <td>0.013437</td>\n",
       "      <td>0.000124</td>\n",
       "      <td>0.006843</td>\n",
       "    </tr>\n",
       "    <tr>\n",
       "      <th>4</th>\n",
       "      <td>H12</td>\n",
       "      <td>chr1</td>\n",
       "      <td>5</td>\n",
       "      <td>62821707</td>\n",
       "      <td>856675.0</td>\n",
       "      <td>7467</td>\n",
       "      <td>0.986431</td>\n",
       "      <td>0.013452</td>\n",
       "      <td>0.000117</td>\n",
       "      <td>0.006843</td>\n",
       "    </tr>\n",
       "    <tr>\n",
       "      <th>...</th>\n",
       "      <td>...</td>\n",
       "      <td>...</td>\n",
       "      <td>...</td>\n",
       "      <td>...</td>\n",
       "      <td>...</td>\n",
       "      <td>...</td>\n",
       "      <td>...</td>\n",
       "      <td>...</td>\n",
       "      <td>...</td>\n",
       "      <td>...</td>\n",
       "    </tr>\n",
       "    <tr>\n",
       "      <th>199995</th>\n",
       "      <td>H36</td>\n",
       "      <td>chrX</td>\n",
       "      <td>996</td>\n",
       "      <td>33330821</td>\n",
       "      <td>249597.0</td>\n",
       "      <td>673</td>\n",
       "      <td>0.992547</td>\n",
       "      <td>0.007433</td>\n",
       "      <td>0.000020</td>\n",
       "      <td>0.003736</td>\n",
       "    </tr>\n",
       "    <tr>\n",
       "      <th>199996</th>\n",
       "      <td>H36</td>\n",
       "      <td>chrX</td>\n",
       "      <td>997</td>\n",
       "      <td>33326448</td>\n",
       "      <td>249349.0</td>\n",
       "      <td>779</td>\n",
       "      <td>0.992551</td>\n",
       "      <td>0.007426</td>\n",
       "      <td>0.000023</td>\n",
       "      <td>0.003736</td>\n",
       "    </tr>\n",
       "    <tr>\n",
       "      <th>199997</th>\n",
       "      <td>H36</td>\n",
       "      <td>chrX</td>\n",
       "      <td>998</td>\n",
       "      <td>33321896</td>\n",
       "      <td>249468.0</td>\n",
       "      <td>706</td>\n",
       "      <td>0.992548</td>\n",
       "      <td>0.007431</td>\n",
       "      <td>0.000021</td>\n",
       "      <td>0.003736</td>\n",
       "    </tr>\n",
       "    <tr>\n",
       "      <th>199998</th>\n",
       "      <td>H36</td>\n",
       "      <td>chrX</td>\n",
       "      <td>999</td>\n",
       "      <td>33317379</td>\n",
       "      <td>249504.0</td>\n",
       "      <td>668</td>\n",
       "      <td>0.992547</td>\n",
       "      <td>0.007433</td>\n",
       "      <td>0.000020</td>\n",
       "      <td>0.003736</td>\n",
       "    </tr>\n",
       "    <tr>\n",
       "      <th>199999</th>\n",
       "      <td>H36</td>\n",
       "      <td>chrX</td>\n",
       "      <td>1000</td>\n",
       "      <td>33312857</td>\n",
       "      <td>249551.0</td>\n",
       "      <td>625</td>\n",
       "      <td>0.992546</td>\n",
       "      <td>0.007435</td>\n",
       "      <td>0.000019</td>\n",
       "      <td>0.003736</td>\n",
       "    </tr>\n",
       "  </tbody>\n",
       "</table>\n",
       "<p>200000 rows × 10 columns</p>\n",
       "</div>"
      ],
      "text/plain": [
       "       name chrom  distances  no_het_bins  one_het_bins  two_het_bins  \\\n",
       "0       H12  chr1          1     62864864      844714.0         13604   \n",
       "1       H12  chr1          2     62850711      854466.0          8706   \n",
       "2       H12  chr1          3     62840557      856190.0          7807   \n",
       "3       H12  chr1          4     62831402      855898.0          7907   \n",
       "4       H12  chr1          5     62821707      856675.0          7467   \n",
       "...     ...   ...        ...          ...           ...           ...   \n",
       "199995  H36  chrX        996     33330821      249597.0           673   \n",
       "199996  H36  chrX        997     33326448      249349.0           779   \n",
       "199997  H36  chrX        998     33321896      249468.0           706   \n",
       "199998  H36  chrX        999     33317379      249504.0           668   \n",
       "199999  H36  chrX       1000     33312857      249551.0           625   \n",
       "\n",
       "          H0Prop    H1Prop    H2Prop         H  \n",
       "0       0.986531  0.013256  0.000213  0.006841  \n",
       "1       0.986452  0.013411  0.000137  0.006842  \n",
       "2       0.986437  0.013440  0.000123  0.006843  \n",
       "3       0.986438  0.013437  0.000124  0.006843  \n",
       "4       0.986431  0.013452  0.000117  0.006843  \n",
       "...          ...       ...       ...       ...  \n",
       "199995  0.992547  0.007433  0.000020  0.003736  \n",
       "199996  0.992551  0.007426  0.000023  0.003736  \n",
       "199997  0.992548  0.007431  0.000021  0.003736  \n",
       "199998  0.992547  0.007433  0.000020  0.003736  \n",
       "199999  0.992546  0.007435  0.000019  0.003736  \n",
       "\n",
       "[200000 rows x 10 columns]"
      ]
     },
     "execution_count": 15,
     "metadata": {},
     "output_type": "execute_result"
    }
   ],
   "source": [
    "df"
   ]
  },
  {
   "cell_type": "code",
   "execution_count": 38,
   "id": "square-decision",
   "metadata": {},
   "outputs": [
    {
     "data": {
      "text/plain": [
       "array([1.45756486e-03, 1.80727905e-03, 1.86536342e-03, 1.61298296e-03,\n",
       "       1.94717866e-03, 1.70580009e-03, 1.67423386e-03, 2.31523980e-03,\n",
       "       1.73683272e-03, 1.96466475e-03, 1.74678502e-03, 1.75203665e-03,\n",
       "       1.89861553e-03, 1.92549761e-03, 1.60604398e-03, 1.85130817e-03,\n",
       "       1.80849818e-03, 2.12148690e-03, 2.68619142e-03, 2.35996959e-03,\n",
       "       3.42621318e-03, 3.54233560e-03, 2.25109243e-03, 3.10200520e-03,\n",
       "       2.71860563e-03, 2.62167771e-03, 3.79240230e-03, 3.59860030e-03,\n",
       "       3.95571965e-03, 2.79145592e-03, 3.58232934e-03, 4.43149452e-03,\n",
       "       3.99285140e-03, 2.11168309e-03, 3.80296933e-03, 2.92979399e-03,\n",
       "       2.57933143e-03, 4.60506687e-03, 1.08399686e+02])"
      ]
     },
     "execution_count": 38,
     "metadata": {},
     "output_type": "execute_result"
    }
   ],
   "source": [
    "coEstimatesAutosomes = find_max_like_group_ind(19)\n",
    "coEstimatesAutosomes"
   ]
  },
  {
   "cell_type": "code",
   "execution_count": 1,
   "id": "square-correction",
   "metadata": {},
   "outputs": [],
   "source": [
    "res = [1.45756486e-03, 1.80727905e-03, 1.86536342e-03, 1.61298296e-03,\n",
    "       1.94717866e-03, 1.70580009e-03, 1.67423386e-03, 2.31523980e-03,\n",
    "       1.73683272e-03, 1.96466475e-03, 1.74678502e-03, 1.75203665e-03,\n",
    "       1.89861553e-03, 1.92549761e-03, 1.60604398e-03, 1.85130817e-03,\n",
    "       1.80849818e-03, 2.12148690e-03, 2.68619142e-03, 2.35996959e-03,\n",
    "       3.42621318e-03, 3.54233560e-03, 2.25109243e-03, 3.10200520e-03,\n",
    "       2.71860563e-03, 2.62167771e-03, 3.79240230e-03, 3.59860030e-03,\n",
    "       3.95571965e-03, 2.79145592e-03, 3.58232934e-03, 4.43149452e-03,\n",
    "       3.99285140e-03, 2.11168309e-03, 3.80296933e-03, 2.92979399e-03,\n",
    "       2.57933143e-03, 4.60506687e-03, 1.08399686e+02]"
   ]
  },
  {
   "cell_type": "code",
   "execution_count": 3,
   "id": "exceptional-bleeding",
   "metadata": {},
   "outputs": [
    {
     "name": "stdout",
     "output_type": "stream",
     "text": [
      "[0.00145756486, 0.00180727905, 0.00186536342, 0.00161298296, 0.00194717866, 0.00170580009, 0.00167423386, 0.0023152398, 0.00173683272, 0.00196466475, 0.00174678502, 0.00175203665, 0.00189861553, 0.00192549761, 0.00160604398, 0.00185130817, 0.00180849818, 0.0021214869, 0.00268619142]\n"
     ]
    }
   ],
   "source": [
    "print(res[0:19])"
   ]
  },
  {
   "cell_type": "code",
   "execution_count": 4,
   "id": "activated-deadline",
   "metadata": {},
   "outputs": [
    {
     "name": "stdout",
     "output_type": "stream",
     "text": [
      "[0.00235996959, 0.00342621318, 0.0035423356, 0.00225109243, 0.0031020052, 0.00271860563, 0.00262167771, 0.0037924023, 0.0035986003, 0.00395571965, 0.00279145592, 0.00358232934, 0.00443149452, 0.0039928514, 0.00211168309, 0.00380296933, 0.00292979399, 0.00257933143, 0.00460506687]\n"
     ]
    }
   ],
   "source": [
    "print(res[19:19*2])"
   ]
  },
  {
   "cell_type": "code",
   "execution_count": 5,
   "id": "electric-ballet",
   "metadata": {},
   "outputs": [
    {
     "name": "stdout",
     "output_type": "stream",
     "text": [
      "108.399686\n"
     ]
    }
   ],
   "source": [
    "print(res[-1])"
   ]
  },
  {
   "cell_type": "code",
   "execution_count": 9,
   "id": "previous-thong",
   "metadata": {},
   "outputs": [
    {
     "data": {
      "image/png": "[encoded data removed]",
      "text/plain": [
       "<Figure size 432x288 with 1 Axes>"
      ]
     },
     "metadata": {
      "needs_background": "light"
     },
     "output_type": "display_data"
    }
   ],
   "source": [
    "plt.plot(res[0:19])\n",
    "plt.plot(res[19:19*2])\n",
    "plt.show()"
   ]
  },
  {
   "cell_type": "code",
   "execution_count": null,
   "id": "descending-patrick",
   "metadata": {},
   "outputs": [],
   "source": []
  }
 ],
 "metadata": {
  "kernelspec": {
   "display_name": "Python 3",
   "language": "python",
   "name": "python3"
  },
  "language_info": {
   "codemirror_mode": {
    "name": "ipython",
    "version": 3
   },
   "file_extension": ".py",
   "mimetype": "text/x-python",
   "name": "python",
   "nbconvert_exporter": "python",
   "pygments_lexer": "ipython3",
   "version": "3.7.9"
  }
 },
 "nbformat": 4,
 "nbformat_minor": 5
}
