{
 "cells": [
  {
   "cell_type": "code",
   "execution_count": 1,
   "id": "641bf337",
   "metadata": {},
   "outputs": [],
   "source": [
    "import numpy as np\n",
    "import nlopt\n",
    "import pandas as pd\n",
    "from math import log, exp\n",
    "from multiprocessing import Pool, cpu_count\n",
    "import time\n",
    "import matplotlib.pyplot as plt\n",
    "%matplotlib inline"
   ]
  },
  {
   "cell_type": "markdown",
   "id": "f19957f7",
   "metadata": {},
   "source": [
    "# Importing the data and defining plotting options"
   ]
  },
  {
   "cell_type": "markdown",
   "id": "00ad6507",
   "metadata": {},
   "source": [
    "#### The data should be formatted as per the following table (indexing excluded). That is, tab-separated with column names as shown below and in the example input data file. \n",
    "\n",
    "Entries in 'sample_name' and 'chromosome' may be strings. The example input data file which we import as a pandas dataframe contains H counts for chromosomes 1 and 2 for the 10 individuals included in the *M. m. castaneus* dataset:"
   ]
  },
  {
   "cell_type": "code",
   "execution_count": 5,
   "id": "86dfeedc",
   "metadata": {},
   "outputs": [
    {
     "name": "stdout",
     "output_type": "stream",
     "text": [
      " barcodes_040319_NJ.nwk\r\n",
      " busco_grey.svg\r\n",
      " busco.pdf\r\n",
      " busco.png\r\n",
      " busco.svg\r\n",
      "'Copy of Supplementary_Table_S5.xlsx'\r\n",
      " course\r\n",
      " degust2counts.csv\r\n",
      " divergence\r\n",
      " farrago\r\n",
      " gene_conversion_tool\r\n",
      " gimble\r\n",
      " gonepteryx_cleopatra.covs.tsv\r\n",
      " gonepteryx_rhamni.covs.tsv\r\n",
      " gonepteryx.vs.cleopatra.trimmed.vcf\r\n",
      " gonepteryx.vs.rhamni.trimmed.vcf\r\n",
      " GR_136.GC_12.vs.cleopatra.loci.metrics.txt\r\n",
      " GR_136.GC_12.vs.cleopatra.total.metrics.txt\r\n",
      " herho\r\n",
      " Hupfauf_Datenmatrix.xlsx\r\n",
      " inat\r\n",
      " jarrod_statscourse\r\n",
      " keras\r\n",
      " keylimepy\r\n",
      "'Liv Now gene expression.ipynb'\r\n",
      " orthodiver_edit\r\n",
      " Orthogroups.GeneCount.csv\r\n",
      "'OTU analysis.ipynb'\r\n",
      " otu_table.txt\r\n",
      " PGA\r\n",
      " results_1\r\n",
      " results_2\r\n",
      " results_3\r\n",
      " rnaplots.ipynb\r\n",
      "'RNAseq results spreadsheet - Assemblies.csv'\r\n",
      "'RNAseq results spreadsheet - Reads.csv'\r\n",
      " samparse_backup.py\r\n",
      " SBGE_dataset_scripting\r\n",
      " sleuth\r\n",
      " temp\r\n",
      " test_data_herho\r\n",
      "'Toxoplasma protein vaccine candidate dataset.ipynb'\r\n",
      "'Transcriptomes - Sheet1.csv'\r\n",
      " Untitled1.ipynb\r\n",
      " Untitled.ipynb\r\n"
     ]
    }
   ],
   "source": [
    "!ls ../../"
   ]
  },
  {
   "cell_type": "code",
   "execution_count": 21,
   "id": "5281526f",
   "metadata": {},
   "outputs": [
    {
     "data": {
      "text/html": [
       "<div>\n",
       "<style scoped>\n",
       "    .dataframe tbody tr th:only-of-type {\n",
       "        vertical-align: middle;\n",
       "    }\n",
       "\n",
       "    .dataframe tbody tr th {\n",
       "        vertical-align: top;\n",
       "    }\n",
       "\n",
       "    .dataframe thead th {\n",
       "        text-align: right;\n",
       "    }\n",
       "</style>\n",
       "<table border=\"1\" class=\"dataframe\">\n",
       "  <thead>\n",
       "    <tr style=\"text-align: right;\">\n",
       "      <th></th>\n",
       "      <th>sample_name</th>\n",
       "      <th>chromosome</th>\n",
       "      <th>distance</th>\n",
       "      <th>H0</th>\n",
       "      <th>H1</th>\n",
       "      <th>H2</th>\n",
       "      <th>theta</th>\n",
       "    </tr>\n",
       "  </thead>\n",
       "  <tbody>\n",
       "    <tr>\n",
       "      <th>0</th>\n",
       "      <td>IP_502</td>\n",
       "      <td>iphiclides_podalirius.IP_504.chromosome_5</td>\n",
       "      <td>1</td>\n",
       "      <td>15154483</td>\n",
       "      <td>187536</td>\n",
       "      <td>3772</td>\n",
       "      <td>0.006356</td>\n",
       "    </tr>\n",
       "    <tr>\n",
       "      <th>1</th>\n",
       "      <td>IP_502</td>\n",
       "      <td>iphiclides_podalirius.IP_504.chromosome_5</td>\n",
       "      <td>2</td>\n",
       "      <td>15153271</td>\n",
       "      <td>189958</td>\n",
       "      <td>2561</td>\n",
       "      <td>0.006356</td>\n",
       "    </tr>\n",
       "    <tr>\n",
       "      <th>2</th>\n",
       "      <td>IP_502</td>\n",
       "      <td>iphiclides_podalirius.IP_504.chromosome_5</td>\n",
       "      <td>3</td>\n",
       "      <td>15153070</td>\n",
       "      <td>190358</td>\n",
       "      <td>2361</td>\n",
       "      <td>0.006356</td>\n",
       "    </tr>\n",
       "    <tr>\n",
       "      <th>3</th>\n",
       "      <td>IP_502</td>\n",
       "      <td>iphiclides_podalirius.IP_504.chromosome_5</td>\n",
       "      <td>4</td>\n",
       "      <td>15152810</td>\n",
       "      <td>190876</td>\n",
       "      <td>2102</td>\n",
       "      <td>0.006356</td>\n",
       "    </tr>\n",
       "    <tr>\n",
       "      <th>4</th>\n",
       "      <td>IP_502</td>\n",
       "      <td>iphiclides_podalirius.IP_504.chromosome_5</td>\n",
       "      <td>5</td>\n",
       "      <td>15152831</td>\n",
       "      <td>190832</td>\n",
       "      <td>2124</td>\n",
       "      <td>0.006356</td>\n",
       "    </tr>\n",
       "    <tr>\n",
       "      <th>...</th>\n",
       "      <td>...</td>\n",
       "      <td>...</td>\n",
       "      <td>...</td>\n",
       "      <td>...</td>\n",
       "      <td>...</td>\n",
       "      <td>...</td>\n",
       "      <td>...</td>\n",
       "    </tr>\n",
       "    <tr>\n",
       "      <th>4995</th>\n",
       "      <td>IP_502</td>\n",
       "      <td>iphiclides_podalirius.IP_504.chromosome_5</td>\n",
       "      <td>4996</td>\n",
       "      <td>15146697</td>\n",
       "      <td>193118</td>\n",
       "      <td>981</td>\n",
       "      <td>0.006358</td>\n",
       "    </tr>\n",
       "    <tr>\n",
       "      <th>4996</th>\n",
       "      <td>IP_502</td>\n",
       "      <td>iphiclides_podalirius.IP_504.chromosome_5</td>\n",
       "      <td>4997</td>\n",
       "      <td>15146691</td>\n",
       "      <td>193128</td>\n",
       "      <td>976</td>\n",
       "      <td>0.006358</td>\n",
       "    </tr>\n",
       "    <tr>\n",
       "      <th>4997</th>\n",
       "      <td>IP_502</td>\n",
       "      <td>iphiclides_podalirius.IP_504.chromosome_5</td>\n",
       "      <td>4998</td>\n",
       "      <td>15146725</td>\n",
       "      <td>193058</td>\n",
       "      <td>1011</td>\n",
       "      <td>0.006358</td>\n",
       "    </tr>\n",
       "    <tr>\n",
       "      <th>4998</th>\n",
       "      <td>IP_502</td>\n",
       "      <td>iphiclides_podalirius.IP_504.chromosome_5</td>\n",
       "      <td>4999</td>\n",
       "      <td>15146626</td>\n",
       "      <td>193254</td>\n",
       "      <td>913</td>\n",
       "      <td>0.006358</td>\n",
       "    </tr>\n",
       "    <tr>\n",
       "      <th>4999</th>\n",
       "      <td>IP_502</td>\n",
       "      <td>iphiclides_podalirius.IP_504.chromosome_5</td>\n",
       "      <td>5000</td>\n",
       "      <td>15146667</td>\n",
       "      <td>193170</td>\n",
       "      <td>955</td>\n",
       "      <td>0.006358</td>\n",
       "    </tr>\n",
       "  </tbody>\n",
       "</table>\n",
       "<p>5000 rows × 7 columns</p>\n",
       "</div>"
      ],
      "text/plain": [
       "     sample_name                                 chromosome  distance  \\\n",
       "0         IP_502  iphiclides_podalirius.IP_504.chromosome_5         1   \n",
       "1         IP_502  iphiclides_podalirius.IP_504.chromosome_5         2   \n",
       "2         IP_502  iphiclides_podalirius.IP_504.chromosome_5         3   \n",
       "3         IP_502  iphiclides_podalirius.IP_504.chromosome_5         4   \n",
       "4         IP_502  iphiclides_podalirius.IP_504.chromosome_5         5   \n",
       "...          ...                                        ...       ...   \n",
       "4995      IP_502  iphiclides_podalirius.IP_504.chromosome_5      4996   \n",
       "4996      IP_502  iphiclides_podalirius.IP_504.chromosome_5      4997   \n",
       "4997      IP_502  iphiclides_podalirius.IP_504.chromosome_5      4998   \n",
       "4998      IP_502  iphiclides_podalirius.IP_504.chromosome_5      4999   \n",
       "4999      IP_502  iphiclides_podalirius.IP_504.chromosome_5      5000   \n",
       "\n",
       "            H0      H1    H2     theta  \n",
       "0     15154483  187536  3772  0.006356  \n",
       "1     15153271  189958  2561  0.006356  \n",
       "2     15153070  190358  2361  0.006356  \n",
       "3     15152810  190876  2102  0.006356  \n",
       "4     15152831  190832  2124  0.006356  \n",
       "...        ...     ...   ...       ...  \n",
       "4995  15146697  193118   981  0.006358  \n",
       "4996  15146691  193128   976  0.006358  \n",
       "4997  15146725  193058  1011  0.006358  \n",
       "4998  15146626  193254   913  0.006358  \n",
       "4999  15146667  193170   955  0.006358  \n",
       "\n",
       "[5000 rows x 7 columns]"
      ]
     },
     "execution_count": 21,
     "metadata": {},
     "output_type": "execute_result"
    }
   ],
   "source": [
    "df = pd.read_csv('../../test_data_herho/heRho_tally_per_chromosome.tsv',delimiter='\\t')\n",
    "df"
   ]
  },
  {
   "cell_type": "code",
   "execution_count": 22,
   "id": "732a1579",
   "metadata": {},
   "outputs": [
    {
     "name": "stdout",
     "output_type": "stream",
     "text": [
      "['iphiclides_podalirius.IP_504.chromosome_5']\n"
     ]
    }
   ],
   "source": [
    "chrNames = df['chromosome'].unique()\n",
    "print(chrNames)\n",
    "numChrs = len(chrNames)"
   ]
  },
  {
   "cell_type": "code",
   "execution_count": 23,
   "id": "047c4c4c",
   "metadata": {},
   "outputs": [],
   "source": [
    "## formatting choices for plots below ##\n",
    "plt.rcParams[\"axes.prop_cycle\"] = plt.cycler(\"color\", plt.cm.viridis(list(np.linspace(0,1,numChrs))))\n",
    "font = {'family' : 'Arial',\n",
    "        'weight' : 'bold',\n",
    "        'size'   : 13}\n",
    "fontLabel = {'family' : 'Arial',\n",
    "        'weight' : 'bold',\n",
    "        'size'   : 14}\n",
    "\n",
    "plt.rc('font', **font)"
   ]
  },
  {
   "cell_type": "markdown",
   "id": "7b1d56ed",
   "metadata": {},
   "source": [
    "# Formatting the data\n",
    "Note that 'combine_chr_across_individuals()' is needed even for a sample of 1 to format the data correctly"
   ]
  },
  {
   "cell_type": "code",
   "execution_count": 24,
   "id": "6b348a5d",
   "metadata": {},
   "outputs": [],
   "source": [
    "# thisDF data frame is for a single chromosome only\n",
    "def combine_chr_across_individuals(thisDF):\n",
    "    test = thisDF\n",
    "    numSamples = len(test['sample_name'].unique())\n",
    "    test = test.groupby(['distance'],as_index=False).sum()\n",
    "    test['theta'] = test['theta']/numSamples\n",
    "    test = test.to_numpy()\n",
    "    return(test)"
   ]
  },
  {
   "cell_type": "markdown",
   "id": "6fb51b3e",
   "metadata": {},
   "source": [
    "#### We will pool data for each chromosome across the 10 individuals included in the example data set:"
   ]
  },
  {
   "cell_type": "code",
   "execution_count": 25,
   "id": "5b4503e9",
   "metadata": {},
   "outputs": [],
   "source": [
    "pooledDataByChr = [\n",
    "    combine_chr_across_individuals( df.loc[(df[\"chromosome\"]==cName)] ) for cName in chrNames]"
   ]
  },
  {
   "cell_type": "markdown",
   "id": "49578285",
   "metadata": {},
   "source": [
    "#### Note that we can also do this for a single individual, in the folowing example, we only take the 'H30' individual's data "
   ]
  },
  {
   "cell_type": "code",
   "execution_count": 183,
   "id": "372893b0",
   "metadata": {},
   "outputs": [],
   "source": [
    "# pooledDataByChr = [\n",
    "#     combine_chr_across_individuals( df.loc[(df[\"chromosome\"]==cName) & (df[\"name\"]=='H30')]) for cName in chrNames]\n",
    "# pooledDataByChr"
   ]
  },
  {
   "cell_type": "markdown",
   "id": "55cf2291",
   "metadata": {},
   "source": [
    "# Single-distance $\\rho$ estimates for each chromosome\n",
    "\n",
    "Single_dist_obj_fun(): calculates the single-parameter $\\rho$/bp using het counts for a given distance $d$ between sites and recombination rate $r$ being tested by optimizer.\n",
    "\n",
    "find_max_like_single_dist(): initiates and runs optimization using the NLOPT library.\n",
    "\n",
    "rho_by_distance(): for a single chromosome; estimates (in parallel) $\\rho$/bp for each distance $d$.\n",
    "\n",
    "NOTE: The boundaries and start point for the optimization can and should be changed to reflect parameters reasonable for the data set."
   ]
  },
  {
   "cell_type": "code",
   "execution_count": 26,
   "id": "605ef79b",
   "metadata": {},
   "outputs": [],
   "source": [
    "def single_dist_obj_fun(r,x):\n",
    "    d,h0,h1,h2,th = x\n",
    "    r = r*(d)\n",
    "    calcH0 =(18+13*r + r**2 + 36*th + 22*th**2 + 4*th**3 + r*(6*th+th**2))/((1+th)*(18+13*r+r**2+54*th + 40*th**2+8*th**3+r*(r*th+19*th+6*th**2)))\n",
    "    calcH2 = (th**2*(36+14*r+r**2+36*th+6*th*r+8*th**2))/((1+th)*(18+13*r+r**2+54*th + 40*th**2+8*th**3+r*(r*th+19*th+6*th**2)))\n",
    "    calcH1 = 1 - calcH0 - calcH2\n",
    "    val = h0*log(calcH0) + h1*log(calcH1)+h2*log(calcH2)\n",
    "    return(val)\n",
    "    \n",
    "def find_max_like_single_dist(testDist):\n",
    "    opt = nlopt.opt(nlopt.LN_NELDERMEAD,1)\n",
    "    opt.set_lower_bounds([0.00001])\n",
    "    opt.set_upper_bounds([0.5])\n",
    "    startPoint = [0.001]\n",
    "    opt.set_max_objective(lambda x, grad: single_dist_obj_fun(x,testDist))\n",
    "    res = opt.optimize(startPoint)\n",
    "    return(res[0])\n",
    "\n",
    "def rho_by_distance(chrArr):\n",
    "    jobs = chrArr\n",
    "    with Pool(cpu_count()) as p:\n",
    "        single_dist_estimates = p.map(find_max_like_single_dist,jobs)\n",
    "    return(single_dist_estimates)"
   ]
  },
  {
   "cell_type": "markdown",
   "id": "4b31e415",
   "metadata": {},
   "source": [
    "#### For each chromosome, we estimate $\\rho$/bp across all distances $d$."
   ]
  },
  {
   "cell_type": "code",
   "execution_count": 27,
   "id": "55b77e86",
   "metadata": {},
   "outputs": [],
   "source": [
    "singleDistResByChr = [rho_by_distance(x) for x in pooledDataByChr]"
   ]
  },
  {
   "cell_type": "markdown",
   "id": "11c65ca6",
   "metadata": {},
   "source": [
    "Below, we plot the per-distance estimates for each chromosome. Results for chromosome 1 and are 2 are shown in purple and yellow respectively:"
   ]
  },
  {
   "cell_type": "code",
   "execution_count": 28,
   "id": "5e358155",
   "metadata": {},
   "outputs": [
    {
     "data": {
      "text/plain": [
       "[0.00017098267738300534]"
      ]
     },
     "execution_count": 28,
     "metadata": {},
     "output_type": "execute_result"
    }
   ],
   "source": [
    "[np.mean(chrom) for chrom in singleDistResByChr]"
   ]
  },
  {
   "cell_type": "code",
   "execution_count": 29,
   "id": "4ff3c8c1",
   "metadata": {
    "scrolled": true
   },
   "outputs": [
    {
     "data": {
      "image/png": "[encoded data removed]",
      "text/plain": [
       "<Figure size 432x288 with 1 Axes>"
      ]
     },
     "metadata": {
      "needs_background": "light"
     },
     "output_type": "display_data"
    }
   ],
   "source": [
    "plt.rcParams[\"axes.prop_cycle\"] = plt.cycler(\"color\", plt.cm.viridis(list(np.linspace(0,1,numChrs))))\n",
    "\n",
    "for cres in singleDistResByChr:\n",
    "    plt.plot(cres)\n",
    "    plt.xlabel(\"distance\",**fontLabel)\n",
    "    plt.ylabel(\"rho/bp\",**fontLabel)\n",
    "plt.show()"
   ]
  },
  {
   "cell_type": "markdown",
   "id": "010fcbe2",
   "metadata": {},
   "source": [
    "# Per-chromosome recombination rate estimates and the effect of minimum distance\n",
    "\n",
    "### Here, we are co-estimating the rates of recombination ($\\kappa$), gene conversion ($\\gamma$) and mean tract length $L$.\n",
    "\n",
    "single_chr_obj_fun(): for a given chromosome and test-values for rec paraemters, calculates the objective function when compositing the likelihood over all distances.\n",
    "\n",
    "calc_single_dist(): for a given chromosome, returns the likelihood of observing the data at a single distance under the full three-parameter recombination model."
   ]
  },
  {
   "cell_type": "code",
   "execution_count": 15,
   "id": "d4a73f66",
   "metadata": {},
   "outputs": [],
   "source": [
    "def single_chr_obj_fun(x_,arr):\n",
    "    rbp, g, L = x_\n",
    "    test = np.apply_along_axis(lambda x: calc_single_dist(x,rbp,g,L),1,arr)\n",
    "    obfun = np.sum(test)\n",
    "    #test = [calc_single_dist(x,rbp,g,L) for x in arr]\n",
    "    #obfun = sum(test)\n",
    "    return(obfun)\n",
    "\n",
    "def calc_single_dist(x,rbp,g,L):\n",
    "    d,h0,h1,h2,th = x\n",
    "    \n",
    "    r = rbp*(d+2*(g/rbp)*L*(1 - exp(-d/L)))\n",
    "    \n",
    "    calcH0 =(18+13*r + r**2 + 36*th + 22*th**2 + 4*th**3 + r*(6*th+th**2))/((1+th)*(18+13*r+r**2+54*th + 40*th**2+8*th**3+r*(r*th+19*th+6*th**2)))\n",
    "    calcH2 = (th**2*(36+14*r+r**2+36*th+6*th*r+8*th**2))/((1+th)*(18+13*r+r**2+54*th + 40*th**2+8*th**3+r*(r*th+19*th+6*th**2)))\n",
    "    calcH1 = 1 - calcH0 - calcH2\n",
    "    \n",
    "    val = h0*log(calcH0) + h1*log(calcH1)+h2*log(calcH2)\n",
    "    return(val)"
   ]
  },
  {
   "cell_type": "markdown",
   "id": "a523f8d7",
   "metadata": {},
   "source": [
    "#### heRho_estimate_one_chromosome\n",
    "This function takes the formatted data for a single chromosome and estimates the three recombination parameters using NLOPT.  \n",
    "\n",
    "note: bounds and start-points for optimization should be chosen appropriately for the data set at hand "
   ]
  },
  {
   "cell_type": "code",
   "execution_count": 16,
   "id": "59b77835",
   "metadata": {},
   "outputs": [],
   "source": [
    "def heRho_estimate_one_chromosome(cArr):  \n",
    "    test = cArr\n",
    "    lowerBounds = [ 0.0001, 0.0001,10]\n",
    "    upperBounds = [ 0.1, 0.1, 2000]\n",
    "    startPoints = [ 0.001, 0.001, 50]\n",
    "\n",
    "    opt=nlopt.opt(nlopt.LN_NELDERMEAD,3)\n",
    "\n",
    "    opt.set_lower_bounds(lowerBounds)\n",
    "    opt.set_upper_bounds(upperBounds)\n",
    "    opt.set_max_objective(lambda x,grad: single_chr_obj_fun(x,test))\n",
    "    res = opt.optimize(startPoints)\n",
    "    return([x for x in res])"
   ]
  },
  {
   "cell_type": "markdown",
   "id": "d10f9166",
   "metadata": {},
   "source": [
    "#### heRho_get_chr_min_dist_effect():\n",
    "\n",
    "Due to the noisiness of the data for small distances, we want to determine an appropriate minimum-distance cut-off for the data. This function takes a chromosome and list of minimum distances to test.   It returns the per-min-distance (kappa, gamma, L) estimates. \n",
    "\n",
    "Data from d<d_min is removed from the likelihood calculation in 'calc_chr_min_dist()'. "
   ]
  },
  {
   "cell_type": "code",
   "execution_count": 17,
   "id": "d769aa5e",
   "metadata": {},
   "outputs": [],
   "source": [
    "def heRho_get_chr_min_dist_effect(cArr,minDistList):\n",
    "    jobs = minDistList\n",
    "    jobs = [(cArr,x) for x in jobs]\n",
    "    with Pool(cpu_count()) as p:\n",
    "        estimateByMinDist=p.map(calc_chr_min_dist,jobs)\n",
    "    estimateByMinDist = np.transpose(np.asarray(estimateByMinDist))\n",
    "    return(estimateByMinDist)\n",
    "\n",
    "def calc_chr_min_dist(argv):\n",
    "    cArr,minDist = argv\n",
    "    test = cArr[ cArr[:,0]>=minDist]\n",
    "\n",
    "\n",
    "    lowerBounds = [ 0.0001, 0.0001,10]\n",
    "    upperBounds = [ 0.1, 0.1, 2000]\n",
    "    startPoints = [ 0.001, 0.001, 50]\n",
    "\n",
    "    opt=nlopt.opt(nlopt.LN_NELDERMEAD,3)\n",
    "\n",
    "    opt.set_lower_bounds(lowerBounds)\n",
    "    opt.set_upper_bounds(upperBounds)\n",
    "    opt.set_max_objective(lambda x,grad: single_chr_obj_fun(x,test))\n",
    "    res = opt.optimize(startPoints)\n",
    "    return([x for x in res])"
   ]
  },
  {
   "cell_type": "markdown",
   "id": "e966a7dc",
   "metadata": {},
   "source": [
    "### Co-estimating the rates of CO, GC and the GC tract length for a single chromosome\n",
    "\n",
    "Here, we estimate the  ($\\kappa$, $\\gamma$, $L$) for chromosome 1, using all distances available in the data set:"
   ]
  },
  {
   "cell_type": "code",
   "execution_count": 18,
   "id": "e2ac4310",
   "metadata": {},
   "outputs": [
    {
     "data": {
      "text/plain": [
       "[0.0001000000000000014, 0.0001, 10.0]"
      ]
     },
     "execution_count": 18,
     "metadata": {},
     "output_type": "execute_result"
    }
   ],
   "source": [
    "heRho_estimate_one_chromosome(pooledDataByChr[0])"
   ]
  },
  {
   "cell_type": "markdown",
   "id": "4f67d1a9",
   "metadata": {},
   "source": [
    "### Effect of min dist on single-chr estimates\n",
    "\n",
    "Here, we test the effect of the choice of minimum distance, $d_{min}$ on parameter estimates for each chromosome independently."
   ]
  },
  {
   "cell_type": "code",
   "execution_count": 19,
   "id": "fc48de34",
   "metadata": {},
   "outputs": [],
   "source": [
    "minDistVals = list(range(1,200,25))"
   ]
  },
  {
   "cell_type": "code",
   "execution_count": 20,
   "id": "73bb7308",
   "metadata": {},
   "outputs": [],
   "source": [
    "resMinDistEffect = [heRho_get_chr_min_dist_effect( x,minDistVals) for x in pooledDataByChr]"
   ]
  },
  {
   "cell_type": "markdown",
   "id": "26e4fef7",
   "metadata": {},
   "source": [
    "Plotting the effect of $d_{min}$ on parameter estimatesL"
   ]
  },
  {
   "cell_type": "code",
   "execution_count": 168,
   "id": "15f6edfc",
   "metadata": {},
   "outputs": [
    {
     "data": {
      "image/png": "[encoded data removed]",
      "text/plain": [
       "<Figure size 432x288 with 1 Axes>"
      ]
     },
     "metadata": {
      "needs_background": "light"
     },
     "output_type": "display_data"
    },
    {
     "data": {
      "image/png": "[encoded data removed]",
      "text/plain": [
       "<Figure size 432x288 with 1 Axes>"
      ]
     },
     "metadata": {
      "needs_background": "light"
     },
     "output_type": "display_data"
    },
    {
     "data": {
      "image/png": "[encoded data removed]",
      "text/plain": [
       "<Figure size 432x288 with 1 Axes>"
      ]
     },
     "metadata": {
      "needs_background": "light"
     },
     "output_type": "display_data"
    }
   ],
   "source": [
    "xvals = minDistVals\n",
    "\n",
    "xmax = minDistVals[-1]\n",
    "\n",
    "###\n",
    "fig = plt.figure()\n",
    "ax = fig.gca()\n",
    "for axis in ['top','bottom','left','right']:\n",
    "    ax.spines[axis].set_linewidth(2.0)\n",
    "plt.xlabel(\"minimum distance\",**fontLabel)\n",
    "plt.ylabel(\"kappa estimated\",**fontLabel)\n",
    "\n",
    "for cRes in resMinDistEffect:\n",
    "    plt.plot(xvals,cRes[0],linewidth=2)\n",
    "plt.plot([0,xmax],[0,0],color = 'k')\n",
    "plt.xlim([0,xmax])\n",
    "plt.show()\n",
    "\n",
    "###\n",
    "fig = plt.figure()\n",
    "ax = fig.gca()\n",
    "for axis in ['top','bottom','left','right']:\n",
    "    ax.spines[axis].set_linewidth(2.0)\n",
    "plt.xlabel(\"minimum distance\",**fontLabel)\n",
    "plt.ylabel(\"gamma estimated\",**fontLabel)\n",
    "\n",
    "for cRes in resMinDistEffect:\n",
    "    plt.plot(xvals,cRes[1],linewidth=2)\n",
    "plt.plot([0,xmax],[0,0],color = 'k')\n",
    "plt.xlim([0,xmax])\n",
    "plt.show()\n",
    "\n",
    "###\n",
    "fig = plt.figure()\n",
    "ax = fig.gca()\n",
    "for axis in ['top','bottom','left','right']:\n",
    "    ax.spines[axis].set_linewidth(2.0)\n",
    "plt.xlabel(\"minimum distance\",**fontLabel)\n",
    "plt.ylabel(\"L estimated\",**fontLabel)\n",
    "for cRes in resMinDistEffect:\n",
    "    plt.plot(xvals,cRes[2],linewidth=2)\n",
    "plt.plot([0,xmax],[0,0],color ='k')\n",
    "plt.xlim([0,xmax])\n",
    "plt.show()"
   ]
  },
  {
   "cell_type": "markdown",
   "id": "b8136883",
   "metadata": {},
   "source": [
    "# Co-estimating recombination across all chromosomes\n",
    "\n",
    "Here, we want to co-estimate a global mean gene conversion tract length parameter $L$ and chromosome-specific rates of crossover ($\\kappa$) and gene conversion ($\\gamma$).\n",
    "\n",
    "across_chr_obj_fun(): sums the chromosome-specific likelihood using the current parameter values in the optimization.\n",
    "\n",
    "heRho_estimate_genome(): runs the optimization to co-estimate all recombinaiton parameters for the genome provided.\n",
    "\n",
    "heRho_format(): formats and prints the results of the genome-wide optimization procedure"
   ]
  },
  {
   "cell_type": "code",
   "execution_count": 35,
   "id": "419d4f63",
   "metadata": {},
   "outputs": [],
   "source": [
    "def across_chr_obj_fun(x,dfArrList):\n",
    "    numChrs = len(dfArrList)\n",
    "    rList = x[0:numChrs]\n",
    "    gList = x[numChrs:numChrs+numChrs]\n",
    "    L = x[-1]\n",
    "    \n",
    "    obFun = sum([single_chr_obj_fun([rs,gs,L],arr) for (rs,gs,arr) in list(zip(rList,gList,dfArrList))])\n",
    "    \n",
    "    return(obFun)\n",
    "\n",
    "def heRho_estimate_genome(pooledChrs):\n",
    "    \n",
    "    numberChromosomes = len(pooledChrs)\n",
    "\n",
    "    lowerBounds = [0.0001 for x in range(numberChromosomes)]+ [0.0001 for x in range(numberChromosomes)]+[10]\n",
    "    upperBounds = [0.1 for x in range(numberChromosomes)]+[0.1 for x in range(numberChromosomes)]+[2000]\n",
    "    startPoints = [0.001 for x in range(numberChromosomes)]+[0.001 for x in range(numberChromosomes)]+[50]\n",
    "\n",
    "\n",
    "    opt=nlopt.opt(nlopt.LN_NELDERMEAD,numberChromosomes+numberChromosomes+1)\n",
    "\n",
    "    opt.set_lower_bounds(lowerBounds)\n",
    "    opt.set_upper_bounds(upperBounds)\n",
    "\n",
    "    opt.set_max_objective(lambda x,grad: across_chr_obj_fun(x,pooledChrs))\n",
    "\n",
    "    res = opt.optimize(startPoints)\n",
    "    return(res)\n",
    "\n",
    "\n",
    "def heRho_format(coEstimates,chrNames):\n",
    "    numChrs = len(chrNames)\n",
    "    kappas = coEstimates[0:numChrs]\n",
    "    gammas = coEstimates[numChrs:numChrs*2]\n",
    "    L = coEstimates[-1]\n",
    "    print(\"Global estimate of tract length L = {}\".format(L))\n",
    "    print(\"chr\\tkappa\\tgamma\")\n",
    "    for name, kappa, gamma in list(zip(chrNames, kappas, gammas)):\n",
    "        print(\"{}\\t{}\\t{}\".format(name, kappa, gamma))"
   ]
  },
  {
   "cell_type": "markdown",
   "id": "d3805e07",
   "metadata": {},
   "source": [
    "#### Minimum distance choice\n",
    "\n",
    "Above, we looked at how the choice of minimum distance affects the recombination estimates independently for each chromosome. Excepting the poor data at short distances, the estimates should be 'stable' over a range of minimum distances, $d_{min}$ as long as there is sufficient data remaining. \n",
    "\n",
    "Based on the observations above, we decide to use a minimum distance of 100 bp in the final analysis, i.e. we remove pairs of sites at a distance $d_{min} < 100$ from the data set:"
   ]
  },
  {
   "cell_type": "code",
   "execution_count": 36,
   "id": "b87df646",
   "metadata": {},
   "outputs": [],
   "source": [
    "minimumDistanceChosen = 100\n",
    "pooledDataByChrWithMinDist = [ x[ x[:,0] >= minimumDistanceChosen] for x in pooledDataByChr]"
   ]
  },
  {
   "cell_type": "markdown",
   "id": "4de3d7b9",
   "metadata": {},
   "source": [
    "With a minimum distance chosen, we can co-estimate the genome-wide recombination rate parameters"
   ]
  },
  {
   "cell_type": "code",
   "execution_count": 37,
   "id": "4a80f0c1",
   "metadata": {},
   "outputs": [
    {
     "ename": "NameError",
     "evalue": "name 'HeRho_estimate' is not defined",
     "output_type": "error",
     "traceback": [
      "\u001b[0;31m---------------------------------------------------------------------------\u001b[0m",
      "\u001b[0;31mNameError\u001b[0m                                 Traceback (most recent call last)",
      "\u001b[0;32m<ipython-input-37-d8b6b25567e3>\u001b[0m in \u001b[0;36m<module>\u001b[0;34m\u001b[0m\n\u001b[0;32m----> 1\u001b[0;31m \u001b[0mrhoCoEstimates\u001b[0m \u001b[0;34m=\u001b[0m \u001b[0mHeRho_estimate\u001b[0m\u001b[0;34m(\u001b[0m\u001b[0mpooledDataByChrWithMinDist\u001b[0m\u001b[0;34m)\u001b[0m\u001b[0;34m\u001b[0m\u001b[0;34m\u001b[0m\u001b[0m\n\u001b[0m",
      "\u001b[0;31mNameError\u001b[0m: name 'HeRho_estimate' is not defined"
     ]
    }
   ],
   "source": [
    "rhoCoEstimates = heRho_estimate_genome(pooledDataByChrWithMinDist)"
   ]
  },
  {
   "cell_type": "markdown",
   "id": "8bc1440c",
   "metadata": {},
   "source": [
    "Finally, we format and print the results "
   ]
  },
  {
   "cell_type": "code",
   "execution_count": 172,
   "id": "67d6559f",
   "metadata": {},
   "outputs": [
    {
     "name": "stdout",
     "output_type": "stream",
     "text": [
      "Global estimate of tract length L = 112.64071181609407\n",
      "chr\tkappa\tgamma\n",
      "chr1\t0.0014130773845440032\t0.002389442767085215\n",
      "chr2\t0.0017174430276408752\t0.003543906102984039\n"
     ]
    }
   ],
   "source": [
    "heRho_format(rhoCoEstimates,chrNames)"
   ]
  },
  {
   "cell_type": "code",
   "execution_count": null,
   "id": "dca69616",
   "metadata": {},
   "outputs": [],
   "source": []
  }
 ],
 "metadata": {
  "kernelspec": {
   "display_name": "Python 3 (ipykernel)",
   "language": "python",
   "name": "python3"
  },
  "language_info": {
   "codemirror_mode": {
    "name": "ipython",
    "version": 3
   },
   "file_extension": ".py",
   "mimetype": "text/x-python",
   "name": "python",
   "nbconvert_exporter": "python",
   "pygments_lexer": "ipython3",
   "version": "3.9.9"
  }
 },
 "nbformat": 4,
 "nbformat_minor": 5
}
